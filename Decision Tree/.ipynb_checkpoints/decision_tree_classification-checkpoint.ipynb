{
 "cells": [
  {
   "cell_type": "markdown",
   "id": "fd494d16-1c15-4e3f-bd05-b5efbaeb71af",
   "metadata": {
    "deletable": false,
    "editable": false
   },
   "source": [
    "<p style=\"float:right;\"><i>Created By Maroyi Bisoka on 01/02/2025</i></p>"
   ]
  },
  {
   "cell_type": "code",
   "execution_count": 1365,
   "id": "020546fd-d745-4c93-b7b2-42156b7d0a7a",
   "metadata": {},
   "outputs": [],
   "source": [
    "import numpy as np\n",
    "from copy import deepcopy\n",
    "from queue import Queue"
   ]
  },
  {
   "cell_type": "markdown",
   "id": "b854beaf-2dfa-4229-af02-2b7226b21f06",
   "metadata": {},
   "source": [
    "# Cat classification example\n",
    "\n",
    "| Ear Shape(x0) | Face Shape(x1) | Whiskers(x2) |   Cat(y)  |\n",
    "|:---------:|:-----------:|:---------:|:------:|\n",
    "|   Pointy   |   Round     |  Present  |    1   |\n",
    "|   Floppy   |  Not Round  |  Present  |    1   |\n",
    "|   Floppy   |  Round      |  Absent   |    0   |\n",
    "|   Pointy   |  Not Round  |  Present  |    0   |\n",
    "|   Pointy   |   Round     |  Present  |    1   |\n",
    "|   Pointy   |   Round     |  Absent   |    1   |\n",
    "|   Floppy   |  Not Round  |  Absent   |    0   |\n",
    "|   Pointy   |  Round      |  Absent   |    1   |\n",
    "|    Floppy  |   Round     |  Absent   |    0   |\n",
    "|   Floppy   |  Round      |  Absent   |    0   |\n",
    "\n",
    "We will use **one-hot encoding** to encode the categorical features. They will be as follows:\n",
    "\n",
    "- Ear Shape: Pointy = 1, Floppy = 0\n",
    "- Face Shape: Round = 1, Not Round = 0\n",
    "- Whiskers: Present = 1, Absent = 0\n",
    "\n",
    "#### In this material We are going to build a decision tree for a cat classification example from scratch"
   ]
  },
  {
   "cell_type": "code",
   "execution_count": 1367,
   "id": "fd54bbd3-3b00-4136-9eee-b9b47821b449",
   "metadata": {},
   "outputs": [],
   "source": [
    "X_train = np.array([\n",
    "    [1, 1, 1],\n",
    "    [0, 0, 1],\n",
    "    [0, 1, 0],\n",
    "    [1, 0, 1],\n",
    "    [1, 1, 1],\n",
    "    [1, 1, 0],\n",
    "    [0, 0, 0],\n",
    "    [1, 1, 0],\n",
    "    [0, 1, 0],\n",
    "    [0, 1, 0]\n",
    "])\n",
    "\n",
    "y_train = np.array([1, 1, 0, 0, 1, 1, 0, 1, 0, 0])"
   ]
  },
  {
   "cell_type": "code",
   "execution_count": 1368,
   "id": "dbfea6ea-cd90-479c-94ef-8f0d3058ef49",
   "metadata": {},
   "outputs": [],
   "source": [
    "# Entropy as a measure of impurity\n",
    "def compute_entropy(p1):\n",
    "    if p1 == 0 or p1 == 1:\n",
    "        return 0\n",
    "    else:\n",
    "        return -p1 * np.log2(p1) - (1-p1)*np.log2(1-p1)"
   ]
  },
  {
   "cell_type": "code",
   "execution_count": 1369,
   "id": "0e7cf734-78c5-458d-bd28-e8a67a89a4f8",
   "metadata": {},
   "outputs": [
    {
     "data": {
      "text/plain": [
       "0.9709505944546686"
      ]
     },
     "execution_count": 1369,
     "metadata": {},
     "output_type": "execute_result"
    }
   ],
   "source": [
    "# p1 Means fraction of elements that are classified as 1\n",
    "p1 = 4/10\n",
    "entropy(p1)"
   ]
  },
  {
   "cell_type": "code",
   "execution_count": 1370,
   "id": "01c76695-cd22-43c8-9edb-99b0afce7ede",
   "metadata": {},
   "outputs": [],
   "source": [
    "# Will be used to split based on a feature if x[feature] == 1 --> left side else right side\n",
    "# Example given cat classification example and we want to split on Ear shape\n",
    "# one-hot encoding (pointy = 1 and floppy = 0)\n",
    "# so for each element in cat classification example :\n",
    "#     if element[Ear_shape] == 1 (means is pointy):\n",
    "#         move element[Ear_shape] to left side\n",
    "#     else:\n",
    "#         move element[Ear_shape] to right side\n",
    "def split_left_and_right(X, index_feature):\n",
    "    left_side = []\n",
    "    right_side = []\n",
    "\n",
    "    for i in range(len(X)):\n",
    "        element = X[i]\n",
    "        if element[index_feature] == 1:\n",
    "            left_side.append(i)\n",
    "        else:\n",
    "            right_side.append(i)\n",
    "    return left_side, right_side"
   ]
  },
  {
   "cell_type": "code",
   "execution_count": 1371,
   "id": "3cc09868-28b5-467e-ad13-cc64842b1edd",
   "metadata": {},
   "outputs": [],
   "source": [
    "def compute_weighted_entropy(X, y, left_side, right_side, entropy_function):\n",
    "    # p1_left and w_left calculation\n",
    "    p1_left = 0 if len(left_side) == 0 else sum(y[left_side]) / len(left_side) # Avoid division by zero  (when trying to find w_entropy where parent_node feature is same as child feature)\n",
    "    w_left = len(left_side) / len(X)\n",
    "\n",
    "    # p1_right and w_right calculation\n",
    "    p1_right = 0 if len(right_side) == 0 else sum(y[right_side]) / len(right_side) # Avoid division by zero  (when trying to find w_entropy where parent_node feature is same as child feature\n",
    "    w_right = len(right_side) / len(X)\n",
    "    # weighted_entropy calculation\n",
    "    w_entropy = w_left*entropy_function(p1_left) + w_right*entropy_function(p1_right)\n",
    "    return w_entropy"
   ]
  },
  {
   "cell_type": "code",
   "execution_count": 1372,
   "id": "05375a78-c9a8-4086-89b8-fdd6ef3b6b25",
   "metadata": {},
   "outputs": [],
   "source": [
    "def compute_information_gain(X, y, left_side, right_side, entropy_function, weighted_entropy_function):\n",
    "    p1_node = sum(y)/len(y)\n",
    "    h_node = entropy_function(p1_node)\n",
    "    w_entropy = weighted_entropy_function(X, y, left_side, right_side, entropy_function)\n",
    "    return h_node - w_entropy"
   ]
  },
  {
   "cell_type": "markdown",
   "id": "7976432a-399e-4349-9833-89b2a9a8243d",
   "metadata": {},
   "source": [
    "#### Suppose we are still trying to choose the first split feature (root node)\n",
    "#### So we have to find information gain of all the 3 feature and choose the best one "
   ]
  },
  {
   "cell_type": "code",
   "execution_count": 1374,
   "id": "2b7e6576-f617-441d-ab2b-8d6e4e474745",
   "metadata": {},
   "outputs": [
    {
     "name": "stdout",
     "output_type": "stream",
     "text": [
      "Feature : Ear shape\n",
      "Left side (Pointy) :  [0, 3, 4, 5, 7]\n",
      "Right side (Floppy) : [1, 2, 6, 8, 9]\n",
      "Information Gain of Ear shape 0.28\n"
     ]
    }
   ],
   "source": [
    "# Information gain of Ear shape (index_feature = 0)\n",
    "left_side, right_side = split_left_and_right(X_train, 0)\n",
    "print('Feature : Ear shape')\n",
    "print(f'Left side (Pointy) :  {left_side}')\n",
    "print(f'Right side (Floppy) : {right_side}')\n",
    "ig = compute_information_gain(X_train, y_train, left_side, right_side, compute_entropy, compute_weighted_entropy)\n",
    "print(f'Information Gain of Ear shape {ig:.2f}')"
   ]
  },
  {
   "cell_type": "code",
   "execution_count": 1375,
   "id": "618b496f-64af-41eb-ac84-b9965a609ec3",
   "metadata": {},
   "outputs": [
    {
     "name": "stdout",
     "output_type": "stream",
     "text": [
      "Feature : Face shape\n",
      "Left side (Round) :  [0, 2, 4, 5, 7, 8, 9]\n",
      "Right side (Not Round) : [1, 3, 6]\n",
      "Information Gain of Face shape 0.03\n"
     ]
    }
   ],
   "source": [
    "# Information gain of Face shape (index_feature = 1)\n",
    "left_side, right_side = split_left_and_right(X_train, 1)\n",
    "print('Feature : Face shape')\n",
    "print(f'Left side (Round) :  {left_side}')\n",
    "print(f'Right side (Not Round) : {right_side}')\n",
    "ig = compute_information_gain(X_train, y_train, left_side, right_side, compute_entropy, compute_weighted_entropy)\n",
    "print(f'Information Gain of Face shape {ig:.2f}')"
   ]
  },
  {
   "cell_type": "code",
   "execution_count": 1376,
   "id": "bfe5c93f-bb63-43c4-9fab-f277d9aeb755",
   "metadata": {},
   "outputs": [
    {
     "name": "stdout",
     "output_type": "stream",
     "text": [
      "Feature : Whiskers\n",
      "Left side (Present) :  [0, 1, 3, 4]\n",
      "Right side (Absent) : [2, 5, 6, 7, 8, 9]\n",
      "Information Gain of Whiskers 0.12\n"
     ]
    }
   ],
   "source": [
    "# Information gain of Whiskers (index_feature = 2)\n",
    "left_side, right_side = split_left_and_right(X_train, 2)\n",
    "print('Feature : Whiskers')\n",
    "print(f'Left side (Present) :  {left_side}')\n",
    "print(f'Right side (Absent) : {right_side}')\n",
    "ig = compute_information_gain(X_train, y_train, left_side, right_side, compute_entropy, compute_weighted_entropy)\n",
    "print(f'Information Gain of Whiskers {ig:.2f}')"
   ]
  },
  {
   "cell_type": "markdown",
   "id": "df9f9814-2512-4873-95ba-bd03919b50d8",
   "metadata": {},
   "source": [
    "<hr />\n",
    "\n",
    "Among all informations gain:\n",
    "- Ear shape: **0.28**\n",
    "- Face shape: **0.03**\n",
    "- Whiskers: **0.12**\n",
    "  \n",
    "We choose **Ear Shape** since it has the highest IG. And we'll recusivelly spit on that feature"
   ]
  },
  {
   "cell_type": "code",
   "execution_count": 1378,
   "id": "76699d87-7a00-4705-856b-d765ddcdcbf0",
   "metadata": {},
   "outputs": [
    {
     "name": "stdout",
     "output_type": "stream",
     "text": [
      "Best Feature is Ear Shape with IG 0.28\n"
     ]
    }
   ],
   "source": [
    "# We can still do the same thing here in a loop\n",
    "m,n = X_train.shape\n",
    "features = ['Ear Shape', 'Face Shape', 'Whiskers']\n",
    "best_feat_idx = -1\n",
    "best_IG = None\n",
    "for i in range (n):\n",
    "    left_side, right_side = split_left_and_right(X_train, i)\n",
    "    ig = compute_information_gain(X_train, y_train, left_side, right_side, compute_entropy, compute_weighted_entropy)\n",
    "    if best_IG is None or ig > best_IG:\n",
    "        best_IG, best_feat_idx = ig, i\n",
    "\n",
    "print(f'Best Feature is {features[best_feat_idx]} with IG {best_IG:.2f}')"
   ]
  },
  {
   "cell_type": "markdown",
   "id": "bf75d7ad-5517-4a70-a531-aa00ab1e2c4d",
   "metadata": {},
   "source": [
    "### Building our Binary Tree with a recursive function"
   ]
  },
  {
   "cell_type": "code",
   "execution_count": 1380,
   "id": "3b64b13b-ac7d-4f14-8fd3-6c167151c216",
   "metadata": {},
   "outputs": [],
   "source": [
    "class Node:\n",
    "    def __init__(self):\n",
    "        self.X = []\n",
    "        self.p1 = -1\n",
    "        self.IG = None\n",
    "        self.left = None\n",
    "        self.right = None\n",
    "        self.end_node = False\n",
    "        self.feature_name = None\n",
    "        self.feature_index = None"
   ]
  },
  {
   "cell_type": "code",
   "execution_count": 1381,
   "id": "5bad30d3-55f1-4580-ace1-3604d487d415",
   "metadata": {},
   "outputs": [],
   "source": [
    "def build_tree_helper(X, y,  compute_entropy_function,  split_left_and_right_function, compute_weighted_entropy_function, \n",
    "                       compute_information_gain_function, max_depth, curr_depth):\n",
    "    if curr_depth == max_depth: # This refers to our stopping criteria\n",
    "        node = Node()\n",
    "        node.end_node = True\n",
    "        node.p1 = sum(y) / len(X)\n",
    "        return node\n",
    "        \n",
    "    m, n = len(X), len(X[0])\n",
    "\n",
    "    features = ['Ear Shape', 'Face Shape', 'Whiskers']\n",
    "    best_feat_idx = -1\n",
    "    best_left_side, best_right_side = [], []\n",
    "    best_IG = None\n",
    "    \n",
    "    for i in range (n):\n",
    "        left_side, right_side = split_left_and_right_function(X, i)\n",
    "        ig = compute_information_gain_function(X, y, left_side, right_side, compute_entropy_function, compute_weighted_entropy_function)\n",
    "        if best_IG is None or ig > best_IG:\n",
    "            best_IG, best_feat_idx = ig, i\n",
    "            best_left_side, best_right_side = left_side, right_side\n",
    "    \n",
    "    node = Node()\n",
    "    node.feature_name = features[best_feat_idx]\n",
    "    node.feature_index = best_feat_idx\n",
    "    node.IG = best_IG\n",
    "    node.X = deepcopy(X)\n",
    "    \n",
    "    # ------------------------------------------------------------------------\n",
    "    # Debugging... \n",
    "    # print(f'curr_depth: {curr_depth}')\n",
    "    # print(f'Best Feature is {features[best_feat_idx]} with IG {best_IG:.2f}')\n",
    "    # print(f'Left side :  {best_left_side} & Right side {best_right_side}')\n",
    "    # print(f'Left next X {X[best_left_side]} & Next y {y[best_left_side]}')\n",
    "    # print(f'Right next X {X[best_right_side]} & Next y {y[best_right_side]}')\n",
    "    # ------------------------------------------------------------------------\n",
    "    \n",
    "    # Build left side\n",
    "    node.left = build_tree_helper(X[best_left_side], y[best_left_side],  compute_entropy_function,  split_left_and_right_function, compute_weighted_entropy_function, \n",
    "                       compute_information_gain_function, max_depth, curr_depth+1)\n",
    "    # Build right side\n",
    "    node.right = build_tree_helper(X[best_right_side], y[best_right_side],  compute_entropy_function,  split_left_and_right_function, compute_weighted_entropy_function, \n",
    "                       compute_information_gain_function, max_depth, curr_depth+1)\n",
    "    \n",
    "    if node.left.end_node is True and node.right.end_node is True:\n",
    "        node.left.feature_name  = 1 if node.left.p1 > node.right.p1 else 0\n",
    "        node.right.feature_name = 1 if node.right.p1 > node.left.p1 else 0\n",
    "\n",
    "    return node"
   ]
  },
  {
   "cell_type": "code",
   "execution_count": 1382,
   "id": "40fc545e-597b-446b-9da1-022896edfe41",
   "metadata": {},
   "outputs": [],
   "source": [
    "def build_tree(X, y, compute_entropy_function,  split_left_and_right_function, compute_weighted_entropy_function, \n",
    "               compute_information_gain_function, max_depth):\n",
    "    \n",
    "    root = build_tree_helper(X, y,  compute_entropy_function,  split_left_and_right_function, compute_weighted_entropy_function, \n",
    "               compute_information_gain_function, max_depth, 0)\n",
    "    return root"
   ]
  },
  {
   "cell_type": "code",
   "execution_count": 1383,
   "id": "ab62dcb8-b45c-43b7-89d6-4830b1067073",
   "metadata": {},
   "outputs": [],
   "source": [
    "root = build_tree(X_train, y_train, compute_entropy, split_left_and_right, compute_weighted_entropy, compute_information_gain, 2)"
   ]
  },
  {
   "cell_type": "code",
   "execution_count": 1384,
   "id": "8e5787e5-077c-4ac4-911a-d96cd70e305d",
   "metadata": {},
   "outputs": [],
   "source": [
    "# Display tree \n",
    "def level_order(root, max_depth):\n",
    "    q = Queue()\n",
    "    print('--------------------------------------------')\n",
    "    q.put(root) # endqueue\n",
    "    while not q.empty():\n",
    "        root = q.get() # dequeue\n",
    "        if root.feature_name != 1 and root.feature_name != 0:\n",
    "            print(f'Node : *** {root.feature_name} ***')\n",
    "        if root.left:\n",
    "            print(f'if feature {root.feature_name} is 1:')\n",
    "            if root.left.feature_name == 1 or root.left.feature_name == 0:\n",
    "                ans = '1 (Cat)' if root.left.feature_name == 1 else '0 (Not Cat)'\n",
    "                print(f'\\t Reached leaf node : {ans}')\n",
    "            else:\n",
    "                print(f'\\t Go to left: {root.left.feature_name}')\n",
    "            q.put(root.left)\n",
    "        if root.right:\n",
    "            print(f'else:')\n",
    "            if root.right.feature_name == 1 or root.right.feature_name == 0:\n",
    "                ans = '1 (Cat)' if root.right.feature_name == 1 else '0 (Not Cat)'\n",
    "                print(f'\\t Reached leaf node : {ans}')\n",
    "            else:\n",
    "                print(f'\\t Got to right: {root.right.feature_name}')\n",
    "            q.put(root.right)\n",
    "        \n",
    "        if root.feature_name != 1 and root.feature_name != 0:\n",
    "            print('--------------------------------------------')"
   ]
  },
  {
   "cell_type": "code",
   "execution_count": 1385,
   "id": "003edd7f-c6e7-4588-9a82-86e5f5340960",
   "metadata": {},
   "outputs": [
    {
     "name": "stdout",
     "output_type": "stream",
     "text": [
      "--------------------------------------------\n",
      "Node : *** Ear Shape ***\n",
      "if feature Ear Shape is 1:\n",
      "\t Go to left: Face Shape\n",
      "else:\n",
      "\t Got to right: Whiskers\n",
      "--------------------------------------------\n",
      "Node : *** Face Shape ***\n",
      "if feature Face Shape is 1:\n",
      "\t Reached leaf node : 1 (Cat)\n",
      "else:\n",
      "\t Reached leaf node : 0 (Not Cat)\n",
      "--------------------------------------------\n",
      "Node : *** Whiskers ***\n",
      "if feature Whiskers is 1:\n",
      "\t Reached leaf node : 1 (Cat)\n",
      "else:\n",
      "\t Reached leaf node : 0 (Not Cat)\n",
      "--------------------------------------------\n"
     ]
    }
   ],
   "source": [
    "# Displaying Our Decision Tree\n",
    "# REMEMBER !!!  We used one-hot encoding to encode the categorical features as follows:\n",
    "    # Ear Shape: Pointy = 1, Floppy = 0\n",
    "    # Face Shape: Round = 1, Not Round = 0\n",
    "    # Whiskers: Present = 1, Absent = 0\n",
    "level_order(root, 2)"
   ]
  },
  {
   "cell_type": "code",
   "execution_count": 1386,
   "id": "71749f50-ab1b-49a9-8eb1-2e93d6dbbbde",
   "metadata": {},
   "outputs": [],
   "source": [
    "def compute_prediction_helper(root, x_test):\n",
    "    # If feature value is 1 : go to left \n",
    "    # else : go to right\n",
    "    ans = None\n",
    "    if root.end_node:\n",
    "        return root.feature_name\n",
    "    feature_index = root.feature_index\n",
    "    if x_test[feature_index] == 1:\n",
    "        ans = compute_prediction_helper(root.left, x_test)\n",
    "    else:\n",
    "        ans = compute_prediction_helper(root.right, x_test)\n",
    "\n",
    "    return ans"
   ]
  },
  {
   "cell_type": "code",
   "execution_count": 1387,
   "id": "3d15c0b1-03ee-46a2-bf8d-f6461c122be9",
   "metadata": {},
   "outputs": [],
   "source": [
    "# Compute single prediction\n",
    "def compute_prediction(root, test_example):\n",
    "    prediction = compute_prediction_helper(root, test_example)\n",
    "    return prediction"
   ]
  },
  {
   "cell_type": "code",
   "execution_count": 1388,
   "id": "c1ba6020-2a87-4dcd-b51a-172870a1dd6d",
   "metadata": {},
   "outputs": [
    {
     "name": "stdout",
     "output_type": "stream",
     "text": [
      "Example [1 1 1] & prediction : 1 actual : 1\n",
      "Example [0 0 1] & prediction : 1 actual : 1\n",
      "Example [0 1 0] & prediction : 0 actual : 0\n",
      "Example [1 0 1] & prediction : 0 actual : 0\n",
      "Example [1 1 1] & prediction : 1 actual : 1\n",
      "Example [1 1 0] & prediction : 1 actual : 1\n",
      "Example [0 0 0] & prediction : 0 actual : 0\n",
      "Example [1 1 0] & prediction : 1 actual : 1\n",
      "Example [0 1 0] & prediction : 0 actual : 0\n",
      "Example [0 1 0] & prediction : 0 actual : 0\n"
     ]
    }
   ],
   "source": [
    "# Testing our Decision Tree our X_train (training dataset)\n",
    "# if pred is 1 --> Cat \n",
    "# if pred is 0 --> Not Cat\n",
    "for i, test_example in enumerate(X_train):\n",
    "    pred = compute_prediction(root, test_example)\n",
    "    print(f'Example {test_example} & prediction : {pred} actual : {y_train[i]}')"
   ]
  }
 ],
 "metadata": {
  "kernelspec": {
   "display_name": "Python [conda env:base] *",
   "language": "python",
   "name": "conda-base-py"
  },
  "language_info": {
   "codemirror_mode": {
    "name": "ipython",
    "version": 3
   },
   "file_extension": ".py",
   "mimetype": "text/x-python",
   "name": "python",
   "nbconvert_exporter": "python",
   "pygments_lexer": "ipython3",
   "version": "3.11.4"
  }
 },
 "nbformat": 4,
 "nbformat_minor": 5
}
