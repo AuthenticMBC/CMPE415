{
 "cells": [
  {
   "cell_type": "markdown",
   "id": "6432ce65-70cb-4c14-a65c-d419511680dd",
   "metadata": {
    "deletable": false,
    "editable": false
   },
   "source": [
    "<p style=\"float:right;\"><i>Created By Maroyi Bisoka on 04/02/2025</i></p>"
   ]
  },
  {
   "cell_type": "code",
   "execution_count": 335,
   "id": "f39f8997-2710-4d4a-8b56-24cc626f17a1",
   "metadata": {},
   "outputs": [],
   "source": [
    "import numpy as np\n",
    "from copy import deepcopy\n",
    "from queue import Queue"
   ]
  },
  {
   "cell_type": "markdown",
   "id": "3abdf86c-1f5e-4de1-b805-51a41dd4c551",
   "metadata": {},
   "source": [
    "### Regression with Decision Trees: Predicting continious value\n",
    "\n",
    "| Ear Shape(x0) | Face Shape(x1) | Whiskers(x2) | Weight(y) |\n",
    "|:-------------:|:--------------:|:------------:|:----------:| \n",
    "|   Pointy   |   Round     |  Present  |    7.2    |\n",
    "|   Floppy   |  Not Round  |  Present  |    8.8    |\n",
    "|   Floppy   |  Round      |  Absent   |    15     |\n",
    "|   Pointy   |  Not Round  |  Present  |    9.2    |\n",
    "|   Pointy   |   Round     |  Present  |    8.4    |\n",
    "|   Pointy   |   Round     |  Absent   |    7.6    |\n",
    "|   Floppy   |  Not Round  |  Absent   |    11     |\n",
    "|   Pointy   |  Round      |  Absent   |    10.2   |\n",
    "|    Floppy  |   Round     |  Absent   |    18     |\n",
    "|   Floppy   |  Round      |  Absent   |    20     |"
   ]
  },
  {
   "cell_type": "code",
   "execution_count": 337,
   "id": "2d738f63-6639-4e2b-88cd-acb806bf6541",
   "metadata": {},
   "outputs": [],
   "source": [
    "X_train = np.array([\n",
    "    [1, 1, 1],\n",
    "    [0, 0, 1],\n",
    "    [0, 1, 0],\n",
    "    [1, 0, 1],\n",
    "    [1, 1, 1],\n",
    "    [1, 1, 0],\n",
    "    [0, 0, 0],\n",
    "    [1, 1, 0],\n",
    "    [0, 1, 0],\n",
    "    [0, 1, 0]\n",
    "])\n",
    "y_train = np.array([ 7.2,  8.8, 15. ,  9.2,  8.4,  7.6, 11. , 10.2, 18. , 20. ])"
   ]
  },
  {
   "cell_type": "code",
   "execution_count": 338,
   "id": "37a86202-1cc1-4310-8880-a58cc8e66fbd",
   "metadata": {},
   "outputs": [],
   "source": [
    "def split_left_and_right(X, index_feature):\n",
    "    left_side, right_side = [], []\n",
    "\n",
    "    for i in range(len(X)):\n",
    "        element = X[i]\n",
    "        if element[index_feature] == 1:\n",
    "            left_side.append(i)\n",
    "        else:\n",
    "            right_side.append(i)\n",
    "            \n",
    "    return left_side, right_side"
   ]
  },
  {
   "cell_type": "code",
   "execution_count": 339,
   "id": "812e413c-728a-466a-999c-eb8e71661975",
   "metadata": {},
   "outputs": [],
   "source": [
    "def compute_weighted_variance(X, y, left_side, right_side):\n",
    "    var_left = np.var(y[left_side], ddof=1)\n",
    "    w_left = len(left_side) / len(X)\n",
    "\n",
    "    var_right = np.var(y[right_side], ddof=1)\n",
    "    w_right = len(right_side) / len(X)\n",
    "    w_var = w_left*var_left + w_right*var_right\n",
    "    \n",
    "    return w_var"
   ]
  },
  {
   "cell_type": "code",
   "execution_count": 340,
   "id": "50a495f9-0ef1-4e69-bae6-4c092ecaddf6",
   "metadata": {},
   "outputs": [],
   "source": [
    "def compute_information_gain(X, y, left_side, right_side):\n",
    "    var_root = np.var(y, ddof=1)\n",
    "    w_var = compute_weighted_variance(X, y, left_side, right_side)\n",
    "    \n",
    "    return var_root - w_var"
   ]
  },
  {
   "cell_type": "code",
   "execution_count": 341,
   "id": "c5c71cc0-767a-4fff-881a-0533a15a064b",
   "metadata": {},
   "outputs": [
    {
     "name": "stdout",
     "output_type": "stream",
     "text": [
      "Feature : Ear shape\n",
      "Left side (Pointy) :  [0, 3, 4, 5, 7]\n",
      "Right side (Floppy) : [1, 2, 6, 8, 9]\n",
      "Information Gain of Ear shape 8.84\n"
     ]
    }
   ],
   "source": [
    "# Information gain of Ear shape (index_feature = 0)\n",
    "left_side, right_side = split_left_and_right(X_train, 0)\n",
    "print('Feature : Ear shape')\n",
    "print(f'Left side (Pointy) :  {left_side}')\n",
    "print(f'Right side (Floppy) : {right_side}')\n",
    "ig = compute_information_gain(X_train, y_train, left_side, right_side)\n",
    "print(f'Information Gain of Ear shape {ig:.2f}')"
   ]
  },
  {
   "cell_type": "code",
   "execution_count": null,
   "id": "fb99d4e6-78b3-49f5-bcdb-050d19cd93c4",
   "metadata": {},
   "outputs": [],
   "source": []
  },
  {
   "cell_type": "code",
   "execution_count": 342,
   "id": "bbee66b1-2088-4563-8b2f-56891b575adb",
   "metadata": {},
   "outputs": [],
   "source": [
    "class Node:\n",
    "    def __init__(self):\n",
    "        self.X = []\n",
    "        self.var = None\n",
    "        self.IG = None\n",
    "        self.left = None\n",
    "        self.right = None\n",
    "        self.end_node = False\n",
    "        self.feature_name = None\n",
    "        self.feature_index = None"
   ]
  },
  {
   "cell_type": "code",
   "execution_count": 343,
   "id": "c19e99ce-b014-4da2-ac70-392fe5d0cb91",
   "metadata": {},
   "outputs": [],
   "source": [
    "def build_tree_helper(X, y, features_names, p_index, max_depth, curr_depth):\n",
    "    # If True, means we reach max depth --> create leaf node    \n",
    "    if curr_depth == max_depth: \n",
    "        node = Node()\n",
    "        node.end_node = True\n",
    "        node.feature_name = np.mean(y)\n",
    "        return node\n",
    "        \n",
    "    m, n = len(X), len(X[0])\n",
    "\n",
    "    # features = ['Ear Shape', 'Face Shape', 'Whiskers']\n",
    "    best_feat_idx = -1\n",
    "    best_left_side, best_right_side = [], []\n",
    "    best_IG = None\n",
    "    \n",
    "    for i in range (n):\n",
    "        if i == p_index:\n",
    "            continue\n",
    "        left_side, right_side = split_left_and_right(X, i)\n",
    "        ig = compute_information_gain(X, y, left_side, right_side)\n",
    "        if best_IG is None or ig > best_IG:\n",
    "            best_IG, best_feat_idx = ig, i\n",
    "            best_left_side, best_right_side = left_side, right_side\n",
    "    \n",
    "    node = Node()\n",
    "    node.feature_name = features_names[best_feat_idx]\n",
    "    node.feature_index = best_feat_idx\n",
    "    node.IG = best_IG\n",
    "    node.X = deepcopy(X)\n",
    "    \n",
    "    # Build left side\n",
    "    node.left = build_tree_helper(X[best_left_side], y[best_left_side], features_names, node.feature_index, max_depth, curr_depth+1)\n",
    "    # Build right side\n",
    "    node.right = build_tree_helper(X[best_right_side], y[best_right_side], features_names, node.feature_index, max_depth, curr_depth+1)\n",
    "\n",
    "    return node"
   ]
  },
  {
   "cell_type": "code",
   "execution_count": 344,
   "id": "432e06da-dbcb-41b5-bba8-de10986d2eaa",
   "metadata": {},
   "outputs": [],
   "source": [
    "def build_tree(X, y, features_names, max_depth):\n",
    "    start_depth = 0\n",
    "    p_node_idx = -1\n",
    "    root = build_tree_helper(X, y, features_names, p_node_idx, max_depth, start_depth)\n",
    "    return root"
   ]
  },
  {
   "cell_type": "code",
   "execution_count": 345,
   "id": "50786ce9-5609-4acd-a329-6e9a04b768e0",
   "metadata": {},
   "outputs": [],
   "source": [
    "# Display tree \n",
    "def level_order(root):\n",
    "    q = Queue()\n",
    "    print('--------------------------------------------')\n",
    "    q.put(root) # endqueue\n",
    "    while not q.empty():\n",
    "        root = q.get() # dequeue\n",
    "        if type(root.feature_name) == str:\n",
    "            print(f'Node : *** {root.feature_name} ***')\n",
    "        if root.left:\n",
    "            print(f'if feature {root.feature_name} is 1')\n",
    "            if root.left.end_node is True:\n",
    "                print(f'\\t Prediction : {root.left.feature_name:.2f}')\n",
    "            else:\n",
    "                print(f'\\t Go to left: {root.left.feature_name}')\n",
    "                \n",
    "            q.put(root.left)\n",
    "        if root.right:\n",
    "            print(f'else:')\n",
    "            if root.right.end_node is True:\n",
    "                print(f'\\t Prediction : {root.right.feature_name:.2f}')\n",
    "            else:\n",
    "                print(f'\\t Got to right: {root.right.feature_name}')\n",
    "            q.put(root.right)\n",
    "        \n",
    "        if type(root.feature_name) == str:\n",
    "            print('--------------------------------------------')"
   ]
  },
  {
   "cell_type": "code",
   "execution_count": 346,
   "id": "080adbe3-8b8a-49e9-b587-2e849a794504",
   "metadata": {},
   "outputs": [],
   "source": [
    "max_depth = 2\n",
    "features_names = ['Ear Shape', 'Face Shape', 'Whiskers', 'Weight']\n",
    "root = build_tree(X_train, y_train, features_names, max_depth)"
   ]
  },
  {
   "cell_type": "code",
   "execution_count": 347,
   "id": "753e4403-80a8-4bca-928c-122682f5aa8e",
   "metadata": {},
   "outputs": [
    {
     "name": "stdout",
     "output_type": "stream",
     "text": [
      "--------------------------------------------\n",
      "Node : *** Ear Shape ***\n",
      "if feature Ear Shape is 1\n",
      "\t Go to left: Face Shape\n",
      "else:\n",
      "\t Got to right: Face Shape\n",
      "--------------------------------------------\n",
      "Node : *** Face Shape ***\n",
      "if feature Face Shape is 1\n",
      "\t Prediction : 8.35\n",
      "else:\n",
      "\t Prediction : 9.20\n",
      "--------------------------------------------\n",
      "Node : *** Face Shape ***\n",
      "if feature Face Shape is 1\n",
      "\t Prediction : 17.67\n",
      "else:\n",
      "\t Prediction : 9.90\n",
      "--------------------------------------------\n"
     ]
    }
   ],
   "source": [
    "level_order(root)"
   ]
  },
  {
   "cell_type": "code",
   "execution_count": 348,
   "id": "fac4194e-d1f5-4762-8056-875682ff9560",
   "metadata": {},
   "outputs": [],
   "source": [
    "def compute_prediction_helper(root, x_test):\n",
    "    # If feature value is 1 : go to left else : go to right\n",
    "    if root.end_node:\n",
    "        return root.feature_name\n",
    "    \n",
    "    feature_index = root.feature_index\n",
    "    direction = root.left if x_test[feature_index] == 1 else root.right\n",
    "\n",
    "    return compute_prediction_helper(direction, x_test)"
   ]
  },
  {
   "cell_type": "code",
   "execution_count": 349,
   "id": "e3f0e6bb-d50f-4ee1-9415-545276a2f063",
   "metadata": {},
   "outputs": [],
   "source": [
    "# Compute single prediction\n",
    "def compute_prediction(root, test_example):\n",
    "    prediction = compute_prediction_helper(root, test_example)\n",
    "    return prediction"
   ]
  },
  {
   "cell_type": "code",
   "execution_count": 350,
   "id": "69c7219e-fa67-49bc-b662-653b7550d209",
   "metadata": {},
   "outputs": [
    {
     "name": "stdout",
     "output_type": "stream",
     "text": [
      "Predicted weight for [1 1 0] is 8.35\n"
     ]
    }
   ],
   "source": [
    "x_test = np.array([1, 1, 0])\n",
    "pred_weight = compute_prediction(root, x_test)\n",
    "print(f'Predicted weight for {x_test} is {pred_weight:.2f}')"
   ]
  },
  {
   "cell_type": "code",
   "execution_count": 351,
   "id": "1619f6cc-c1f2-4d3b-81b8-5d1698e7d77e",
   "metadata": {},
   "outputs": [
    {
     "name": "stdout",
     "output_type": "stream",
     "text": [
      "Predicted weight for [0 1 0] is 17.67\n"
     ]
    }
   ],
   "source": [
    "x_test = np.array([0, 1, 0])\n",
    "pred_weight = compute_prediction(root, x_test)\n",
    "print(f'Predicted weight for {x_test} is {pred_weight:.2f}')"
   ]
  }
 ],
 "metadata": {
  "kernelspec": {
   "display_name": "Python [conda env:base] *",
   "language": "python",
   "name": "conda-base-py"
  },
  "language_info": {
   "codemirror_mode": {
    "name": "ipython",
    "version": 3
   },
   "file_extension": ".py",
   "mimetype": "text/x-python",
   "name": "python",
   "nbconvert_exporter": "python",
   "pygments_lexer": "ipython3",
   "version": "3.11.4"
  }
 },
 "nbformat": 4,
 "nbformat_minor": 5
}
