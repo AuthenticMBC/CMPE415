{
 "cells": [
  {
   "cell_type": "markdown",
   "id": "d4b0853f",
   "metadata": {},
   "source": [
    "<p style=\"float:right;\"><i>Created By Maroyi Bisoka on 24/01/2025</i></p>"
   ]
  },
  {
   "cell_type": "code",
   "execution_count": 1097,
   "id": "3c2df08f",
   "metadata": {},
   "outputs": [],
   "source": [
    "import numpy as np\n",
    "from copy import deepcopy"
   ]
  },
  {
   "cell_type": "code",
   "execution_count": 1098,
   "id": "4ef71cae",
   "metadata": {},
   "outputs": [],
   "source": [
    "def setup_maze():\n",
    "    row, col = 12, 16\n",
    "    maze = np.zeros((row, col))\n",
    "    maze[0] = np.ones(col)\n",
    "    maze[:, 0] = np.ones(row)\n",
    "    maze[-1, :] = np.ones(col)\n",
    "    maze[:, -1] = np.ones(row)\n",
    "\n",
    "    # Obstacles\n",
    "    maze[7:9, 2] = 1 \n",
    "    maze[4:7, 5:8] = 1 \n",
    "    maze[5:7, 9:10] = 1 \n",
    "    maze[9:11, 7:9] = 1 \n",
    "    maze[9:11, 7:9] = 1 \n",
    "    maze[1:3, 3] = 1\n",
    "    maze[6:9, 12] = 1\n",
    "    maze[3, 12:14] = 1\n",
    "    \n",
    "    start = (5, 0)\n",
    "    goal = (9, -1)\n",
    "    maze[start] = 5 # Starting node\n",
    "    maze[goal] = 8 # Goal point\n",
    "\n",
    "    return maze, start, goal"
   ]
  },
  {
   "cell_type": "code",
   "execution_count": null,
   "id": "c1159d6c",
   "metadata": {},
   "outputs": [],
   "source": []
  },
  {
   "cell_type": "code",
   "execution_count": 1099,
   "id": "9ef0f3de",
   "metadata": {},
   "outputs": [],
   "source": [
    "def valid_node(maze, row_pos, col_pos):\n",
    "    row, col = maze.shape\n",
    "    if row_pos < 0 or row_pos >= row: # row_pos outside maze\n",
    "        return False\n",
    "    if col_pos < 0 or col_pos >= col:# col_pos outside maze\n",
    "        return False\n",
    "    if maze[row_pos, col_pos] == 1: #Reach obstacle\n",
    "        return False \n",
    "    return True "
   ]
  },
  {
   "cell_type": "code",
   "execution_count": 1100,
   "id": "ac1a6aa1",
   "metadata": {},
   "outputs": [],
   "source": [
    "def decoder(individual):\n",
    "    codes= {'north': (0,0), 'south': (0,1), 'east': (1,0), 'west': (1,1)}\n",
    "    directions = list(zip(individual[::2], individual[1::2]))\n",
    "    path = []\n",
    "    for direction in directions:\n",
    "        for code in codes:\n",
    "            if codes[code] == direction:\n",
    "                path.append(code)\n",
    "    return path"
   ]
  },
  {
   "cell_type": "code",
   "execution_count": 1101,
   "id": "284549f5",
   "metadata": {},
   "outputs": [],
   "source": [
    "def trace_path(maze, start, path):\n",
    "    # right (east), left(west), top(north), down(south)\n",
    "    moves = {'east':(0, 1), 'west':(0, -1), 'north':(-1, 0), 'south':(1, 0)} \n",
    "    curr_row, curr_col = start\n",
    "    for direction in path:\n",
    "        move_row, move_col = moves[direction]\n",
    "        curr_row += move_row\n",
    "        curr_col += move_col\n",
    "        if not valid_node(maze, curr_row, curr_col):\n",
    "            return curr_row - move_row, curr_col - move_col\n",
    "    return curr_row, curr_col"
   ]
  },
  {
   "cell_type": "code",
   "execution_count": 1102,
   "id": "b3af6ee3",
   "metadata": {},
   "outputs": [],
   "source": [
    "def trace_path_stop_to_goal(maze, start, goal, path):\n",
    "    # right (east), left(west), top(north), down(south)\n",
    "    moves = {'east':(0, 1), 'west':(0, -1), 'north':(-1, 0), 'south':(1, 0)} \n",
    "    curr_row, curr_col = start\n",
    "    goal_row, goal_col = goal\n",
    "    for direction in path:\n",
    "        move_row, move_col = moves[direction]\n",
    "        curr_row += move_row\n",
    "        curr_col += move_col\n",
    "        if curr_row == goal_row and curr_col == goal_col:\n",
    "            return goal\n",
    "        if not valid_node(maze, curr_row, curr_col):\n",
    "            return curr_row - move_row, curr_col - move_col\n",
    "    return curr_row, curr_col"
   ]
  },
  {
   "cell_type": "code",
   "execution_count": null,
   "id": "e9e7cb46",
   "metadata": {},
   "outputs": [],
   "source": []
  },
  {
   "cell_type": "code",
   "execution_count": null,
   "id": "429afd1b",
   "metadata": {},
   "outputs": [],
   "source": []
  },
  {
   "cell_type": "code",
   "execution_count": 1103,
   "id": "c4bb3aae",
   "metadata": {},
   "outputs": [],
   "source": [
    "def crossover_operator(parent1, parent2, crossover_rate):\n",
    "    # Single point crossover operation\n",
    "    probability_rand = np.random.rand() # generate random number between [0, 1)\n",
    "    child1, child2 = [], []\n",
    "    if probability_rand < crossover_rate:\n",
    "        crossover_point = np.random.randint(1, len(parent1)-1) # generate random number between [1, len(parent1)-1)\n",
    "        # Child1\n",
    "        child1[0:crossover_point] = parent1[0:crossover_point]\n",
    "        child1[crossover_point:] = parent2[crossover_point:]\n",
    "        # Child 2\n",
    "        child2[0:crossover_point] = parent2[0:crossover_point]\n",
    "        child2[crossover_point:] = parent1[crossover_point:]\n",
    "        return child1, child2\n",
    "    else:\n",
    "        return deepcopy(parent1), deepcopy(parent2)"
   ]
  },
  {
   "cell_type": "code",
   "execution_count": 1104,
   "id": "b599a05e",
   "metadata": {},
   "outputs": [],
   "source": [
    "def mutation_operator(chromosone, mutation_rate):\n",
    "    # np.random.rand() generate random number between [0, 1)\n",
    "    for i in range(len(chromosone)):\n",
    "        if np.random.rand() < mutation_rate:\n",
    "            chromosone[i] = abs(1-chromosone[i]) # Toggle value 1 to 0 and value 0 to 1"
   ]
  },
  {
   "cell_type": "code",
   "execution_count": 1105,
   "id": "6cb4a62b",
   "metadata": {},
   "outputs": [],
   "source": [
    "def manhattan_distance(curr_row, curr_col, goal):\n",
    "    goal_row, goal_col = goal\n",
    "    return abs(curr_row - goal_row) + abs(curr_col - goal_row) + 1"
   ]
  },
  {
   "cell_type": "code",
   "execution_count": 1106,
   "id": "9eb1e9e8",
   "metadata": {},
   "outputs": [],
   "source": [
    "def compute_fitness_score(maze, start, goal, population):\n",
    "    row, col = population.shape\n",
    "    fitness = np.zeros(row)\n",
    "    for i, individual in enumerate(population):\n",
    "        path = decoder(individual)\n",
    "        pos_row, pos_col = trace_path(maze, start, path)\n",
    "        fitness[i] = 1 / manhattan_distance(pos_row, pos_col, goal)\n",
    "    return fitness"
   ]
  },
  {
   "cell_type": "code",
   "execution_count": null,
   "id": "e7ab766d",
   "metadata": {},
   "outputs": [],
   "source": []
  },
  {
   "cell_type": "code",
   "execution_count": 1107,
   "id": "b5afe6a3",
   "metadata": {},
   "outputs": [],
   "source": [
    "def get_indice(fitness, p):\n",
    "    for i, ft in enumerate(fitness):\n",
    "        if p < ft or p == ft:\n",
    "            return i"
   ]
  },
  {
   "cell_type": "code",
   "execution_count": 1108,
   "id": "083e134c",
   "metadata": {},
   "outputs": [],
   "source": [
    "def fitness_proportionate_selection(cumulative_fitness):\n",
    "    indice1 = get_indice(cumulative_fitness, np.random.rand())\n",
    "    indice2 = get_indice(cumulative_fitness, np.random.rand())\n",
    "    return indice1, indice2  "
   ]
  },
  {
   "cell_type": "code",
   "execution_count": 1109,
   "id": "7d457137",
   "metadata": {},
   "outputs": [],
   "source": [
    "def mating(population, fitness_score, crossover_rate, mutation_rate):\n",
    "    '''\n",
    "        Fitness Proportionate Selection\n",
    "        1. Find the sum of all fitness values in a population(S)\n",
    "        2. Find normalised fitness values (=fitness value/S)\n",
    "        3. Find cumulative fitness values\n",
    "    '''\n",
    "    norm_fitness = fitness_score / fitness_score.sum()\n",
    "    cumulative_fitness = np.cumsum(norm_fitness) #  Compute the cumulative sum of norm_fitness\n",
    "    pop_size = fitness_score.shape[0]\n",
    "    for i in range(0, pop_size, 2):\n",
    "        indice1, indice2 = fitness_proportionate_selection(cumulative_fitness)\n",
    "        parent1 = population[indice1]\n",
    "        parent2 = population[indice2]\n",
    "        child1, child2 = crossover_operator(parent1, parent2, crossover_rate)\n",
    "        mutation_operator(child1, mutation_rate)\n",
    "        mutation_operator(child2, mutation_rate)\n",
    "        population[i] = child1\n",
    "        population[i+1] = child2\n",
    "        \n",
    "    return population"
   ]
  },
  {
   "cell_type": "code",
   "execution_count": 1110,
   "id": "0b661884",
   "metadata": {},
   "outputs": [
    {
     "data": {
      "text/plain": [
       "array([[1., 1., 1., 1., 1., 1., 1., 1., 1., 1., 1., 1., 1., 1., 1., 1.],\n",
       "       [1., 0., 0., 1., 0., 0., 0., 0., 0., 0., 0., 0., 0., 0., 0., 1.],\n",
       "       [1., 0., 0., 1., 0., 0., 0., 0., 0., 0., 0., 0., 0., 0., 0., 1.],\n",
       "       [1., 0., 0., 0., 0., 0., 0., 0., 0., 0., 0., 0., 1., 1., 0., 1.],\n",
       "       [1., 0., 0., 0., 0., 1., 1., 1., 0., 0., 0., 0., 0., 0., 0., 1.],\n",
       "       [5., 0., 0., 0., 0., 1., 1., 1., 0., 1., 0., 0., 0., 0., 0., 1.],\n",
       "       [1., 0., 0., 0., 0., 1., 1., 1., 0., 1., 0., 0., 1., 0., 0., 1.],\n",
       "       [1., 0., 1., 0., 0., 0., 0., 0., 0., 0., 0., 0., 1., 0., 0., 1.],\n",
       "       [1., 0., 1., 0., 0., 0., 0., 0., 0., 0., 0., 0., 1., 0., 0., 1.],\n",
       "       [1., 0., 0., 0., 0., 0., 0., 1., 1., 0., 0., 0., 0., 0., 0., 8.],\n",
       "       [1., 0., 0., 0., 0., 0., 0., 1., 1., 0., 0., 0., 0., 0., 0., 1.],\n",
       "       [1., 1., 1., 1., 1., 1., 1., 1., 1., 1., 1., 1., 1., 1., 1., 1.]])"
      ]
     },
     "execution_count": 1110,
     "metadata": {},
     "output_type": "execute_result"
    }
   ],
   "source": [
    "maze, start, goal = setup_maze()\n",
    "maze"
   ]
  },
  {
   "cell_type": "code",
   "execution_count": 1111,
   "id": "22f4228a",
   "metadata": {},
   "outputs": [],
   "source": [
    "population_size = 50\n",
    "max_step = 70\n",
    "epoch = 10_000\n",
    "crossover_rate = 0.7\n",
    "mutation_rate = 0.001"
   ]
  },
  {
   "cell_type": "code",
   "execution_count": 1112,
   "id": "0235bdac",
   "metadata": {},
   "outputs": [
    {
     "data": {
      "text/plain": [
       "array([[1, 1, 1, ..., 0, 0, 0],\n",
       "       [0, 1, 0, ..., 0, 1, 0],\n",
       "       [0, 0, 0, ..., 0, 0, 1],\n",
       "       ...,\n",
       "       [0, 1, 1, ..., 0, 1, 0],\n",
       "       [1, 0, 1, ..., 0, 1, 0],\n",
       "       [1, 1, 1, ..., 1, 1, 1]])"
      ]
     },
     "execution_count": 1112,
     "metadata": {},
     "output_type": "execute_result"
    }
   ],
   "source": [
    "population = np.random.randint(2, size=(population_size, max_step))\n",
    "population"
   ]
  },
  {
   "cell_type": "code",
   "execution_count": 1113,
   "id": "a51b681e",
   "metadata": {},
   "outputs": [
    {
     "name": "stdout",
     "output_type": "stream",
     "text": [
      "[1.  1.  1.  1.  0.1 1.  1.  1.  1.  1.  1.  1.  1.  1.  1.  1.  1.  1.\n",
      " 1.  1.  1.  1.  1.  1.  1.  1.  0.1 1.  1.  1.  0.1 1.  1.  1.  1.  1.\n",
      " 1.  1.  1.  1.  1.  1.  1.  1.  1.  1.  1.  1.  1.  1. ]\n"
     ]
    },
    {
     "data": {
      "text/plain": [
       "array([[ 0],\n",
       "       [ 1],\n",
       "       [ 2],\n",
       "       [ 3],\n",
       "       [ 5],\n",
       "       [ 6],\n",
       "       [ 7],\n",
       "       [ 8],\n",
       "       [ 9],\n",
       "       [10],\n",
       "       [11],\n",
       "       [12],\n",
       "       [13],\n",
       "       [14],\n",
       "       [15],\n",
       "       [16],\n",
       "       [17],\n",
       "       [18],\n",
       "       [19],\n",
       "       [20],\n",
       "       [21],\n",
       "       [22],\n",
       "       [23],\n",
       "       [24],\n",
       "       [25],\n",
       "       [27],\n",
       "       [28],\n",
       "       [29],\n",
       "       [31],\n",
       "       [32],\n",
       "       [33],\n",
       "       [34],\n",
       "       [35],\n",
       "       [36],\n",
       "       [37],\n",
       "       [38],\n",
       "       [39],\n",
       "       [40],\n",
       "       [41],\n",
       "       [42],\n",
       "       [43],\n",
       "       [44],\n",
       "       [45],\n",
       "       [46],\n",
       "       [47],\n",
       "       [48],\n",
       "       [49]])"
      ]
     },
     "execution_count": 1113,
     "metadata": {},
     "output_type": "execute_result"
    }
   ],
   "source": [
    "idx = np.argwhere(fitness_score == 1.0)\n",
    "print(fitness_score)\n",
    "idx"
   ]
  },
  {
   "cell_type": "code",
   "execution_count": 1114,
   "id": "4125d1af",
   "metadata": {},
   "outputs": [],
   "source": [
    "for i in range(epoch):\n",
    "    fitness_score = compute_fitness_score(maze, start, goal, population)\n",
    "    population = mating(population, fitness_score, crossover_rate, mutation_rate)"
   ]
  },
  {
   "cell_type": "code",
   "execution_count": 1115,
   "id": "1b1ef051",
   "metadata": {},
   "outputs": [
    {
     "data": {
      "text/plain": [
       "array([[1, 0, 1, ..., 1, 0, 1],\n",
       "       [1, 0, 1, ..., 1, 0, 1],\n",
       "       [1, 0, 1, ..., 1, 0, 1],\n",
       "       ...,\n",
       "       [1, 0, 1, ..., 1, 0, 1],\n",
       "       [1, 0, 1, ..., 1, 0, 1],\n",
       "       [1, 0, 1, ..., 1, 0, 1]])"
      ]
     },
     "execution_count": 1115,
     "metadata": {},
     "output_type": "execute_result"
    }
   ],
   "source": [
    "population"
   ]
  },
  {
   "cell_type": "code",
   "execution_count": 1116,
   "id": "9e2d0fab",
   "metadata": {},
   "outputs": [],
   "source": [
    "# fitness_score = compute_fitness_score(maze, start, goal, population)"
   ]
  },
  {
   "cell_type": "code",
   "execution_count": null,
   "id": "ea8c0a96",
   "metadata": {},
   "outputs": [],
   "source": []
  },
  {
   "cell_type": "code",
   "execution_count": null,
   "id": "bb8a62d5",
   "metadata": {},
   "outputs": [],
   "source": []
  },
  {
   "cell_type": "code",
   "execution_count": null,
   "id": "bbada82a",
   "metadata": {},
   "outputs": [],
   "source": []
  },
  {
   "cell_type": "code",
   "execution_count": null,
   "id": "4cbda411",
   "metadata": {},
   "outputs": [],
   "source": []
  },
  {
   "cell_type": "code",
   "execution_count": null,
   "id": "07800680",
   "metadata": {},
   "outputs": [],
   "source": []
  },
  {
   "cell_type": "code",
   "execution_count": null,
   "id": "1a0f8827",
   "metadata": {},
   "outputs": [],
   "source": []
  },
  {
   "cell_type": "code",
   "execution_count": null,
   "id": "44020b2d",
   "metadata": {},
   "outputs": [],
   "source": []
  },
  {
   "cell_type": "code",
   "execution_count": null,
   "id": "9a81d583",
   "metadata": {},
   "outputs": [],
   "source": []
  },
  {
   "cell_type": "code",
   "execution_count": null,
   "id": "0452be38",
   "metadata": {},
   "outputs": [],
   "source": []
  },
  {
   "cell_type": "code",
   "execution_count": null,
   "id": "0125ee8a",
   "metadata": {},
   "outputs": [],
   "source": []
  },
  {
   "cell_type": "code",
   "execution_count": null,
   "id": "4ab2745a",
   "metadata": {},
   "outputs": [],
   "source": []
  },
  {
   "cell_type": "code",
   "execution_count": null,
   "id": "72816e73",
   "metadata": {},
   "outputs": [],
   "source": []
  },
  {
   "cell_type": "code",
   "execution_count": null,
   "id": "54285e3c",
   "metadata": {},
   "outputs": [],
   "source": []
  },
  {
   "cell_type": "code",
   "execution_count": null,
   "id": "3c141e4c",
   "metadata": {},
   "outputs": [],
   "source": []
  }
 ],
 "metadata": {
  "kernelspec": {
   "display_name": "Python 3 (ipykernel)",
   "language": "python",
   "name": "python3"
  },
  "language_info": {
   "codemirror_mode": {
    "name": "ipython",
    "version": 3
   },
   "file_extension": ".py",
   "mimetype": "text/x-python",
   "name": "python",
   "nbconvert_exporter": "python",
   "pygments_lexer": "ipython3",
   "version": "3.11.4"
  }
 },
 "nbformat": 4,
 "nbformat_minor": 5
}
