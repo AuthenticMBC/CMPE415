{
 "cells": [
  {
   "cell_type": "markdown",
   "id": "d4b0853f",
   "metadata": {},
   "source": [
    "<p style=\"float:right;\"><i>Created By Maroyi Bisoka on 24/01/2025</i></p>"
   ]
  },
  {
   "cell_type": "code",
   "execution_count": 427,
   "id": "3c2df08f",
   "metadata": {},
   "outputs": [],
   "source": [
    "import numpy as np\n",
    "from copy import deepcopy"
   ]
  },
  {
   "cell_type": "code",
   "execution_count": 428,
   "id": "4ef71cae",
   "metadata": {},
   "outputs": [],
   "source": [
    "def setup_maze():\n",
    "    row, col = 12, 16\n",
    "    maze = np.zeros((row, col))\n",
    "    maze[0] = np.ones(col)\n",
    "    maze[:, 0] = np.ones(row)\n",
    "    maze[-1, :] = np.ones(col)\n",
    "    maze[:, -1] = np.ones(row)\n",
    "\n",
    "    # Obstacles\n",
    "    maze[7:9, 2] = 1 \n",
    "    maze[4:7, 5:8] = 1 \n",
    "    maze[5:7, 9:10] = 1 \n",
    "    maze[9:11, 7:9] = 1 \n",
    "    maze[9:11, 7:9] = 1 \n",
    "    maze[1:3, 3] = 1\n",
    "    maze[6:9, 12] = 1\n",
    "    maze[3, 12:14] = 1\n",
    "    \n",
    "    start = (5, 0)\n",
    "    goal = (9, 15)\n",
    "    maze[start] = 5 # Starting node\n",
    "    maze[goal] = 8 # Goal point\n",
    "\n",
    "    return maze, start, goal"
   ]
  },
  {
   "cell_type": "code",
   "execution_count": 429,
   "id": "9ef0f3de",
   "metadata": {},
   "outputs": [],
   "source": [
    "def valid_node(maze, row_pos, col_pos):\n",
    "    row, col = maze.shape\n",
    "    if row_pos < 0 or row_pos >= row: # row_pos outside maze\n",
    "        return False\n",
    "    if col_pos < 0 or col_pos >= col:# col_pos outside maze\n",
    "        return False\n",
    "    if maze[row_pos, col_pos] == 1: #Reach obstacle\n",
    "        return False \n",
    "    return True "
   ]
  },
  {
   "cell_type": "code",
   "execution_count": 430,
   "id": "ac1a6aa1",
   "metadata": {},
   "outputs": [],
   "source": [
    "def decoder(individual):\n",
    "    codes= {'north': (0,0), 'south': (0,1), 'east': (1,0), 'west': (1,1)}\n",
    "    directions = list(zip(individual[::2], individual[1::2])) # Grouping the list into a 2 by 2 list [1,1,0,1] --> [[1,1], [0,1]]\n",
    "    path = [] # Storing our path into actual direction: north, south, east, west\n",
    "    for direction in directions:\n",
    "        for code in codes:\n",
    "            if codes[code] == direction:\n",
    "                path.append(code)\n",
    "    return path"
   ]
  },
  {
   "cell_type": "code",
   "execution_count": 431,
   "id": "b3af6ee3",
   "metadata": {},
   "outputs": [],
   "source": [
    "def trace_path_stop_to_goal(maze, start, goal, path):\n",
    "    # right (east), left(west), top(north), down(south)\n",
    "    moves = {'east':(0, 1), 'west':(0, -1), 'north':(-1, 0), 'south':(1, 0)} \n",
    "    curr_row, curr_col = start\n",
    "    goal_row, goal_col = goal\n",
    "    for direction in path:\n",
    "        move_row, move_col = moves[direction]\n",
    "        curr_row += move_row\n",
    "        curr_col += move_col\n",
    "        if curr_row == goal_row and curr_col == goal_col: # If we find our goal node no need to keep moving\n",
    "            return goal\n",
    "        if not valid_node(maze, curr_row, curr_col): # If we reach an obstacles we should return the previous node where we were before reaching the obstacle \n",
    "            return curr_row - move_row, curr_col - move_col\n",
    "    return curr_row, curr_col # If we didn't reach goal node or an obstacle, we return the pos were the individual stopped"
   ]
  },
  {
   "cell_type": "code",
   "execution_count": 432,
   "id": "c4bb3aae",
   "metadata": {},
   "outputs": [],
   "source": [
    "def crossover_operator(parent1, parent2, crossover_rate):\n",
    "    # Single point crossover operation\n",
    "    probability_rand = np.random.rand() # generate random number between [0, 1)\n",
    "    child1, child2 = [], []\n",
    "    if probability_rand < crossover_rate:\n",
    "        crossover_point = np.random.randint(1, len(parent1)-1) # generate random number between [1, len(parent1)-1)\n",
    "        # Child1\n",
    "        child1[0:crossover_point] = parent1[0:crossover_point]\n",
    "        child1[crossover_point:] = parent2[crossover_point:]\n",
    "        # Child 2\n",
    "        child2[0:crossover_point] = parent2[0:crossover_point]\n",
    "        child2[crossover_point:] = parent1[crossover_point:]\n",
    "        return child1, child2\n",
    "    return deepcopy(parent1), deepcopy(parent2)"
   ]
  },
  {
   "cell_type": "code",
   "execution_count": 433,
   "id": "b599a05e",
   "metadata": {},
   "outputs": [],
   "source": [
    "def mutation_operator(chromosone, mutation_rate):\n",
    "    # np.random.rand() generate random number between [0, 1)\n",
    "    for i in range(len(chromosone)):\n",
    "        if np.random.rand() < mutation_rate:\n",
    "            chromosone[i] = abs(1-chromosone[i]) # Toggle value 1 to 0 and value 0 to 1\n",
    "    return chromosone"
   ]
  },
  {
   "cell_type": "code",
   "execution_count": 434,
   "id": "6cb4a62b",
   "metadata": {},
   "outputs": [],
   "source": [
    "def manhattan_distance(curr_row, curr_col, goal):\n",
    "    goal_row, goal_col = goal\n",
    "    return abs(curr_row - goal_row) + abs(curr_col - goal_col)"
   ]
  },
  {
   "cell_type": "code",
   "execution_count": 435,
   "id": "9eb1e9e8",
   "metadata": {},
   "outputs": [],
   "source": [
    "def compute_fitness_score(maze, start, goal, population):\n",
    "    row, col = population.shape\n",
    "    fitness = np.zeros(row)\n",
    "    for i, individual in enumerate(population):\n",
    "        path = decoder(individual)\n",
    "        pos_row, pos_col = trace_path_stop_to_goal(maze, start, goal, path)\n",
    "        fitness[i] = 1 / (manhattan_distance(pos_row, pos_col, goal) + 1)\n",
    "    return fitness "
   ]
  },
  {
   "cell_type": "code",
   "execution_count": 436,
   "id": "b5afe6a3",
   "metadata": {},
   "outputs": [],
   "source": [
    "def get_indice(fitness, p):\n",
    "    for i, ft in enumerate(fitness):\n",
    "        if p <= ft:\n",
    "            return i"
   ]
  },
  {
   "cell_type": "code",
   "execution_count": 437,
   "id": "083e134c",
   "metadata": {},
   "outputs": [],
   "source": [
    "def fitness_proportionate_selection(cumulative_fitness):\n",
    "    indice1 = get_indice(cumulative_fitness, np.random.rand())\n",
    "    indice2 = get_indice(cumulative_fitness, np.random.rand())\n",
    "    return indice1, indice2  "
   ]
  },
  {
   "cell_type": "code",
   "execution_count": 438,
   "id": "7d457137",
   "metadata": {},
   "outputs": [],
   "source": [
    "def mating(population, fitness_score, crossover_rate, mutation_rate):\n",
    "    '''\n",
    "        Fitness Proportionate Selection\n",
    "            1. Find the sum of all fitness values in a population(S)\n",
    "            2. Find normalised fitness values (=fitness value/S)\n",
    "            3. Find cumulative fitness values\n",
    "        \n",
    "        Mating \n",
    "            1. Select Parent1 and Parent2\n",
    "            2. Peform Crossover Operation to generate child1 and child2 (consider crossover rate)\n",
    "            3. Peform Mutation Operation (consider mutation rate)\n",
    "            4. Store chid1 and child2 into new population\n",
    "    '''\n",
    "    new_population = np.zeros(population.shape)\n",
    "    norm_fitness = fitness_score / fitness_score.sum()\n",
    "    cumulative_fitness = np.cumsum(norm_fitness) #  Compute the cumulative sum of norm_fitness\n",
    "    pop_size = fitness_score.shape[0]\n",
    "    for i in range(0, pop_size, 2):\n",
    "        indice1, indice2 = fitness_proportionate_selection(cumulative_fitness)\n",
    "        parent1 = population[indice1]\n",
    "        parent2 = population[indice2]\n",
    "        child1, child2 = crossover_operator(parent1, parent2, crossover_rate)\n",
    "        child1 = mutation_operator(child1, mutation_rate)\n",
    "        child2 = mutation_operator(child2, mutation_rate)\n",
    "        new_population[i] = child1\n",
    "        new_population[i+1] = child2\n",
    "        \n",
    "    return new_population"
   ]
  },
  {
   "cell_type": "code",
   "execution_count": 439,
   "id": "0b661884",
   "metadata": {},
   "outputs": [],
   "source": [
    "maze, start, goal = setup_maze()"
   ]
  },
  {
   "cell_type": "code",
   "execution_count": 440,
   "id": "da884368",
   "metadata": {},
   "outputs": [
    {
     "data": {
      "text/plain": [
       "array([[1., 1., 1., 1., 1., 1., 1., 1., 1., 1., 1., 1., 1., 1., 1., 1.],\n",
       "       [1., 0., 0., 1., 0., 0., 0., 0., 0., 0., 0., 0., 0., 0., 0., 1.],\n",
       "       [1., 0., 0., 1., 0., 0., 0., 0., 0., 0., 0., 0., 0., 0., 0., 1.],\n",
       "       [1., 0., 0., 0., 0., 0., 0., 0., 0., 0., 0., 0., 1., 1., 0., 1.],\n",
       "       [1., 0., 0., 0., 0., 1., 1., 1., 0., 0., 0., 0., 0., 0., 0., 1.],\n",
       "       [5., 0., 0., 0., 0., 1., 1., 1., 0., 1., 0., 0., 0., 0., 0., 1.],\n",
       "       [1., 0., 0., 0., 0., 1., 1., 1., 0., 1., 0., 0., 1., 0., 0., 1.],\n",
       "       [1., 0., 1., 0., 0., 0., 0., 0., 0., 0., 0., 0., 1., 0., 0., 1.],\n",
       "       [1., 0., 1., 0., 0., 0., 0., 0., 0., 0., 0., 0., 1., 0., 0., 1.],\n",
       "       [1., 0., 0., 0., 0., 0., 0., 1., 1., 0., 0., 0., 0., 0., 0., 8.],\n",
       "       [1., 0., 0., 0., 0., 0., 0., 1., 1., 0., 0., 0., 0., 0., 0., 1.],\n",
       "       [1., 1., 1., 1., 1., 1., 1., 1., 1., 1., 1., 1., 1., 1., 1., 1.]])"
      ]
     },
     "execution_count": 440,
     "metadata": {},
     "output_type": "execute_result"
    }
   ],
   "source": [
    "maze"
   ]
  },
  {
   "cell_type": "code",
   "execution_count": 441,
   "id": "22f4228a",
   "metadata": {},
   "outputs": [],
   "source": [
    "# Parameters\n",
    "population_size = 50\n",
    "max_step = 70\n",
    "epochs = 10_000\n",
    "show_info_after = 1_000\n",
    "crossover_rate = 0.7\n",
    "mutation_rate = 0.001"
   ]
  },
  {
   "cell_type": "code",
   "execution_count": 442,
   "id": "f2c1c1e2",
   "metadata": {},
   "outputs": [
    {
     "data": {
      "text/plain": [
       "array([[1, 0, 0, ..., 0, 1, 1],\n",
       "       [0, 0, 0, ..., 1, 0, 1],\n",
       "       [1, 1, 1, ..., 0, 0, 0],\n",
       "       ...,\n",
       "       [1, 1, 0, ..., 0, 0, 1],\n",
       "       [1, 0, 1, ..., 0, 0, 1],\n",
       "       [1, 0, 0, ..., 1, 1, 1]])"
      ]
     },
     "execution_count": 442,
     "metadata": {},
     "output_type": "execute_result"
    }
   ],
   "source": [
    "# Initial Population\n",
    "population = np.random.randint(2, size=(population_size, max_step))\n",
    "population"
   ]
  },
  {
   "cell_type": "code",
   "execution_count": 443,
   "id": "a51b681e",
   "metadata": {},
   "outputs": [
    {
     "data": {
      "text/plain": [
       "array([0.05263158, 0.05      , 0.05      , 0.05      , 0.05      ,\n",
       "       0.05      , 0.05      , 0.05      , 0.05      , 0.05      ,\n",
       "       0.05      , 0.05      , 0.05      , 0.05      , 0.05      ,\n",
       "       0.05      , 0.05555556, 0.05      , 0.05      , 0.05      ,\n",
       "       0.05      , 0.05      , 0.05      , 0.05      , 0.05882353,\n",
       "       0.05      , 0.04347826, 0.05555556, 0.05      , 0.05      ,\n",
       "       0.05      , 0.0625    , 0.05      , 0.05      , 0.05      ,\n",
       "       0.05      , 0.05555556, 0.05      , 0.05555556, 0.05      ,\n",
       "       0.05      , 0.05882353, 0.05      , 0.05      , 0.05      ,\n",
       "       0.05      , 0.05      , 0.05      , 0.06666667, 0.05555556])"
      ]
     },
     "execution_count": 443,
     "metadata": {},
     "output_type": "execute_result"
    }
   ],
   "source": [
    "# Fitness score of initial Population\n",
    "fitness_score = compute_fitness_score(maze, start, goal, population)\n",
    "fitness_score"
   ]
  },
  {
   "cell_type": "code",
   "execution_count": 444,
   "id": "5a487894",
   "metadata": {},
   "outputs": [
    {
     "data": {
      "text/plain": [
       "0.06666666666666667"
      ]
     },
     "execution_count": 444,
     "metadata": {},
     "output_type": "execute_result"
    }
   ],
   "source": [
    "fitness_score.max() # Highest fitness score for initial population"
   ]
  },
  {
   "cell_type": "code",
   "execution_count": 445,
   "id": "4125d1af",
   "metadata": {},
   "outputs": [
    {
     "data": {
      "text/plain": [
       "array([], shape=(0, 1), dtype=int64)"
      ]
     },
     "execution_count": 445,
     "metadata": {},
     "output_type": "execute_result"
    }
   ],
   "source": [
    "# Get index number (individual number) who has fitness_score 1 (means reach goal node) in the initial population\n",
    "np.argwhere(fitness_score == 1.0) "
   ]
  },
  {
   "cell_type": "code",
   "execution_count": 446,
   "id": "9e2d0fab",
   "metadata": {},
   "outputs": [
    {
     "name": "stdout",
     "output_type": "stream",
     "text": [
      "Start running Genetic Algorithm\n",
      "Epoch 1000 done...\n",
      "Epoch 2000 done...\n",
      "Epoch 3000 done...\n",
      "Epoch 4000 done...\n",
      "Epoch 5000 done...\n",
      "Epoch 6000 done...\n",
      "Epoch 7000 done...\n",
      "Epoch 8000 done...\n",
      "Epoch 9000 done...\n",
      "Epoch 10000 done...\n"
     ]
    }
   ],
   "source": [
    "# Running Genetic Algorithm\n",
    "print('Start running Genetic Algorithm')\n",
    "for i in range(1, epochs+1, 1):\n",
    "    population = mating(population, fitness_score, crossover_rate, mutation_rate)\n",
    "    fitness_score = compute_fitness_score(maze, start, goal, population)\n",
    "    if i % show_info_after == 0 and i != 0:\n",
    "        print(f'Epoch {i} done...')"
   ]
  },
  {
   "cell_type": "code",
   "execution_count": 447,
   "id": "78968345",
   "metadata": {},
   "outputs": [
    {
     "data": {
      "text/plain": [
       "array([1.        , 1.        , 1.        , 1.        , 1.        ,\n",
       "       0.06666667, 1.        , 1.        , 1.        , 1.        ,\n",
       "       1.        , 1.        , 1.        , 1.        , 1.        ,\n",
       "       1.        , 1.        , 1.        , 1.        , 1.        ,\n",
       "       1.        , 1.        , 1.        , 1.        , 1.        ,\n",
       "       1.        , 0.1       , 1.        , 1.        , 1.        ,\n",
       "       1.        , 0.06666667, 1.        , 0.16666667, 1.        ,\n",
       "       1.        , 1.        , 1.        , 1.        , 1.        ,\n",
       "       1.        , 1.        , 1.        , 1.        , 1.        ,\n",
       "       1.        , 1.        , 0.06666667, 1.        , 1.        ])"
      ]
     },
     "execution_count": 447,
     "metadata": {},
     "output_type": "execute_result"
    }
   ],
   "source": [
    "# New Fitness\n",
    "fitness_score"
   ]
  },
  {
   "cell_type": "code",
   "execution_count": 448,
   "id": "ea8c0a96",
   "metadata": {},
   "outputs": [
    {
     "name": "stdout",
     "output_type": "stream",
     "text": [
      "Number of individuals who reach goal node: 45\n"
     ]
    }
   ],
   "source": [
    "# Find index of fitness_score that are 1 (Means reach goal node)\n",
    "idx = np.argwhere(fitness_score == 1.0)\n",
    "print(f'Number of individuals who reach goal node: {len(idx)}')"
   ]
  },
  {
   "cell_type": "code",
   "execution_count": 449,
   "id": "bb8a62d5",
   "metadata": {},
   "outputs": [
    {
     "name": "stdout",
     "output_type": "stream",
     "text": [
      "Path: east east east south east west north north south north south east west north south south south east east south east west south north east east east east south east east east east east east \n"
     ]
    },
    {
     "data": {
      "text/plain": [
       "array([[1., 1., 1., 1., 1., 1., 1., 1., 1., 1., 1., 1., 1., 1., 1., 1.],\n",
       "       [1., 0., 0., 1., 0., 0., 0., 0., 0., 0., 0., 0., 0., 0., 0., 1.],\n",
       "       [1., 0., 0., 1., 0., 0., 0., 0., 0., 0., 0., 0., 0., 0., 0., 1.],\n",
       "       [1., 0., 0., 0., 0., 0., 0., 0., 0., 0., 0., 0., 1., 1., 0., 1.],\n",
       "       [1., 0., 0., 2., 0., 1., 1., 1., 0., 0., 0., 0., 0., 0., 0., 1.],\n",
       "       [5., 2., 2., 2., 2., 1., 1., 1., 0., 1., 0., 0., 0., 0., 0., 1.],\n",
       "       [1., 0., 0., 2., 2., 1., 1., 1., 0., 1., 0., 0., 1., 0., 0., 1.],\n",
       "       [1., 0., 1., 2., 2., 2., 0., 0., 0., 0., 0., 0., 1., 0., 0., 1.],\n",
       "       [1., 0., 1., 0., 0., 2., 2., 2., 2., 2., 0., 0., 1., 0., 0., 1.],\n",
       "       [1., 0., 0., 0., 0., 2., 0., 1., 1., 2., 2., 2., 2., 2., 2., 8.],\n",
       "       [1., 0., 0., 0., 0., 0., 0., 1., 1., 0., 0., 0., 0., 0., 0., 1.],\n",
       "       [1., 1., 1., 1., 1., 1., 1., 1., 1., 1., 1., 1., 1., 1., 1., 1.]])"
      ]
     },
     "execution_count": 449,
     "metadata": {},
     "output_type": "execute_result"
    }
   ],
   "source": [
    "maze2 = deepcopy(maze)\n",
    "moves = {'east':(0, 1), 'west':(0, -1), 'north':(-1, 0), 'south':(1, 0)} \n",
    "curr_row, curr_col = start\n",
    "goal_row, goal_col = goal\n",
    "path_str=\"\"\n",
    "if len(idx) > 0:\n",
    "    [i] = idx[0]\n",
    "    path = decoder(population[i])\n",
    "    for direction in path:\n",
    "        move_row, move_col = moves[direction]\n",
    "        curr_row += move_row\n",
    "        curr_col += move_col\n",
    "        path_str+= direction + ' '\n",
    "        maze2[curr_row, curr_col] = 2\n",
    "        if curr_row == goal_row and curr_col == goal_col:\n",
    "            break\n",
    "\n",
    "print(f\"Path: {path_str}\")            \n",
    "maze2[start] = 5\n",
    "maze2[goal] = 8\n",
    "maze2"
   ]
  },
  {
   "cell_type": "markdown",
   "id": "80e1c740",
   "metadata": {},
   "source": [
    "<strong>\n",
    "    <i>Note:</i>\n",
    "</strong>\n",
    "<p>\n",
    "    <i>Running Genetic Algorithm will give differents value each time you run it.\n",
    "Genetic Algorithm doesn't guarantee to always provide a solution and also doesn't guarantee to provide an optimal solution. </i>\n",
    "</p>\n",
    "\n",
    "<p>\n",
    "    <i>The advantage of the genetic algorithm is that if you find a way to represent your population and find a good fitness score function, you may be able to solve a problem without even knowing how to solve it.<i> \n",
    "<p/>"
   ]
  }
 ],
 "metadata": {
  "kernelspec": {
   "display_name": "Python 3 (ipykernel)",
   "language": "python",
   "name": "python3"
  },
  "language_info": {
   "codemirror_mode": {
    "name": "ipython",
    "version": 3
   },
   "file_extension": ".py",
   "mimetype": "text/x-python",
   "name": "python",
   "nbconvert_exporter": "python",
   "pygments_lexer": "ipython3",
   "version": "3.11.4"
  }
 },
 "nbformat": 4,
 "nbformat_minor": 5
}
