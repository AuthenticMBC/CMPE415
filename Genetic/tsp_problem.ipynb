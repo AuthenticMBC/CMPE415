{
 "cells": [
  {
   "cell_type": "markdown",
   "metadata": {},
   "source": [
    "# Traveling Salesman Problem\n",
    "### Definition\n",
    "<p>\n",
    "    Given a collection of cities, the traveling salesman must determine the\n",
    "    shortest route that will enable him to visit each city precisely once and\n",
    "    then return back to his starting point.\n",
    "    The distance between each city is given and is assumed to be the same in\n",
    "    both directions.\n",
    "    Objective is to minimize the total distance to be travelled.\n",
    "<p/>\n",
    "\n",
    "<p>\n",
    "    This type of problem frequently occurs when coding the AI for strategy\n",
    "    games. Often it’s necessary to create the shortest path for a unit that\n",
    "    will start at one waypoint, end at another, and pass through several\n",
    "    predefined areas along the way, to pick up resources, food, energy, and so\n",
    "    on. It can also be used as part of the route planning AI for a Quake-like\n",
    "    FPS bot.\n",
    "    Some of the landmarks in TSP solving, starting from the 1950s.\n",
    "</p>"
   ]
  },
  {
   "cell_type": "code",
   "execution_count": 229,
   "metadata": {
    "vscode": {
     "languageId": "plaintext"
    }
   },
   "outputs": [],
   "source": [
    "import numpy as np\n",
    "from copy import deepcopy"
   ]
  },
  {
   "cell_type": "code",
   "execution_count": 230,
   "metadata": {},
   "outputs": [],
   "source": [
    "def permutation_crossover(parent1, parent2, crossover_rate):\n",
    "    \n",
    "    if np.random.rand() < crossover_rate:\n",
    "        return deepcopy(parent1), deepcopy(parent2)\n",
    "    \n",
    "    chromosone_length = len(parent1)\n",
    "    # random number between [0, chromosone_length)\n",
    "    cp1 = np.random.randint(0, chromosone_length) \n",
    "    cp2 = np.random.randint(0, chromosone_length)\n",
    "\n",
    "    while cp1 == cp2:\n",
    "        cp2 = np.random.randint(0, chromosone_length)\n",
    "    \n",
    "    child1, child2 = deepcopy(parent1), deepcopy(parent2)\n",
    "    value_to_map1 = child1[cp1:cp2]\n",
    "    value_to_map2 = child2[cp1:cp2]\n",
    "    \n",
    "    for value1, value2 in zip(value_to_map1, value_to_map2):\n",
    "        for i, city in enumerate(child1):       \n",
    "            if city == value1:\n",
    "                child1[i] = value2\n",
    "            elif city == value2:\n",
    "                child1[i] = value1\n",
    "        \n",
    "        for i, city in enumerate(child2):\n",
    "            if city == value1:\n",
    "                child2[i] = value2\n",
    "            elif city == value2:\n",
    "                child2[i] = value1\n",
    "                \n",
    "    return child1, child2"
   ]
  },
  {
   "cell_type": "code",
   "execution_count": 231,
   "metadata": {},
   "outputs": [],
   "source": [
    "def insertion_mutation(chromosone, mutation_rate):\n",
    "    \n",
    "    if np.random.rand() < mutation_rate:\n",
    "        return chromosone\n",
    "    \n",
    "    chromosone_length = len(chromosone)\n",
    "    selected_index = np.random.randint(0, chromosone_length)\n",
    "    insertion_index = np.random.randint(0, chromosone_length)\n",
    "\n",
    "    while insertion_index == selected_index :\n",
    "        insertion_index = np.random.randint(0, chromosone_length)\n",
    "    \n",
    "    gene = chromosone[selected_index]\n",
    "    step = -1 if insertion_index < selected_index else 1\n",
    "    \n",
    "    for i in range(selected_index, insertion_index, step):\n",
    "            chromosone[i] = chromosone[i+step]\n",
    "    \n",
    "    chromosone[insertion_index] = gene      \n",
    "\n",
    "    return chromosone"
   ]
  },
  {
   "cell_type": "code",
   "execution_count": 232,
   "metadata": {},
   "outputs": [],
   "source": [
    "def find_cost(cost_matrix, individual):\n",
    "    cost, stop = 0, len(individual)-1\n",
    "    for i in range(stop):\n",
    "        x, y = individual[i], individual[i+1]\n",
    "        cost += cost_matrix[x, y]\n",
    "    return cost"
   ]
  },
  {
   "cell_type": "code",
   "execution_count": 233,
   "metadata": {},
   "outputs": [],
   "source": [
    "def compute_fitness_score(cost_matrix, population):\n",
    "    fitness = np.zeros(population.shape[0])\n",
    "    for i, individual in enumerate(population):\n",
    "        fitness[i] = find_cost(cost_matrix, individual)\n",
    "    fitness = fitness.max() - fitness\n",
    "    return fitness"
   ]
  },
  {
   "cell_type": "code",
   "execution_count": 234,
   "metadata": {},
   "outputs": [],
   "source": [
    "def sigma_scaling(fitness_score):\n",
    "    average = fitness_score.mean()\n",
    "    std_2 = 2 * fitness_score.std()\n",
    "    new_fitness = (fitness_score - average) / std_2\n",
    "    return new_fitness"
   ]
  },
  {
   "cell_type": "code",
   "execution_count": 235,
   "metadata": {},
   "outputs": [],
   "source": [
    "def tournament_selection(population, fitness_score, k):\n",
    "    tournament = np.empty(k, dtype=int)\n",
    "    pop_size = population.shape[0] \n",
    "    for i in range(k):\n",
    "        random_no = np.random.randint(0, pop_size)\n",
    "        while random_no in tournament:\n",
    "            random_no = np.random.randint(0, pop_size)\n",
    "        tournament[i] = random_no\n",
    "\n",
    "    best = max(tournament, key=lambda x: fitness_score[x])\n",
    "\n",
    "    return best"
   ]
  },
  {
   "cell_type": "code",
   "execution_count": 236,
   "metadata": {},
   "outputs": [],
   "source": [
    "def mating(population, fitness_score, crossover_rate, mutation_rate):\n",
    "    pop_size = population.shape[0]\n",
    "    new_population = np.empty(population.shape, dtype=int)\n",
    "    k = 2 # number of individual for tournament selection\n",
    "    for i in range(0, pop_size, 2): # In each iteration we select two parents\n",
    "        idx_1 = tournament_selection(population, fitness_score, k)\n",
    "        idx_2 = tournament_selection(population, fitness_score, k)\n",
    "        while idx_2 == idx_1:\n",
    "            idx_2 = tournament_selection(population, fitness_score, k)\n",
    "        \n",
    "        parent1, parent2 = population[idx_1], population[idx_2]\n",
    "        child1, child2 = permutation_crossover(parent1, parent2, crossover_rate)\n",
    "        child1 = insertion_mutation(child1, mutation_rate)\n",
    "        child2 = insertion_mutation(child2, mutation_rate)\n",
    "        new_population[i] = child1\n",
    "        new_population[i+1] = child2\n",
    "        \n",
    "    return new_population"
   ]
  },
  {
   "cell_type": "code",
   "execution_count": 237,
   "metadata": {},
   "outputs": [],
   "source": [
    "# Random permutation for generating initial population\n",
    "def initialize_population(pop_size, number_cities):\n",
    "    population = np.full((pop_size, number_cities), -1)\n",
    "    city = np.array([i for i in range(number_cities)])\n",
    "    for i in range(pop_size):\n",
    "       population[i] =  np.random.permutation(city)\n",
    "    return population"
   ]
  },
  {
   "cell_type": "code",
   "execution_count": 238,
   "metadata": {},
   "outputs": [],
   "source": [
    "# Parameters\n",
    "total_cities = 6\n",
    "population_size = 100\n",
    "# population_size = np.math.factorial(total_cities)\n",
    "epochs = 10_000\n",
    "show_info_after = 1_000\n",
    "crossover_rate = 0.7\n",
    "mutation_rate = 0.001"
   ]
  },
  {
   "cell_type": "code",
   "execution_count": 239,
   "metadata": {},
   "outputs": [],
   "source": [
    "population = initialize_population(population_size, total_cities)"
   ]
  },
  {
   "cell_type": "code",
   "execution_count": 240,
   "metadata": {},
   "outputs": [
    {
     "data": {
      "text/plain": [
       "array([[2, 5, 3, 4, 0, 1],\n",
       "       [5, 3, 2, 4, 0, 1],\n",
       "       [3, 4, 1, 0, 5, 2],\n",
       "       [2, 5, 1, 0, 4, 3],\n",
       "       [1, 4, 0, 2, 3, 5],\n",
       "       [0, 5, 4, 2, 3, 1],\n",
       "       [5, 3, 1, 4, 2, 0],\n",
       "       [0, 1, 2, 3, 4, 5],\n",
       "       [1, 5, 3, 2, 0, 4],\n",
       "       [2, 5, 0, 1, 3, 4],\n",
       "       [5, 0, 1, 2, 4, 3],\n",
       "       [2, 0, 3, 1, 4, 5],\n",
       "       [0, 1, 4, 5, 2, 3],\n",
       "       [5, 3, 4, 2, 0, 1],\n",
       "       [4, 2, 5, 1, 0, 3],\n",
       "       [0, 2, 3, 4, 1, 5],\n",
       "       [3, 2, 1, 5, 4, 0],\n",
       "       [4, 0, 2, 1, 3, 5],\n",
       "       [3, 2, 5, 1, 0, 4],\n",
       "       [2, 3, 0, 4, 5, 1],\n",
       "       [5, 2, 4, 1, 0, 3],\n",
       "       [4, 5, 3, 0, 1, 2],\n",
       "       [2, 4, 0, 3, 5, 1],\n",
       "       [2, 4, 0, 1, 5, 3],\n",
       "       [1, 3, 5, 2, 0, 4],\n",
       "       [5, 1, 0, 4, 3, 2],\n",
       "       [1, 2, 0, 5, 4, 3],\n",
       "       [1, 0, 3, 5, 2, 4],\n",
       "       [4, 2, 1, 3, 0, 5],\n",
       "       [4, 2, 1, 5, 0, 3],\n",
       "       [3, 0, 5, 2, 1, 4],\n",
       "       [2, 0, 5, 4, 1, 3],\n",
       "       [1, 4, 2, 0, 3, 5],\n",
       "       [5, 3, 2, 0, 1, 4],\n",
       "       [0, 4, 3, 2, 1, 5],\n",
       "       [5, 0, 1, 4, 2, 3],\n",
       "       [4, 2, 1, 0, 3, 5],\n",
       "       [3, 5, 1, 2, 0, 4],\n",
       "       [3, 1, 2, 0, 5, 4],\n",
       "       [5, 2, 1, 0, 3, 4],\n",
       "       [5, 1, 3, 0, 2, 4],\n",
       "       [2, 3, 4, 5, 1, 0],\n",
       "       [0, 5, 2, 1, 4, 3],\n",
       "       [0, 1, 3, 5, 4, 2],\n",
       "       [1, 2, 0, 4, 3, 5],\n",
       "       [4, 3, 2, 1, 0, 5],\n",
       "       [2, 1, 5, 0, 4, 3],\n",
       "       [1, 5, 4, 0, 3, 2],\n",
       "       [2, 0, 3, 5, 1, 4],\n",
       "       [1, 3, 5, 4, 0, 2],\n",
       "       [3, 0, 5, 2, 4, 1],\n",
       "       [1, 0, 5, 2, 4, 3],\n",
       "       [2, 3, 1, 5, 4, 0],\n",
       "       [4, 5, 2, 1, 3, 0],\n",
       "       [5, 0, 2, 3, 4, 1],\n",
       "       [3, 0, 1, 2, 4, 5],\n",
       "       [3, 0, 5, 2, 4, 1],\n",
       "       [4, 5, 1, 3, 0, 2],\n",
       "       [0, 1, 2, 4, 5, 3],\n",
       "       [1, 5, 3, 0, 2, 4],\n",
       "       [3, 5, 2, 0, 4, 1],\n",
       "       [2, 5, 1, 0, 4, 3],\n",
       "       [3, 1, 5, 0, 2, 4],\n",
       "       [0, 3, 2, 5, 4, 1],\n",
       "       [3, 0, 5, 4, 1, 2],\n",
       "       [0, 3, 4, 5, 1, 2],\n",
       "       [4, 3, 2, 5, 0, 1],\n",
       "       [4, 2, 5, 3, 0, 1],\n",
       "       [5, 0, 1, 3, 4, 2],\n",
       "       [2, 4, 3, 5, 1, 0],\n",
       "       [4, 3, 5, 1, 0, 2],\n",
       "       [1, 0, 5, 2, 3, 4],\n",
       "       [1, 4, 2, 0, 3, 5],\n",
       "       [1, 0, 3, 4, 5, 2],\n",
       "       [3, 5, 4, 2, 0, 1],\n",
       "       [2, 1, 4, 0, 3, 5],\n",
       "       [3, 5, 0, 1, 4, 2],\n",
       "       [5, 0, 2, 3, 1, 4],\n",
       "       [4, 5, 2, 3, 1, 0],\n",
       "       [4, 0, 2, 5, 3, 1],\n",
       "       [1, 4, 0, 3, 5, 2],\n",
       "       [3, 4, 5, 0, 1, 2],\n",
       "       [0, 4, 1, 2, 3, 5],\n",
       "       [1, 4, 5, 0, 2, 3],\n",
       "       [2, 4, 3, 0, 1, 5],\n",
       "       [5, 4, 2, 1, 0, 3],\n",
       "       [2, 4, 3, 5, 1, 0],\n",
       "       [5, 3, 4, 2, 1, 0],\n",
       "       [2, 4, 0, 1, 3, 5],\n",
       "       [4, 1, 5, 3, 0, 2],\n",
       "       [1, 2, 4, 5, 0, 3],\n",
       "       [1, 0, 5, 2, 3, 4],\n",
       "       [5, 3, 2, 0, 4, 1],\n",
       "       [5, 0, 4, 2, 3, 1],\n",
       "       [1, 2, 4, 0, 3, 5],\n",
       "       [0, 4, 5, 1, 2, 3],\n",
       "       [3, 1, 2, 5, 0, 4],\n",
       "       [1, 5, 3, 4, 0, 2],\n",
       "       [0, 3, 4, 2, 1, 5],\n",
       "       [2, 4, 5, 1, 3, 0]])"
      ]
     },
     "execution_count": 240,
     "metadata": {},
     "output_type": "execute_result"
    }
   ],
   "source": [
    "# Initial Population\n",
    "population"
   ]
  },
  {
   "cell_type": "code",
   "execution_count": 241,
   "metadata": {},
   "outputs": [],
   "source": [
    "# This costs matrix show the distance between each city \n",
    "# City are 0, 1, 2, 3, 4, 5\n",
    "costs = np.array([\n",
    "    [  0, 105,  95, 340, 256, 292],\n",
    "    [105,   0, 372, 288, 145, 309],\n",
    "    [ 95, 372,   0, 155, 200, 188],\n",
    "    [340, 288, 155,   0, 244, 327],\n",
    "    [256, 145, 200, 244,   0,  98],\n",
    "    [292, 309, 188, 327,  98,   0]\n",
    "])"
   ]
  },
  {
   "cell_type": "code",
   "execution_count": 242,
   "metadata": {},
   "outputs": [
    {
     "name": "stdout",
     "output_type": "stream",
     "text": [
      "Distance between city 2 and city 5 is : 188\n",
      "Distance between city 0 and city 4 is : 256\n"
     ]
    },
    {
     "data": {
      "text/plain": [
       "array([[  0, 105,  95, 340, 256, 292],\n",
       "       [105,   0, 372, 288, 145, 309],\n",
       "       [ 95, 372,   0, 155, 200, 188],\n",
       "       [340, 288, 155,   0, 244, 327],\n",
       "       [256, 145, 200, 244,   0,  98],\n",
       "       [292, 309, 188, 327,  98,   0]])"
      ]
     },
     "execution_count": 242,
     "metadata": {},
     "output_type": "execute_result"
    }
   ],
   "source": [
    "# Example: Distance between city 2 and city 5\n",
    "print(f'Distance between city 2 and city 5 is : {costs[2, 5]}')\n",
    "# Example: Distance between city 0 and city 4\n",
    "print(f'Distance between city 0 and city 4 is : {costs[0, 4]}')\n",
    "costs"
   ]
  },
  {
   "cell_type": "code",
   "execution_count": 243,
   "metadata": {},
   "outputs": [
    {
     "data": {
      "text/plain": [
       "array([393., 470., 539., 411., 535., 480., 458., 539., 371., 396., 300.,\n",
       "       547., 822., 542., 371., 565., 323., 175., 500., 355., 535., 271.,\n",
       "        81., 316., 359., 444., 412., 353.,  21.,   0., 176., 595., 406.,\n",
       "       686., 177., 616., 169., 154., 368., 264., 281., 602., 272., 495.,\n",
       "       219., 345.,  40., 355., 297., 449., 348., 484., 407., 227., 582.,\n",
       "       398., 348., 383., 411., 242., 502., 411., 329., 587., 266., 150.,\n",
       "       529., 353., 384., 328., 433., 529., 406., 538., 688.,  73., 444.,\n",
       "       538., 679., 359., 257., 402., 258., 728., 315., 398., 328., 265.,\n",
       "       337., 297., 211., 529., 535., 322.,  18., 323., 117., 282.,  48.,\n",
       "       278.])"
      ]
     },
     "execution_count": 243,
     "metadata": {},
     "output_type": "execute_result"
    }
   ],
   "source": [
    "# Fitness score of initial population\n",
    "fitness_score = compute_fitness_score(costs, population)\n",
    "best_fitness_score = fitness_score.max()\n",
    "best_ind_idx = np.argwhere(fitness_score == best_fitness_score)[0][0] # Only takes one individual among all\n",
    "actual_cost = find_cost(costs, population[best_ind_idx])\n",
    "best_individual = {'individual': population[best_ind_idx], 'actual_cost': actual_cost} \n",
    "fitness_score"
   ]
  },
  {
   "cell_type": "code",
   "execution_count": 244,
   "metadata": {},
   "outputs": [
    {
     "name": "stdout",
     "output_type": "stream",
     "text": [
      "Start running Genetic Algorithm...\n",
      "Epoch 1000 done...\n",
      "Epoch 2000 done...\n",
      "Epoch 3000 done...\n",
      "Epoch 4000 done...\n",
      "Epoch 5000 done...\n",
      "Epoch 6000 done...\n",
      "Epoch 7000 done...\n",
      "Epoch 8000 done...\n",
      "Epoch 9000 done...\n",
      "Epoch 10000 done...\n"
     ]
    }
   ],
   "source": [
    "# Running Genetic Algorithm\n",
    "print('Start running Genetic Algorithm...')\n",
    "i=1\n",
    "while i <= epochs:\n",
    "    # Generate new population by doing mating then compute their fitness_score\n",
    "    population = mating(population, fitness_score, crossover_rate, mutation_rate)\n",
    "    fitness_score = compute_fitness_score(costs, population)\n",
    "\n",
    "    #####################################################################################################################\n",
    "    # Keep track of the best individual among all the generations \n",
    "    # Here should compaire their actual costs and not their fitness_score since the max value used to compute the fitness score for \n",
    "    # each individual varies from generation to generation.\n",
    "    # Remember in TSP smaller the cost (or distance) --> better the solution\n",
    "    best_ind_generation_idx = np.argwhere(fitness_score == fitness_score.max())[0][0] # Only takes one individual among all \n",
    "    best_ind_gen = population[best_ind_generation_idx]\n",
    "    actual_cost = find_cost(costs, best_ind_gen)\n",
    "    if actual_cost < best_individual['actual_cost']:\n",
    "        best_individual['individual'] = population[best_ind_generation_idx]\n",
    "        best_individual['actual_cost'] = actual_cost\n",
    "    #####################################################################################################################\n",
    "   \n",
    "    # Printing epoch...\n",
    "    if i % show_info_after == 0:\n",
    "        print(f'Epoch {i} done...')\n",
    "    i += 1 "
   ]
  },
  {
   "cell_type": "code",
   "execution_count": 245,
   "metadata": {},
   "outputs": [
    {
     "data": {
      "text/plain": [
       "array([346., 471., 254., 375., 290., 325., 597., 320., 195., 418., 452.,\n",
       "        51., 365., 486., 471., 486., 216., 709., 661., 316., 714., 464.,\n",
       "       452., 191., 466., 290., 733., 424., 477., 102., 463., 418., 486.,\n",
       "       304., 610., 693., 661., 804., 494., 520., 550., 463., 375., 520.,\n",
       "       251., 247., 123., 227., 721., 668.,  48., 202., 102., 216., 416.,\n",
       "       398., 458.,   0., 524., 436., 363., 386., 411., 392., 597., 221.,\n",
       "       517., 287., 466., 290., 424., 312., 426., 670., 280., 155., 197.,\n",
       "       418., 298., 238., 319., 353., 610., 257., 458., 154., 597., 511.,\n",
       "       282., 665., 665., 587., 334., 554., 197., 517., 346., 377., 347.,\n",
       "       517.])"
      ]
     },
     "execution_count": 245,
     "metadata": {},
     "output_type": "execute_result"
    }
   ],
   "source": [
    "# Fitness score last generation\n",
    "fitness_score"
   ]
  },
  {
   "cell_type": "code",
   "execution_count": 246,
   "metadata": {},
   "outputs": [
    {
     "name": "stdout",
     "output_type": "stream",
     "text": [
      "Best Individual last generation :[3 2 5 4 1 0] with fitness score: 804.0\n"
     ]
    }
   ],
   "source": [
    "# Best individual in the last generation\n",
    "best_fit_last_gen = fitness_score.max()\n",
    "idx = np.argwhere(fitness_score == best_fit_last_gen)[0][0] # Only takes one individual among all \n",
    "best_ind_last_gen = population[idx]\n",
    "print(f'Best Individual last generation :{best_ind_last_gen} with fitness score: {best_fit_last_gen}')"
   ]
  },
  {
   "cell_type": "code",
   "execution_count": 247,
   "metadata": {},
   "outputs": [
    {
     "data": {
      "text/plain": [
       "691"
      ]
     },
     "execution_count": 247,
     "metadata": {},
     "output_type": "execute_result"
    }
   ],
   "source": [
    "# Actual Cost or Distance to be travelled by best individual in the last generation\n",
    "# For actual_cost smaller is better\n",
    "find_cost(costs, best_ind_last_gen)"
   ]
  },
  {
   "cell_type": "code",
   "execution_count": 248,
   "metadata": {},
   "outputs": [
    {
     "data": {
      "text/plain": [
       "{'individual': array([3, 2, 0, 1, 4, 5]), 'actual_cost': 598}"
      ]
     },
     "execution_count": 248,
     "metadata": {},
     "output_type": "execute_result"
    }
   ],
   "source": [
    "# Best Individual among all generations\n",
    "# For actual_cost smaller is better\n",
    "best_individual"
   ]
  },
  {
   "cell_type": "markdown",
   "metadata": {},
   "source": [
    "<p>\n",
    "    <i>\n",
    "        <strong>Note: </strong> \n",
    "        Please note that the output values may vary with each execution. This is because genetic algorithms are inherently stochastic in nature and do not guarantee identical results every time they are run.\n",
    "    </i>   \n",
    "</p>"
   ]
  },
  {
   "cell_type": "markdown",
   "metadata": {},
   "source": [
    "<p style=\"float:right;\"><i>Created By Maroyi Bisoka on 24/01/2025</i></p>"
   ]
  }
 ],
 "metadata": {
  "kernelspec": {
   "display_name": "Python 3 (ipykernel)",
   "language": "python",
   "name": "python3"
  },
  "language_info": {
   "codemirror_mode": {
    "name": "ipython",
    "version": 3
   },
   "file_extension": ".py",
   "mimetype": "text/x-python",
   "name": "python",
   "nbconvert_exporter": "python",
   "pygments_lexer": "ipython3",
   "version": "3.11.4"
  }
 },
 "nbformat": 4,
 "nbformat_minor": 4
}
