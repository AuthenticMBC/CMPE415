{
 "cells": [
  {
   "cell_type": "markdown",
   "metadata": {},
   "source": [
    "# Traveling Salesman Problem\n",
    "### Definition\n",
    "<p>\n",
    "    Given a collection of cities, the traveling salesman must determine the\n",
    "    shortest route that will enable him to visit each city precisely once and\n",
    "    then return back to his starting point.\n",
    "    The distance between each city is given and is assumed to be the same in\n",
    "    both directions.\n",
    "    Objective is to minimize the total distance to be travelled.\n",
    "<p/>\n",
    "\n",
    "<p>\n",
    "    This type of problem frequently occurs when coding the AI for strategy\n",
    "    games. Often it’s necessary to create the shortest path for a unit that\n",
    "    will start at one waypoint, end at another, and pass through several\n",
    "    predefined areas along the way, to pick up resources, food, energy, and so\n",
    "    on. It can also be used as part of the route planning AI for a Quake-like\n",
    "    FPS bot.\n",
    "    Some of the landmarks in TSP solving, starting from the 1950s.\n",
    "</p>"
   ]
  },
  {
   "cell_type": "code",
   "execution_count": 124,
   "metadata": {
    "vscode": {
     "languageId": "plaintext"
    }
   },
   "outputs": [],
   "source": [
    "import numpy as np\n",
    "from copy import deepcopy"
   ]
  },
  {
   "cell_type": "code",
   "execution_count": 125,
   "metadata": {},
   "outputs": [],
   "source": [
    "def permutation_crossover(parent1, parent2, crossover_rate):\n",
    "    \n",
    "    if np.random.rand() < crossover_rate:\n",
    "        return deepcopy(parent1), deepcopy(parent2)\n",
    "    \n",
    "    chromosone_length = len(parent1)\n",
    "    # random number between [0, chromosone_length)\n",
    "    cp1 = np.random.randint(0, chromosone_length) \n",
    "    cp2 = np.random.randint(0, chromosone_length)\n",
    "    #cp1, cp2 = 3, 6\n",
    "\n",
    "    while cp1 == cp2:\n",
    "        cp2 = np.random.randint(0, chromosone_length)\n",
    "    \n",
    "    child1, child2 = deepcopy(parent1), deepcopy(parent2)\n",
    "    value_to_map1 = child1[cp1:cp2]\n",
    "    value_to_map2 = child2[cp1:cp2]\n",
    "    \n",
    "    for value1, value2 in zip(value_to_map1, value_to_map2):\n",
    "        for i, city in enumerate(child1):       \n",
    "            if city == value1:\n",
    "                child1[i] = value2\n",
    "            elif city == value2:\n",
    "                child1[i] = value1\n",
    "        \n",
    "        for i, city in enumerate(child2):\n",
    "            if city == value1:\n",
    "                child2[i] = value2\n",
    "            elif city == value2:\n",
    "                child2[i] = value1\n",
    "                \n",
    "    return child1, child2"
   ]
  },
  {
   "cell_type": "code",
   "execution_count": 126,
   "metadata": {},
   "outputs": [],
   "source": [
    "def insertion_mutation(chromosone, mutation_rate):\n",
    "    \n",
    "    if np.random.rand() < mutation_rate:\n",
    "        return chromosone\n",
    "    \n",
    "    chromosone_length = len(chromosone)\n",
    "    selected_index = np.random.randint(0, chromosone_length)\n",
    "    insertion_index = np.random.randint(0, chromosone_length)\n",
    "#     selected_index, insertion_index = 2, 5\n",
    "    while selected_index == insertion_index:\n",
    "        insertion_index = np.random.randint(0, chromosone_length)\n",
    "    \n",
    "    gene = chromosone[selected_index]\n",
    "    step = -1 if insertion_index < selected_index else 1 # insertion_index > selected_index\n",
    "    \n",
    "    for i in range(selected_index, insertion_index, step):\n",
    "            chromosone[i] = chromosone[i+step]\n",
    "    \n",
    "    chromosone[insertion_index] = gene      \n",
    "\n",
    "    return chromosone"
   ]
  },
  {
   "cell_type": "code",
   "execution_count": 127,
   "metadata": {},
   "outputs": [],
   "source": [
    "def find_cost(cost_matrix, individual):\n",
    "    stop = len(individual)-1\n",
    "    cost=0\n",
    "    for i in range(stop):\n",
    "        x, y = individual[i], individual[i+1]\n",
    "        cost += cost_matrix[x, y]\n",
    "    return cost"
   ]
  },
  {
   "cell_type": "code",
   "execution_count": 128,
   "metadata": {},
   "outputs": [],
   "source": [
    "def compute_fitness_score(cost_matrix, population):\n",
    "    fitness = np.zeros(population.shape[0])\n",
    "    for i, individual in enumerate(population):\n",
    "        fitness[i] = find_cost(cost_matrix, individual)\n",
    "    fitness = fitness.max() - fitness\n",
    "    return fitness"
   ]
  },
  {
   "cell_type": "code",
   "execution_count": null,
   "metadata": {},
   "outputs": [],
   "source": []
  },
  {
   "cell_type": "code",
   "execution_count": 129,
   "metadata": {},
   "outputs": [],
   "source": [
    "def sigma_scaling(fitness_score):\n",
    "    average = fitness_score.mean()\n",
    "    std_2 = 2 * fitness_score.std()\n",
    "    new_fitness = (fitness_score - average) / std_2\n",
    "    return new_fitness"
   ]
  },
  {
   "cell_type": "code",
   "execution_count": 130,
   "metadata": {},
   "outputs": [],
   "source": [
    "def tournament_selection(population, fitness_score, k):\n",
    "    tournament = np.empty(k, dtype=int)\n",
    "    pop_size = population.shape[0] \n",
    "    for i in range(k):\n",
    "        random_no = np.random.randint(0, pop_size)\n",
    "        while random_no in tournament:\n",
    "            random_no = np.random.randint(0, pop_size)\n",
    "        tournament[i] = random_no\n",
    "\n",
    "    best = max(tournament, key=lambda x: fitness_score[x])\n",
    "\n",
    "    return best"
   ]
  },
  {
   "cell_type": "code",
   "execution_count": 131,
   "metadata": {},
   "outputs": [],
   "source": [
    "def mating(population, fitness_score, crossover_rate, mutation_rate):\n",
    "    pop_size = population.shape[0]\n",
    "    new_population = np.empty(population.shape, dtype=int)\n",
    "    k = 2 # number of individual for tournament selection\n",
    "    for i in range(0, pop_size, 2):\n",
    "        idx_1 = tournament_selection(population, fitness_score, k)\n",
    "        idx_2 = tournament_selection(population, fitness_score, k)\n",
    "        parent1, parent2 = population[idx_1], population[idx_2]\n",
    "        child1, child2 = permutation_crossover(parent1, parent2, crossover_rate)\n",
    "        child1 = insertion_mutation(child1, mutation_rate)\n",
    "        child2 = insertion_mutation(child2, mutation_rate)\n",
    "        new_population[i] = child1\n",
    "        new_population[i+1] = child2\n",
    "        \n",
    "    return new_population"
   ]
  },
  {
   "cell_type": "code",
   "execution_count": 132,
   "metadata": {},
   "outputs": [],
   "source": [
    "# Not yet working properly \n",
    "def initialize_population(pop_size, number_cities):\n",
    "    population = np.empty((pop_size, number_cities), dtype=int)\n",
    "    \n",
    "    for i in range(pop_size):\n",
    "        city = np.empty(number_cities, dtype=int)\n",
    "        flag=0\n",
    "        for j in range(number_cities):\n",
    "            flag +=1\n",
    "            rand_no = np.random.randint(0, number_cities)\n",
    "            while rand_no in city and flag !=number_cities:\n",
    "                rand_no = np.random.randint(0, number_cities)\n",
    "#                 print(rand_no, city)    \n",
    "                print(flag)\n",
    "            city[j] = rand_no\n",
    "            \n",
    "\n",
    "        population[i] = city\n",
    "        print(f'Individual {i} created...')\n",
    "    return population"
   ]
  },
  {
   "cell_type": "code",
   "execution_count": 133,
   "metadata": {},
   "outputs": [],
   "source": [
    "# Parameters\n",
    "# total_cities = 6\n",
    "# population_size = np.math.factorial(total_cities)\n",
    "# population_size = 50\n",
    "epochs = 1_000\n",
    "show_info_after = 100\n",
    "crossover_rate = 0.7\n",
    "mutation_rate = 0.001\n",
    "\n",
    "population = np.array([\n",
    "    [1, 2, 3, 5, 4, 0],\n",
    "    [3, 1, 2, 4, 0, 5],\n",
    "    [5, 1, 2, 3, 0, 4],\n",
    "    [0, 1, 5, 4, 3, 2],\n",
    "    [1, 3, 0, 4, 5, 2],\n",
    "    [0, 5, 3, 4, 1, 2]\n",
    "])\n",
    "population_size = population.shape[0]\n",
    "total_cities = population.shape[1]"
   ]
  },
  {
   "cell_type": "code",
   "execution_count": 134,
   "metadata": {},
   "outputs": [],
   "source": [
    "# This costs matrix show the distance between each city \n",
    "# City are 0, 1, 2, 3, 4, 5\n",
    "costs = np.array([\n",
    "    [  0, 105,  95, 340, 256, 292],\n",
    "    [105,   0, 372, 288, 145, 309],\n",
    "    [ 95, 372,   0, 155, 200, 188],\n",
    "    [340, 288, 155,   0, 244, 327],\n",
    "    [256, 145, 200, 244,   0,  98],\n",
    "    [292, 309, 188, 327,  98,   0]\n",
    "])"
   ]
  },
  {
   "cell_type": "code",
   "execution_count": 135,
   "metadata": {},
   "outputs": [
    {
     "name": "stdout",
     "output_type": "stream",
     "text": [
      "Distance between city 2 and city 5 is : 188\n",
      "Distance between city 0 and city 4 is : 256\n"
     ]
    },
    {
     "data": {
      "text/plain": [
       "array([[  0, 105,  95, 340, 256, 292],\n",
       "       [105,   0, 372, 288, 145, 309],\n",
       "       [ 95, 372,   0, 155, 200, 188],\n",
       "       [340, 288, 155,   0, 244, 327],\n",
       "       [256, 145, 200, 244,   0,  98],\n",
       "       [292, 309, 188, 327,  98,   0]])"
      ]
     },
     "execution_count": 135,
     "metadata": {},
     "output_type": "execute_result"
    }
   ],
   "source": [
    "# Example: Distance between city 2 and city 5\n",
    "print(f'Distance between city 2 and city 5 is : {costs[2, 5]}')\n",
    "# Example: Distance between city 0 and city 4\n",
    "print(f'Distance between city 0 and city 4 is : {costs[0, 4]}')\n",
    "costs"
   ]
  },
  {
   "cell_type": "code",
   "execution_count": 136,
   "metadata": {},
   "outputs": [
    {
     "data": {
      "text/plain": [
       "array([224.,  24.,   0., 521., 262.,  52.])"
      ]
     },
     "execution_count": 136,
     "metadata": {},
     "output_type": "execute_result"
    }
   ],
   "source": [
    "fitness_score = compute_fitness_score(costs, population)\n",
    "fitness_score"
   ]
  },
  {
   "cell_type": "code",
   "execution_count": 137,
   "metadata": {},
   "outputs": [
    {
     "name": "stdout",
     "output_type": "stream",
     "text": [
      "Start running Genetic Algorithm\n",
      "Epoch 100 done...\n",
      "Epoch 200 done...\n",
      "Epoch 300 done...\n",
      "Epoch 400 done...\n",
      "Epoch 500 done...\n",
      "Epoch 600 done...\n",
      "Epoch 700 done...\n",
      "Epoch 800 done...\n",
      "Epoch 900 done...\n",
      "Epoch 1000 done...\n"
     ]
    }
   ],
   "source": [
    "# Running Genetic Algorithm\n",
    "print('Start running Genetic Algorithm')\n",
    "for i in range(1, epochs+1, 1):\n",
    "    population = mating(population, fitness_score, crossover_rate, mutation_rate)\n",
    "    fitness_score = compute_fitness_score(costs, population)\n",
    "    if i % show_info_after == 0 and i != 0:\n",
    "        print(f'Epoch {i} done...')"
   ]
  },
  {
   "cell_type": "code",
   "execution_count": 138,
   "metadata": {},
   "outputs": [
    {
     "data": {
      "text/plain": [
       "array([594.,  99., 448., 342.,   0., 788.])"
      ]
     },
     "execution_count": 138,
     "metadata": {},
     "output_type": "execute_result"
    }
   ],
   "source": [
    "fitness_score"
   ]
  },
  {
   "cell_type": "code",
   "execution_count": null,
   "metadata": {},
   "outputs": [],
   "source": []
  },
  {
   "cell_type": "code",
   "execution_count": null,
   "metadata": {},
   "outputs": [],
   "source": []
  },
  {
   "cell_type": "code",
   "execution_count": null,
   "metadata": {},
   "outputs": [],
   "source": []
  },
  {
   "cell_type": "code",
   "execution_count": null,
   "metadata": {},
   "outputs": [],
   "source": []
  },
  {
   "cell_type": "code",
   "execution_count": null,
   "metadata": {},
   "outputs": [],
   "source": []
  },
  {
   "cell_type": "code",
   "execution_count": null,
   "metadata": {},
   "outputs": [],
   "source": []
  }
 ],
 "metadata": {
  "kernelspec": {
   "display_name": "Python 3 (ipykernel)",
   "language": "python",
   "name": "python3"
  },
  "language_info": {
   "codemirror_mode": {
    "name": "ipython",
    "version": 3
   },
   "file_extension": ".py",
   "mimetype": "text/x-python",
   "name": "python",
   "nbconvert_exporter": "python",
   "pygments_lexer": "ipython3",
   "version": "3.11.4"
  }
 },
 "nbformat": 4,
 "nbformat_minor": 2
}
