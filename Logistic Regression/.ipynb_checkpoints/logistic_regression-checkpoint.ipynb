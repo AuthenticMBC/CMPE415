{
 "cells": [
  {
   "cell_type": "markdown",
   "id": "cc074766-fc90-43bc-8e49-a5d5f2e31e0a",
   "metadata": {
    "deletable": false,
    "editable": false
   },
   "source": [
    "<p style=\"float:right;\"><i>Created By Maroyi Bisoka on 01/02/2025</i></p>"
   ]
  },
  {
   "cell_type": "code",
   "execution_count": 225,
   "id": "50cf791e-2530-421b-9260-c7bead1e1464",
   "metadata": {},
   "outputs": [],
   "source": [
    "import numpy as np\n",
    "import math\n",
    "from copy import deepcopy"
   ]
  },
  {
   "cell_type": "markdown",
   "id": "551110c8-3a54-40b2-83b2-ad779f5ff9fd",
   "metadata": {},
   "source": [
    "<div>\n",
    "    <h2>Heart Disease Prediction Dataset</h2>\n",
    "    <table border=\"1\">\n",
    "        <thead>\n",
    "            <tr>\n",
    "                <th>Age</th>\n",
    "                <th>Cholesterol</th>\n",
    "                <th>Blood Pressure</th>\n",
    "                <th>Smoking</th>\n",
    "                <th>Diabetes</th>\n",
    "                <th>Exercise</th>\n",
    "                <th>Heart Disease (Target)</th>\n",
    "            </tr>\n",
    "        </thead>\n",
    "        <tbody>\n",
    "            <tr><td>45</td><td>220</td><td>140</td><td>1</td><td>0</td><td>0</td><td>1</td></tr>\n",
    "            <tr><td>52</td><td>180</td><td>130</td><td>0</td><td>1</td><td>1</td><td>1</td></tr>\n",
    "            <tr><td>37</td><td>160</td><td>120</td><td>0</td><td>0</td><td>1</td><td>0</td></tr>\n",
    "            <tr><td>60</td><td>250</td><td>150</td><td>1</td><td>1</td><td>0</td><td>1</td></tr>\n",
    "            <tr><td>50</td><td>210</td><td>135</td><td>0</td><td>0</td><td>1</td><td>0</td></tr>\n",
    "            <tr><td>48</td><td>190</td><td>125</td><td>1</td><td>0</td><td>1</td><td>0</td></tr>\n",
    "            <tr><td>55</td><td>230</td><td>145</td><td>1</td><td>1</td><td>0</td><td>1</td></tr>\n",
    "            <tr><td>42</td><td>170</td><td>120</td><td>0</td><td>0</td><td>1</td><td>0</td></tr>\n",
    "            <tr><td>65</td><td>260</td><td>160</td><td>1</td><td>1</td><td>0</td><td>1</td></tr>\n",
    "            <tr><td>58</td><td>200</td><td>140</td><td>0</td><td>1</td><td>1</td><td>1</td></tr>\n",
    "        </tbody>\n",
    "    </table>\n",
    "</div>"
   ]
  },
  {
   "cell_type": "code",
   "execution_count": 227,
   "id": "1f0c3c5b-71d0-4fc4-b839-0982cb1c5081",
   "metadata": {},
   "outputs": [],
   "source": [
    "# Features scaling \n",
    "def zscore_normalization(x):\n",
    "    mu = np.mean(x, axis=0)\n",
    "    sigma = np.std(x, axis=0)\n",
    "    x_norm = (x - mu) / sigma      \n",
    "    return x_norm, mu, sigma"
   ]
  },
  {
   "cell_type": "code",
   "execution_count": 228,
   "id": "35138727-b85e-4bf9-8faa-b6acc56667e1",
   "metadata": {},
   "outputs": [],
   "source": [
    "def sigmoid(z):\n",
    "    g = 1/(1+np.exp(-z))\n",
    "    return g"
   ]
  },
  {
   "cell_type": "code",
   "execution_count": 229,
   "id": "784fdb33-5b77-4d4d-b134-2030fd0b48e6",
   "metadata": {},
   "outputs": [],
   "source": [
    "def compute_cost(X, y, w, b):\n",
    "    m = X.shape[0]\n",
    "    cost = 0.0\n",
    "    for i in range(m):\n",
    "        z_i = np.dot(X[i], w) + b\n",
    "        f_wb_i = sigmoid(z_i)\n",
    "        cost +=  -y[i]*np.log(f_wb_i) - (1-y[i])*np.log(1-f_wb_i)\n",
    "             \n",
    "    cost /= m\n",
    "    return cost"
   ]
  },
  {
   "cell_type": "code",
   "execution_count": 230,
   "id": "6bf13fc9-e453-470d-acf1-96a627f2ec9a",
   "metadata": {},
   "outputs": [],
   "source": [
    "def compute_gradient(X, y, w, b):\n",
    "    m, n = X.shape\n",
    "    dj_dw = np.zeros(n)\n",
    "    dj_db = 0.\n",
    "    for i in range(m):\n",
    "        f_wb_i = sigmoid(np.dot(X[i],w) + b)\n",
    "        err_i = f_wb_i - y[i]\n",
    "        for j in range(n):\n",
    "            dj_dw[j] = dj_dw[j] + err_i * X[i,j]\n",
    "        dj_db = dj_db + err_i\n",
    "    dj_dw /= m\n",
    "    dj_db /= m\n",
    "    return dj_dw, dj_db"
   ]
  },
  {
   "cell_type": "code",
   "execution_count": 231,
   "id": "62fb410f-3cf6-42e9-9df9-f33cf372750b",
   "metadata": {},
   "outputs": [],
   "source": [
    "def gradient_descent(X, y, w_init, b_init, epochs, alpha):\n",
    "    w = deepcopy(w_init)\n",
    "    b = b_init\n",
    "    for i in range(epochs):\n",
    "        dj_dw, dj_db = compute_gradient(X, y, w, b) # Compute gradient\n",
    "        # Update w and b\n",
    "        w = w - alpha * dj_dw\n",
    "        b = b - alpha * dj_db\n",
    "\n",
    "        if i% math.ceil(epochs / 10) == 0:\n",
    "            print(f\"Iteration {i:4d}: Cost {compute_cost(X, y, w, b)}\")\n",
    "\n",
    "    return w, b"
   ]
  },
  {
   "cell_type": "code",
   "execution_count": 232,
   "id": "56a7a35e-81ee-4ee9-9205-5883bfa4aa30",
   "metadata": {},
   "outputs": [],
   "source": [
    "# Training dataset\n",
    "X_train = np.array([\n",
    "    [45, 220, 140, 1, 0, 0],\n",
    "    [52, 180, 130, 0, 1, 1],\n",
    "    [37, 160, 120, 0, 0, 1],\n",
    "    [60, 250, 150, 1, 1, 0],\n",
    "    [50, 210, 135, 0, 0, 1],\n",
    "    [48, 190, 125, 1, 0, 1],\n",
    "    [55, 230, 145, 1, 1, 0],\n",
    "    [42, 170, 120, 0, 0, 1],\n",
    "    [65, 260, 160, 1, 1, 0],\n",
    "    [58, 200, 140, 0, 1, 1]\n",
    "])\n",
    "y_train = np.array([1, 1, 0, 1, 0, 0, 1, 0, 1, 1])"
   ]
  },
  {
   "cell_type": "code",
   "execution_count": 233,
   "id": "622e8ba4-2d22-4134-a6b2-92016a859e22",
   "metadata": {},
   "outputs": [],
   "source": [
    "m, n = X_train.shape\n",
    "w_init = np.zeros(n)\n",
    "b_init = 0.0\n",
    "epochs = 1_000\n",
    "alpha = 1e-1"
   ]
  },
  {
   "cell_type": "code",
   "execution_count": 234,
   "id": "4f8083ac-e69f-4f0e-8de9-ed0c00187602",
   "metadata": {},
   "outputs": [],
   "source": [
    "# Perform feature scaling \n",
    "X_norm, mu, sigma = zscore_normalization(X_train)"
   ]
  },
  {
   "cell_type": "code",
   "execution_count": 235,
   "id": "6fdc48a6-9a8b-48fb-89ac-d3fef33ae740",
   "metadata": {},
   "outputs": [
    {
     "data": {
      "text/plain": [
       "array([[-0.75995002,  0.4108907 ,  0.28090032,  1.        , -1.        ,\n",
       "        -1.22474487],\n",
       "       [ 0.09805807, -0.85338838, -0.52167203, -1.        ,  1.        ,\n",
       "         0.81649658],\n",
       "       [-1.7405307 , -1.48552792, -1.32424438, -1.        , -1.        ,\n",
       "         0.81649658],\n",
       "       [ 1.07863874,  1.35910001,  1.08347268,  1.        ,  1.        ,\n",
       "        -1.22474487],\n",
       "       [-0.1470871 ,  0.09482093, -0.12038585, -1.        , -1.        ,\n",
       "         0.81649658],\n",
       "       [-0.39223227, -0.53731861, -0.92295821,  1.        , -1.        ,\n",
       "         0.81649658],\n",
       "       [ 0.46577582,  0.72696047,  0.6821865 ,  1.        ,  1.        ,\n",
       "        -1.22474487],\n",
       "       [-1.12766778, -1.16945815, -1.32424438, -1.        , -1.        ,\n",
       "         0.81649658],\n",
       "       [ 1.69150167,  1.67516978,  1.88604503,  1.        ,  1.        ,\n",
       "        -1.22474487],\n",
       "       [ 0.83349357, -0.22124884,  0.28090032, -1.        ,  1.        ,\n",
       "         0.81649658]])"
      ]
     },
     "execution_count": 235,
     "metadata": {},
     "output_type": "execute_result"
    }
   ],
   "source": [
    "X_norm"
   ]
  },
  {
   "cell_type": "code",
   "execution_count": 236,
   "id": "a27e2532-88d8-4cc1-aa37-15914e9a72db",
   "metadata": {},
   "outputs": [
    {
     "name": "stdout",
     "output_type": "stream",
     "text": [
      "Iteration    0: Cost 0.6301383314649103\n",
      "Iteration  100: Cost 0.1548919881318656\n",
      "Iteration  200: Cost 0.1014638508204114\n",
      "Iteration  300: Cost 0.07494235705239713\n",
      "Iteration  400: Cost 0.05907695668610705\n",
      "Iteration  500: Cost 0.048581693062498564\n",
      "Iteration  600: Cost 0.04115860071596451\n",
      "Iteration  700: Cost 0.0356487011023929\n",
      "Iteration  800: Cost 0.03140644707240077\n",
      "Iteration  900: Cost 0.028045046952733237\n"
     ]
    }
   ],
   "source": [
    "# Training model\n",
    "w_final, b_final = gradient_descent(X_norm, y_train, w_init, b_init, epochs, alpha)"
   ]
  },
  {
   "cell_type": "code",
   "execution_count": 237,
   "id": "34c904d5-878b-4270-a3f8-420c6eb16566",
   "metadata": {},
   "outputs": [
    {
     "name": "stdout",
     "output_type": "stream",
     "text": [
      "w_final [ 0.53103561  0.10499975  1.29731831  0.35885547  3.03829102 -2.26896494]\n",
      "b_final 2.423610153636453\n"
     ]
    }
   ],
   "source": [
    "# w_final and b_final\n",
    "print(f'w_final {w_final}')\n",
    "print(f'b_final {b_final}')"
   ]
  },
  {
   "cell_type": "code",
   "execution_count": 238,
   "id": "eca02229-e57e-4a35-a67f-bf14ec9d7318",
   "metadata": {},
   "outputs": [],
   "source": [
    "def predict_with_norm_value(X_test, w, b, threshold, mu, sigma, sigmoid_function):\n",
    "    m = X_test.shape[0]\n",
    "    X_norm_test = (X_test - mu) / sigma\n",
    "    pred = np.zeros(m, dtype=int)\n",
    "    for i in range(m):\n",
    "        z = np.dot(X_norm_test[i], w) + b\n",
    "        g = sigmoid_function(z)\n",
    "        pred[i] = 1 if g >= threshold else 0\n",
    "    return pred"
   ]
  },
  {
   "cell_type": "code",
   "execution_count": 239,
   "id": "9eaba406-f009-4f2a-b55c-86f2bb4a1a86",
   "metadata": {},
   "outputs": [
    {
     "data": {
      "text/plain": [
       "array([1, 1, 0, 1, 0, 0, 1, 0, 1, 1])"
      ]
     },
     "execution_count": 239,
     "metadata": {},
     "output_type": "execute_result"
    }
   ],
   "source": [
    "# Predictions of our own implementation\n",
    "threshold = 0.5\n",
    "predictions = predict_with_norm_value(X_train, w_final, b_final, threshold, mu, sigma, sigmoid)\n",
    "predictions"
   ]
  },
  {
   "cell_type": "code",
   "execution_count": 240,
   "id": "bd3eafee-bcd9-42a0-a650-6266ba129817",
   "metadata": {},
   "outputs": [
    {
     "data": {
      "text/plain": [
       "array([1, 1, 0, 1, 0, 0, 1, 0, 1, 1])"
      ]
     },
     "execution_count": 240,
     "metadata": {},
     "output_type": "execute_result"
    }
   ],
   "source": [
    "y_train"
   ]
  },
  {
   "cell_type": "markdown",
   "id": "e215c8e5-5153-4bfb-9c35-a7a4ad57896a",
   "metadata": {},
   "source": [
    "## Use sklearn for testing our own implementation\n",
    "<p>\n",
    "    Scikit-learn (sklearn) is an open-source machine learning library for Python that provides implementations of numerous data modeling and machine learning algorithms, and provides consistent Python APIs. It supports a standardized and concise model interface across models.\n",
    "</p>"
   ]
  },
  {
   "cell_type": "code",
   "execution_count": 242,
   "id": "0016f23d-29c1-4d56-bc7b-feecb7be6428",
   "metadata": {},
   "outputs": [],
   "source": [
    "from sklearn.linear_model import LogisticRegression"
   ]
  },
  {
   "cell_type": "code",
   "execution_count": 243,
   "id": "ff3008f7-0331-4095-b588-eb0fa093c25c",
   "metadata": {},
   "outputs": [],
   "source": [
    "logmodel = LogisticRegression(max_iter=1_000)"
   ]
  },
  {
   "cell_type": "code",
   "execution_count": 244,
   "id": "0cd2f3cb-2128-4742-83cb-f07773056e5d",
   "metadata": {},
   "outputs": [
    {
     "data": {
      "text/html": [
       "<style>#sk-container-id-5 {color: black;}#sk-container-id-5 pre{padding: 0;}#sk-container-id-5 div.sk-toggleable {background-color: white;}#sk-container-id-5 label.sk-toggleable__label {cursor: pointer;display: block;width: 100%;margin-bottom: 0;padding: 0.3em;box-sizing: border-box;text-align: center;}#sk-container-id-5 label.sk-toggleable__label-arrow:before {content: \"▸\";float: left;margin-right: 0.25em;color: #696969;}#sk-container-id-5 label.sk-toggleable__label-arrow:hover:before {color: black;}#sk-container-id-5 div.sk-estimator:hover label.sk-toggleable__label-arrow:before {color: black;}#sk-container-id-5 div.sk-toggleable__content {max-height: 0;max-width: 0;overflow: hidden;text-align: left;background-color: #f0f8ff;}#sk-container-id-5 div.sk-toggleable__content pre {margin: 0.2em;color: black;border-radius: 0.25em;background-color: #f0f8ff;}#sk-container-id-5 input.sk-toggleable__control:checked~div.sk-toggleable__content {max-height: 200px;max-width: 100%;overflow: auto;}#sk-container-id-5 input.sk-toggleable__control:checked~label.sk-toggleable__label-arrow:before {content: \"▾\";}#sk-container-id-5 div.sk-estimator input.sk-toggleable__control:checked~label.sk-toggleable__label {background-color: #d4ebff;}#sk-container-id-5 div.sk-label input.sk-toggleable__control:checked~label.sk-toggleable__label {background-color: #d4ebff;}#sk-container-id-5 input.sk-hidden--visually {border: 0;clip: rect(1px 1px 1px 1px);clip: rect(1px, 1px, 1px, 1px);height: 1px;margin: -1px;overflow: hidden;padding: 0;position: absolute;width: 1px;}#sk-container-id-5 div.sk-estimator {font-family: monospace;background-color: #f0f8ff;border: 1px dotted black;border-radius: 0.25em;box-sizing: border-box;margin-bottom: 0.5em;}#sk-container-id-5 div.sk-estimator:hover {background-color: #d4ebff;}#sk-container-id-5 div.sk-parallel-item::after {content: \"\";width: 100%;border-bottom: 1px solid gray;flex-grow: 1;}#sk-container-id-5 div.sk-label:hover label.sk-toggleable__label {background-color: #d4ebff;}#sk-container-id-5 div.sk-serial::before {content: \"\";position: absolute;border-left: 1px solid gray;box-sizing: border-box;top: 0;bottom: 0;left: 50%;z-index: 0;}#sk-container-id-5 div.sk-serial {display: flex;flex-direction: column;align-items: center;background-color: white;padding-right: 0.2em;padding-left: 0.2em;position: relative;}#sk-container-id-5 div.sk-item {position: relative;z-index: 1;}#sk-container-id-5 div.sk-parallel {display: flex;align-items: stretch;justify-content: center;background-color: white;position: relative;}#sk-container-id-5 div.sk-item::before, #sk-container-id-5 div.sk-parallel-item::before {content: \"\";position: absolute;border-left: 1px solid gray;box-sizing: border-box;top: 0;bottom: 0;left: 50%;z-index: -1;}#sk-container-id-5 div.sk-parallel-item {display: flex;flex-direction: column;z-index: 1;position: relative;background-color: white;}#sk-container-id-5 div.sk-parallel-item:first-child::after {align-self: flex-end;width: 50%;}#sk-container-id-5 div.sk-parallel-item:last-child::after {align-self: flex-start;width: 50%;}#sk-container-id-5 div.sk-parallel-item:only-child::after {width: 0;}#sk-container-id-5 div.sk-dashed-wrapped {border: 1px dashed gray;margin: 0 0.4em 0.5em 0.4em;box-sizing: border-box;padding-bottom: 0.4em;background-color: white;}#sk-container-id-5 div.sk-label label {font-family: monospace;font-weight: bold;display: inline-block;line-height: 1.2em;}#sk-container-id-5 div.sk-label-container {text-align: center;}#sk-container-id-5 div.sk-container {/* jupyter's `normalize.less` sets `[hidden] { display: none; }` but bootstrap.min.css set `[hidden] { display: none !important; }` so we also need the `!important` here to be able to override the default hidden behavior on the sphinx rendered scikit-learn.org. See: https://github.com/scikit-learn/scikit-learn/issues/21755 */display: inline-block !important;position: relative;}#sk-container-id-5 div.sk-text-repr-fallback {display: none;}</style><div id=\"sk-container-id-5\" class=\"sk-top-container\"><div class=\"sk-text-repr-fallback\"><pre>LogisticRegression(max_iter=1000)</pre><b>In a Jupyter environment, please rerun this cell to show the HTML representation or trust the notebook. <br />On GitHub, the HTML representation is unable to render, please try loading this page with nbviewer.org.</b></div><div class=\"sk-container\" hidden><div class=\"sk-item\"><div class=\"sk-estimator sk-toggleable\"><input class=\"sk-toggleable__control sk-hidden--visually\" id=\"sk-estimator-id-5\" type=\"checkbox\" checked><label for=\"sk-estimator-id-5\" class=\"sk-toggleable__label sk-toggleable__label-arrow\">LogisticRegression</label><div class=\"sk-toggleable__content\"><pre>LogisticRegression(max_iter=1000)</pre></div></div></div></div></div>"
      ],
      "text/plain": [
       "LogisticRegression(max_iter=1000)"
      ]
     },
     "execution_count": 244,
     "metadata": {},
     "output_type": "execute_result"
    }
   ],
   "source": [
    "logmodel.fit(X_train, y_train)"
   ]
  },
  {
   "cell_type": "code",
   "execution_count": 245,
   "id": "23561be4-06d4-4ff3-939c-4e414e22f437",
   "metadata": {},
   "outputs": [],
   "source": [
    "sklearn_pred = logmodel.predict(X_train)"
   ]
  },
  {
   "cell_type": "code",
   "execution_count": 246,
   "id": "060f489b-41c9-4d84-8a99-341b8ce65786",
   "metadata": {},
   "outputs": [
    {
     "data": {
      "text/plain": [
       "array([1, 1, 0, 1, 0, 0, 1, 0, 1, 1])"
      ]
     },
     "execution_count": 246,
     "metadata": {},
     "output_type": "execute_result"
    }
   ],
   "source": [
    "# Prediction of Sklearn\n",
    "sklearn_pred"
   ]
  },
  {
   "cell_type": "code",
   "execution_count": 247,
   "id": "6323b962-cedb-4e40-a0ba-16c507848f69",
   "metadata": {},
   "outputs": [
    {
     "data": {
      "text/plain": [
       "array([1, 1, 0, 1, 0, 0, 1, 0, 1, 1])"
      ]
     },
     "execution_count": 247,
     "metadata": {},
     "output_type": "execute_result"
    }
   ],
   "source": [
    "#Our prediction\n",
    "predictions"
   ]
  },
  {
   "cell_type": "markdown",
   "id": "7750c5a2-fd03-491e-8498-c43ac00d1b63",
   "metadata": {},
   "source": [
    "# Testing on new dataset"
   ]
  },
  {
   "cell_type": "code",
   "execution_count": 249,
   "id": "be4dd2be-f606-44d8-b2da-60a39942da97",
   "metadata": {},
   "outputs": [],
   "source": [
    "X_test = np.array([\n",
    "    [46, 200, 130, 1, 0, 1],\n",
    "    [53, 210, 140, 0, 1, 0],\n",
    "    [39, 170, 120, 0, 0, 1],\n",
    "    [62, 240, 150, 1, 1, 0],\n",
    "    [49, 195, 128, 0, 0, 1]\n",
    "])\n",
    "y_test = np.array([1, 1, 0, 1, 0])"
   ]
  },
  {
   "cell_type": "code",
   "execution_count": 250,
   "id": "20ab7d8f-b6ad-461e-aec9-e1e0475e0465",
   "metadata": {},
   "outputs": [],
   "source": [
    "# Testing our implementation\n",
    "pred_test = predict_with_norm_value(X_test, w_final, b_final, threshold, mu, sigma, sigmoid)"
   ]
  },
  {
   "cell_type": "code",
   "execution_count": 251,
   "id": "a8ab3316-2a9a-4d2d-9112-b87763e9fb0d",
   "metadata": {},
   "outputs": [
    {
     "name": "stdout",
     "output_type": "stream",
     "text": [
      "y_test:    [1 1 0 1 0]\n",
      "pred_test: [0 1 0 1 0]\n"
     ]
    }
   ],
   "source": [
    "print(f'y_test:    {y_test}')\n",
    "print(f'pred_test: {pred_test}')"
   ]
  },
  {
   "cell_type": "code",
   "execution_count": 252,
   "id": "f7cb1c5e-ed2a-4f2d-93df-632a6e0978ae",
   "metadata": {},
   "outputs": [],
   "source": [
    "# Testing sklearn implementation\n",
    "sk_pred_test = logmodel.predict(X_test)"
   ]
  },
  {
   "cell_type": "code",
   "execution_count": 253,
   "id": "3665e424-4916-4c75-afef-65fd49feea7d",
   "metadata": {},
   "outputs": [
    {
     "name": "stdout",
     "output_type": "stream",
     "text": [
      "y_test:       [1 1 0 1 0]\n",
      "sk_pred_test: [0 1 0 1 0]\n"
     ]
    }
   ],
   "source": [
    "print(f'y_test:       {y_test}')\n",
    "print(f'sk_pred_test: {pred_test}')"
   ]
  },
  {
   "cell_type": "code",
   "execution_count": 254,
   "id": "2c955c4a-044b-4113-9d4b-97369f9ec5aa",
   "metadata": {},
   "outputs": [],
   "source": [
    "# Evaluation\n",
    "from sklearn.metrics import classification_report"
   ]
  },
  {
   "cell_type": "code",
   "execution_count": 255,
   "id": "4874a88f-a6d7-4e3e-a7e0-067ad104b505",
   "metadata": {},
   "outputs": [],
   "source": [
    "report = classification_report(y_test, sk_pred_test)"
   ]
  },
  {
   "cell_type": "code",
   "execution_count": 256,
   "id": "cc2cef08-38be-41f0-bca8-d5c2cebc581f",
   "metadata": {},
   "outputs": [
    {
     "name": "stdout",
     "output_type": "stream",
     "text": [
      "              precision    recall  f1-score   support\n",
      "\n",
      "           0       0.67      1.00      0.80         2\n",
      "           1       1.00      0.67      0.80         3\n",
      "\n",
      "    accuracy                           0.80         5\n",
      "   macro avg       0.83      0.83      0.80         5\n",
      "weighted avg       0.87      0.80      0.80         5\n",
      "\n"
     ]
    }
   ],
   "source": [
    "print(report)"
   ]
  }
 ],
 "metadata": {
  "kernelspec": {
   "display_name": "Python [conda env:base] *",
   "language": "python",
   "name": "conda-base-py"
  },
  "language_info": {
   "codemirror_mode": {
    "name": "ipython",
    "version": 3
   },
   "file_extension": ".py",
   "mimetype": "text/x-python",
   "name": "python",
   "nbconvert_exporter": "python",
   "pygments_lexer": "ipython3",
   "version": "3.11.4"
  }
 },
 "nbformat": 4,
 "nbformat_minor": 5
}
