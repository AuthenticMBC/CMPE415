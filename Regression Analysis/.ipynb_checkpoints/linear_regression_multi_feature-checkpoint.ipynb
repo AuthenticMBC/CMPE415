{
 "cells": [
  {
   "cell_type": "markdown",
   "id": "43d16687-b228-46f2-89a4-8c68f0842eaa",
   "metadata": {
    "deletable": false,
    "editable": false
   },
   "source": [
    "<p style=\"float:right;\"><i>Created By Maroyi Bisoka on 30/01/2025</i></p>"
   ]
  },
  {
   "cell_type": "code",
   "execution_count": 27,
   "id": "6b072207-a00b-4433-a17d-f9f7d5b15852",
   "metadata": {},
   "outputs": [],
   "source": [
    "import math, copy\n",
    "import numpy as np"
   ]
  },
  {
   "cell_type": "markdown",
   "id": "7833f217-6610-4481-8cae-9700d9f3e03f",
   "metadata": {},
   "source": [
    "<div>\n",
    "    <h2>Dataset with Additional Features</h2>\n",
    "    <table>\n",
    "        <thead>\n",
    "            <tr>\n",
    "                <th>Size</th>\n",
    "                <th>Age of House (years)</th>\n",
    "                <th>Bedrooms</th>\n",
    "                <th>Floors</th>\n",
    "                <th>Price</th>\n",
    "            </tr>\n",
    "        </thead>\n",
    "        <tbody>\n",
    "            <tr><td>23</td><td>12</td><td>2</td><td>1</td><td>105</td></tr>\n",
    "            <tr><td>40</td><td>8</td><td>3</td><td>2</td><td>150</td></tr>\n",
    "            <tr><td>36</td><td>15</td><td>2</td><td>1</td><td>105</td></tr>\n",
    "            <tr><td>34</td><td>10</td><td>4</td><td>2</td><td>126</td></tr>\n",
    "            <tr><td>26</td><td>5</td><td>1</td><td>1</td><td>63</td></tr>\n",
    "            <tr><td>26</td><td>20</td><td>2</td><td>1</td><td>106</td></tr>\n",
    "            <tr><td>60</td><td>7</td><td>5</td><td>3</td><td>150</td></tr>\n",
    "            <tr><td>36</td><td>3</td><td>2</td><td>2</td><td>157</td></tr>\n",
    "            <tr><td>29</td><td>18</td><td>3</td><td>1</td><td>79</td></tr>\n",
    "            <tr><td>40</td><td>9</td><td>4</td><td>2</td><td>154</td></tr>\n",
    "        </tbody>\n",
    "    </table>\n",
    "</div>"
   ]
  },
  {
   "cell_type": "code",
   "execution_count": 29,
   "id": "c23b33a3-e18f-4541-b47e-22f3e961eeae",
   "metadata": {},
   "outputs": [],
   "source": [
    "# # Define the dataset\n",
    "x_train = np.array([\n",
    "    [23, 12, 2, 1],\n",
    "    [40, 8, 3, 2],\n",
    "    [36, 15, 2, 1],\n",
    "    [34, 10, 4, 2],\n",
    "    [26, 5, 1, 1],\n",
    "    [26, 20, 2, 1],\n",
    "    [60, 7, 5, 3],\n",
    "    [36, 3, 2, 2],\n",
    "    [29, 18, 3, 1],\n",
    "    [40, 9, 4, 2]\n",
    "])\n",
    "\n",
    "y_train = np.array([105, 150, 105, 126, 63, 106, 150, 157, 79, 154])"
   ]
  },
  {
   "cell_type": "markdown",
   "id": "a3a50ad7-2555-49cc-861f-8a260a8a5dcc",
   "metadata": {},
   "source": [
    "\n",
    "<h1>Feature scaling</h1>\n",
    "<div>\n",
    "    <hp>Scaling method used: <strong>z-score normalization</strong> </p>\n",
    "    <div class=\"formula\" style=\"font-weight: bold;\">\n",
    "        z = (x - μ) / σ\n",
    "    </div>\n",
    "    <div class=\"explanation\">\n",
    "        <p>Where:</p>\n",
    "        <ul>\n",
    "            <li><strong>z</strong> = Z-score (standard score)</li>\n",
    "            <li><strong>x</strong> = Raw data value</li>\n",
    "            <li><strong>μ</strong> = Mean of the dataset</li>\n",
    "            <li><strong>σ</strong> = Standard deviation of the dataset</li>\n",
    "        </ul>\n",
    "    </div>\n",
    "<div class=\"explanation\">\n",
    "    <p>The Z-score indicates how many standard deviations a data point is from the mean.</p>\n",
    "</div>\n",
    "</div>"
   ]
  },
  {
   "cell_type": "code",
   "execution_count": 31,
   "id": "783b2882-947d-4b61-9af6-a792ac9ed33f",
   "metadata": {},
   "outputs": [],
   "source": [
    "# Features scaling \n",
    "def zscore_normalization(x):\n",
    "    # mean of each column/feature\n",
    "    mu = np.mean(x, axis=0) # mu will have shape (n,)\n",
    "    # standard deviation of each column/feature\n",
    "    sigma = np.std(x, axis=0) # shape of n with correspond to the number of features\n",
    "    # normalized values (element-wise operation)\n",
    "    x_norm = (x - mu) / sigma      \n",
    "    return x_norm, mu, sigma"
   ]
  },
  {
   "cell_type": "code",
   "execution_count": 32,
   "id": "34c70654-2b24-4209-b27a-ea6e921a9648",
   "metadata": {},
   "outputs": [
    {
     "data": {
      "text/plain": [
       "array([[-1.18817705,  0.24740596, -0.68599434, -0.90453403],\n",
       "       [ 0.49507377, -0.51384314,  0.17149859,  0.60302269],\n",
       "       [ 0.09901475,  0.81834277, -0.68599434, -0.90453403],\n",
       "       [-0.09901475, -0.13321859,  1.02899151,  0.60302269],\n",
       "       [-0.89113279, -1.08477996, -1.54348727, -0.90453403],\n",
       "       [-0.89113279,  1.76990414, -0.68599434, -0.90453403],\n",
       "       [ 2.47536886, -0.70415541,  1.88648444,  2.11057941],\n",
       "       [ 0.09901475, -1.4654045 , -0.68599434,  0.60302269],\n",
       "       [-0.59408853,  1.38927959,  0.17149859, -0.90453403],\n",
       "       [ 0.49507377, -0.32353086,  1.02899151,  0.60302269]])"
      ]
     },
     "execution_count": 32,
     "metadata": {},
     "output_type": "execute_result"
    }
   ],
   "source": [
    "x_norm, mu, sigma = zscore_normalization(x_train)\n",
    "x_norm"
   ]
  },
  {
   "cell_type": "code",
   "execution_count": 33,
   "id": "29b7ca5e-ecc0-4381-bde8-d1d6fbd26af6",
   "metadata": {},
   "outputs": [],
   "source": [
    "from sklearn.preprocessing import scale"
   ]
  },
  {
   "cell_type": "code",
   "execution_count": 34,
   "id": "bba40274-a83d-41b6-bac2-55e4d16bf4f3",
   "metadata": {},
   "outputs": [
    {
     "data": {
      "text/plain": [
       "array([[-1.18817705,  0.24740596, -0.68599434, -0.90453403],\n",
       "       [ 0.49507377, -0.51384314,  0.17149859,  0.60302269],\n",
       "       [ 0.09901475,  0.81834277, -0.68599434, -0.90453403],\n",
       "       [-0.09901475, -0.13321859,  1.02899151,  0.60302269],\n",
       "       [-0.89113279, -1.08477996, -1.54348727, -0.90453403],\n",
       "       [-0.89113279,  1.76990414, -0.68599434, -0.90453403],\n",
       "       [ 2.47536886, -0.70415541,  1.88648444,  2.11057941],\n",
       "       [ 0.09901475, -1.4654045 , -0.68599434,  0.60302269],\n",
       "       [-0.59408853,  1.38927959,  0.17149859, -0.90453403],\n",
       "       [ 0.49507377, -0.32353086,  1.02899151,  0.60302269]])"
      ]
     },
     "execution_count": 34,
     "metadata": {},
     "output_type": "execute_result"
    }
   ],
   "source": [
    "# Scaling of sklearn implementation\n",
    "scale(x_train, axis=0, with_mean=True, with_std=True, copy=True)"
   ]
  },
  {
   "cell_type": "code",
   "execution_count": 35,
   "id": "5266ee54-8c2f-4548-8a7f-4b68e7bd19eb",
   "metadata": {},
   "outputs": [],
   "source": [
    "def compute_cost(x, y, w, b):\n",
    "    m = x.shape[0]\n",
    "    cost = 0.0\n",
    "    for i in range(m):\n",
    "        f_wb_i = np.dot(x[i], w) + b\n",
    "        cost +=  (f_wb_i - y[i])**2\n",
    "    cost = cost / (2*m)\n",
    "    return cost"
   ]
  },
  {
   "cell_type": "code",
   "execution_count": 36,
   "id": "5f1dd17a-407e-4924-ba3d-b54290456c97",
   "metadata": {},
   "outputs": [],
   "source": [
    "# Compute gradient only one time \n",
    "def compute_gradient(x, y, w, b):\n",
    "    m,n = x.shape # m --> Number of training examples, n --> Number of features\n",
    "    dj_dw = np.zeros((n,))\n",
    "    dj_db = 0.0\n",
    "    for i in range(m):\n",
    "        f_wb_i = np.dot(x[i], w) + b\n",
    "        err = f_wb_i - y[i]\n",
    "        for j in range(n):\n",
    "           dj_dw[j] += (err * x[i, j]) \n",
    "        dj_db += err\n",
    "    dj_dw /= m\n",
    "    dj_db /= m\n",
    "    return dj_dw, dj_db"
   ]
  },
  {
   "cell_type": "code",
   "execution_count": 37,
   "id": "1197e98c-09df-4eb2-a638-7b4b9f509bee",
   "metadata": {},
   "outputs": [],
   "source": [
    "# Running Gradient descent for a specific number of iterations (epochs)\n",
    "def gradient_descent(x, y, w_init, b_init, alpha, epochs, cost_function, gradient_function): \n",
    "    w = copy.deepcopy(w_init)\n",
    "    b = b_init\n",
    "    \n",
    "    for i in range(epochs):\n",
    "        # Calculate the gradient and update the parameters using gradient_function\n",
    "        dj_dw, dj_db = gradient_function(x, y, w , b)\n",
    "\n",
    "        # Update Parameters w and b\n",
    "        b = b - alpha * dj_db\n",
    "        w = w - alpha * dj_dw\n",
    "\n",
    "        # Print cost every at intervals 10 times or as many iterations if < 10\n",
    "        if i % math.ceil(epochs/10) == 0:\n",
    "            print(f\"Iteration {i:4}: Cost: {cost_function(x, y, w , b):0.2e} \")\n",
    "    return w, b"
   ]
  },
  {
   "cell_type": "code",
   "execution_count": 38,
   "id": "c9d63652-237a-4294-8f96-6b60685022da",
   "metadata": {},
   "outputs": [],
   "source": [
    "m, n = x_train.shape\n",
    "w_init = np.zeros(n)\n",
    "b_init = 0.0\n",
    "epochs = 1_000\n",
    "alpha = 1.0e-1"
   ]
  },
  {
   "cell_type": "code",
   "execution_count": 39,
   "id": "b93db121-7b4e-4b03-9bb2-fdc0374149bf",
   "metadata": {},
   "outputs": [
    {
     "name": "stdout",
     "output_type": "stream",
     "text": [
      "Iteration    0: Cost: 6.14e+03 \n",
      "Iteration  100: Cost: 1.70e+02 \n",
      "Iteration  200: Cost: 1.53e+02 \n",
      "Iteration  300: Cost: 1.45e+02 \n",
      "Iteration  400: Cost: 1.41e+02 \n",
      "Iteration  500: Cost: 1.40e+02 \n",
      "Iteration  600: Cost: 1.39e+02 \n",
      "Iteration  700: Cost: 1.38e+02 \n",
      "Iteration  800: Cost: 1.38e+02 \n",
      "Iteration  900: Cost: 1.38e+02 \n"
     ]
    }
   ],
   "source": [
    "w_final, b_final = gradient_descent(x_norm ,y_train, w_init, b_init, alpha, epochs, compute_cost, compute_gradient)"
   ]
  },
  {
   "cell_type": "code",
   "execution_count": 40,
   "id": "d126135b-63f7-47fe-8802-7e414c3b6671",
   "metadata": {},
   "outputs": [
    {
     "name": "stdout",
     "output_type": "stream",
     "text": [
      "w_final [-11.65381685  12.55027221 -15.83896296  55.99161463]\n",
      "b_final 119.49999999999996\n"
     ]
    }
   ],
   "source": [
    "# Final w and b\n",
    "print(f'w_final {w_final}')\n",
    "print(f'b_final {b_final}')"
   ]
  },
  {
   "cell_type": "code",
   "execution_count": 41,
   "id": "1ab7e318-ff4c-4def-bfeb-df315fd784e8",
   "metadata": {},
   "outputs": [],
   "source": [
    "def predict_with_norm_value(w, b, x_test, mu, sigma):\n",
    "    result = np.zeros(x_train.shape[0])\n",
    "    for i, x in enumerate(x_test):\n",
    "        x_test_norm = (x - mu) / sigma\n",
    "        result[i] = np.dot(x_test_norm, w) + b\n",
    "    return result"
   ]
  },
  {
   "cell_type": "code",
   "execution_count": 42,
   "id": "6a84a9f7-9848-4bd3-93f6-3b8cbb7ef491",
   "metadata": {},
   "outputs": [
    {
     "data": {
      "text/plain": [
       "array([ 96.67092775, 138.32948397,  88.83564269, 136.44802583,\n",
       "        90.07173116, 112.31699498, 170.10995458, 144.58452774,\n",
       "        90.49655519, 127.13615612])"
      ]
     },
     "execution_count": 42,
     "metadata": {},
     "output_type": "execute_result"
    }
   ],
   "source": [
    "# Predictions of our own implementation\n",
    "pred = predict_with_norm_value(w_final, b_final, x_train, mu, sigma)\n",
    "pred"
   ]
  },
  {
   "cell_type": "code",
   "execution_count": 43,
   "id": "f2a2bdf9-6604-49fb-a7de-771a38659278",
   "metadata": {},
   "outputs": [
    {
     "name": "stdout",
     "output_type": "stream",
     "text": [
      "Cost j : 38311.35540195978\n"
     ]
    }
   ],
   "source": [
    "j = compute_cost(x_train, y_train, w_final, b_final)\n",
    "print(f'Cost j : {j}')"
   ]
  },
  {
   "cell_type": "markdown",
   "id": "1e08ea80-2c87-4719-91a1-cb2fa7cdea5e",
   "metadata": {},
   "source": [
    "## Use sklearn for testing our own implementation\n",
    "<p>\n",
    "    Scikit-learn (sklearn) is an open-source machine learning library for Python that provides implementations of numerous data modeling and machine learning algorithms, and provides consistent Python APIs. It supports a standardized and concise model interface across models.\n",
    "</p>"
   ]
  },
  {
   "cell_type": "code",
   "execution_count": 45,
   "id": "8e20b696-87d5-49d5-8ac9-efd2b799a2f5",
   "metadata": {},
   "outputs": [],
   "source": [
    "from sklearn.linear_model import LinearRegression"
   ]
  },
  {
   "cell_type": "code",
   "execution_count": 46,
   "id": "10964fe2-8580-4bd2-a90c-268e5b2992d4",
   "metadata": {},
   "outputs": [],
   "source": [
    "lm = LinearRegression()"
   ]
  },
  {
   "cell_type": "code",
   "execution_count": 47,
   "id": "ebcbd514-c32e-447f-951f-861f43320a45",
   "metadata": {},
   "outputs": [
    {
     "data": {
      "text/html": [
       "<style>#sk-container-id-1 {color: black;}#sk-container-id-1 pre{padding: 0;}#sk-container-id-1 div.sk-toggleable {background-color: white;}#sk-container-id-1 label.sk-toggleable__label {cursor: pointer;display: block;width: 100%;margin-bottom: 0;padding: 0.3em;box-sizing: border-box;text-align: center;}#sk-container-id-1 label.sk-toggleable__label-arrow:before {content: \"▸\";float: left;margin-right: 0.25em;color: #696969;}#sk-container-id-1 label.sk-toggleable__label-arrow:hover:before {color: black;}#sk-container-id-1 div.sk-estimator:hover label.sk-toggleable__label-arrow:before {color: black;}#sk-container-id-1 div.sk-toggleable__content {max-height: 0;max-width: 0;overflow: hidden;text-align: left;background-color: #f0f8ff;}#sk-container-id-1 div.sk-toggleable__content pre {margin: 0.2em;color: black;border-radius: 0.25em;background-color: #f0f8ff;}#sk-container-id-1 input.sk-toggleable__control:checked~div.sk-toggleable__content {max-height: 200px;max-width: 100%;overflow: auto;}#sk-container-id-1 input.sk-toggleable__control:checked~label.sk-toggleable__label-arrow:before {content: \"▾\";}#sk-container-id-1 div.sk-estimator input.sk-toggleable__control:checked~label.sk-toggleable__label {background-color: #d4ebff;}#sk-container-id-1 div.sk-label input.sk-toggleable__control:checked~label.sk-toggleable__label {background-color: #d4ebff;}#sk-container-id-1 input.sk-hidden--visually {border: 0;clip: rect(1px 1px 1px 1px);clip: rect(1px, 1px, 1px, 1px);height: 1px;margin: -1px;overflow: hidden;padding: 0;position: absolute;width: 1px;}#sk-container-id-1 div.sk-estimator {font-family: monospace;background-color: #f0f8ff;border: 1px dotted black;border-radius: 0.25em;box-sizing: border-box;margin-bottom: 0.5em;}#sk-container-id-1 div.sk-estimator:hover {background-color: #d4ebff;}#sk-container-id-1 div.sk-parallel-item::after {content: \"\";width: 100%;border-bottom: 1px solid gray;flex-grow: 1;}#sk-container-id-1 div.sk-label:hover label.sk-toggleable__label {background-color: #d4ebff;}#sk-container-id-1 div.sk-serial::before {content: \"\";position: absolute;border-left: 1px solid gray;box-sizing: border-box;top: 0;bottom: 0;left: 50%;z-index: 0;}#sk-container-id-1 div.sk-serial {display: flex;flex-direction: column;align-items: center;background-color: white;padding-right: 0.2em;padding-left: 0.2em;position: relative;}#sk-container-id-1 div.sk-item {position: relative;z-index: 1;}#sk-container-id-1 div.sk-parallel {display: flex;align-items: stretch;justify-content: center;background-color: white;position: relative;}#sk-container-id-1 div.sk-item::before, #sk-container-id-1 div.sk-parallel-item::before {content: \"\";position: absolute;border-left: 1px solid gray;box-sizing: border-box;top: 0;bottom: 0;left: 50%;z-index: -1;}#sk-container-id-1 div.sk-parallel-item {display: flex;flex-direction: column;z-index: 1;position: relative;background-color: white;}#sk-container-id-1 div.sk-parallel-item:first-child::after {align-self: flex-end;width: 50%;}#sk-container-id-1 div.sk-parallel-item:last-child::after {align-self: flex-start;width: 50%;}#sk-container-id-1 div.sk-parallel-item:only-child::after {width: 0;}#sk-container-id-1 div.sk-dashed-wrapped {border: 1px dashed gray;margin: 0 0.4em 0.5em 0.4em;box-sizing: border-box;padding-bottom: 0.4em;background-color: white;}#sk-container-id-1 div.sk-label label {font-family: monospace;font-weight: bold;display: inline-block;line-height: 1.2em;}#sk-container-id-1 div.sk-label-container {text-align: center;}#sk-container-id-1 div.sk-container {/* jupyter's `normalize.less` sets `[hidden] { display: none; }` but bootstrap.min.css set `[hidden] { display: none !important; }` so we also need the `!important` here to be able to override the default hidden behavior on the sphinx rendered scikit-learn.org. See: https://github.com/scikit-learn/scikit-learn/issues/21755 */display: inline-block !important;position: relative;}#sk-container-id-1 div.sk-text-repr-fallback {display: none;}</style><div id=\"sk-container-id-1\" class=\"sk-top-container\"><div class=\"sk-text-repr-fallback\"><pre>LinearRegression()</pre><b>In a Jupyter environment, please rerun this cell to show the HTML representation or trust the notebook. <br />On GitHub, the HTML representation is unable to render, please try loading this page with nbviewer.org.</b></div><div class=\"sk-container\" hidden><div class=\"sk-item\"><div class=\"sk-estimator sk-toggleable\"><input class=\"sk-toggleable__control sk-hidden--visually\" id=\"sk-estimator-id-1\" type=\"checkbox\" checked><label for=\"sk-estimator-id-1\" class=\"sk-toggleable__label sk-toggleable__label-arrow\">LinearRegression</label><div class=\"sk-toggleable__content\"><pre>LinearRegression()</pre></div></div></div></div></div>"
      ],
      "text/plain": [
       "LinearRegression()"
      ]
     },
     "execution_count": 47,
     "metadata": {},
     "output_type": "execute_result"
    }
   ],
   "source": [
    "# Running gradient descent\n",
    "lm.fit(x_train, y_train)"
   ]
  },
  {
   "cell_type": "code",
   "execution_count": 48,
   "id": "5b64266a-0b92-4964-a9e2-53c244003696",
   "metadata": {},
   "outputs": [
    {
     "name": "stdout",
     "output_type": "stream",
     "text": [
      "sklearn w_final:  [ -1.19369078   2.47674379 -14.07755172  86.12102093]\n",
      "sklearn b_final: 36.401530175051874\n"
     ]
    }
   ],
   "source": [
    "print('sklearn w_final: ',lm.coef_) # parameter w\n",
    "print('sklearn b_final:', lm.intercept_) # parameter b"
   ]
  },
  {
   "cell_type": "code",
   "execution_count": 49,
   "id": "91bcdfd3-110c-4322-972f-b9f1a3f43c0b",
   "metadata": {},
   "outputs": [
    {
     "data": {
      "text/plain": [
       "array([ 96.63348513, 138.47723589,  88.54573632, 136.51531644,\n",
       "        89.79275799, 112.86636308, 170.09259395, 144.9458318 ,\n",
       "        90.25425144, 126.87642796])"
      ]
     },
     "execution_count": 49,
     "metadata": {},
     "output_type": "execute_result"
    }
   ],
   "source": [
    "# Predictions of sklearn implementation\n",
    "lm.predict(x_train)"
   ]
  },
  {
   "cell_type": "code",
   "execution_count": 50,
   "id": "1bbd582b-434d-43f0-b8cc-f23a1d060977",
   "metadata": {},
   "outputs": [
    {
     "data": {
      "text/plain": [
       "array([ 96.67092775, 138.32948397,  88.83564269, 136.44802583,\n",
       "        90.07173116, 112.31699498, 170.10995458, 144.58452774,\n",
       "        90.49655519, 127.13615612])"
      ]
     },
     "execution_count": 50,
     "metadata": {},
     "output_type": "execute_result"
    }
   ],
   "source": [
    "# Predictions of our own implementation\n",
    "pred"
   ]
  }
 ],
 "metadata": {
  "kernelspec": {
   "display_name": "Python [conda env:base] *",
   "language": "python",
   "name": "conda-base-py"
  },
  "language_info": {
   "codemirror_mode": {
    "name": "ipython",
    "version": 3
   },
   "file_extension": ".py",
   "mimetype": "text/x-python",
   "name": "python",
   "nbconvert_exporter": "python",
   "pygments_lexer": "ipython3",
   "version": "3.11.4"
  }
 },
 "nbformat": 4,
 "nbformat_minor": 5
}
