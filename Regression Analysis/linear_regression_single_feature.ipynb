{
 "cells": [
  {
   "cell_type": "code",
   "execution_count": 459,
   "id": "4527b64e-b146-4ddb-85ca-b0892a18600e",
   "metadata": {},
   "outputs": [],
   "source": [
    "import math\n",
    "import numpy as np"
   ]
  },
  {
   "cell_type": "code",
   "execution_count": 460,
   "id": "99ecb17b-f350-4761-92ec-611c02afa00e",
   "metadata": {},
   "outputs": [],
   "source": [
    "# Load our data set (Single Feature Data set)\n",
    "#feature (size)\n",
    "x_train = np.array([23, 40, 36, 34, 26, 26, 60, 36, 29, 40, 47, 34, 39, 32, 35, 23, 39, 24, 35, 44])\n",
    "#target value (price)\n",
    "y_train = np.array([105, 150, 105, 126, 63, 106, 150, 157, 79, 154, 170, 66, 104, 129, 140, 130, 155, 52, 101, 103])"
   ]
  },
  {
   "cell_type": "code",
   "execution_count": 461,
   "id": "2c800c6d-d008-443b-857c-9adf4b338d38",
   "metadata": {},
   "outputs": [],
   "source": [
    "#Function to calculate the cost\n",
    "def compute_cost(x, y, w, b):\n",
    "    m = x.shape[0] \n",
    "    cost = 0\n",
    "    \n",
    "    for i in range(m):\n",
    "        f_wb = w * x[i] + b\n",
    "        cost = cost + (f_wb - y[i])**2\n",
    "    total_cost = 1 / (2 * m) * cost\n",
    "\n",
    "    return total_cost"
   ]
  },
  {
   "cell_type": "code",
   "execution_count": 462,
   "id": "fc4a3984-31a3-42ec-b1e7-a2cf2e9ffd83",
   "metadata": {},
   "outputs": [],
   "source": [
    "# Compute Gradient for current w and b\n",
    "def compute_gradient(x, y, w, b): \n",
    "    m = x.shape[0] # Number of training examples   \n",
    "    dj_dw = 0\n",
    "    dj_db = 0\n",
    "    \n",
    "    for i in range(m):  \n",
    "        f_wb = w * x[i] + b \n",
    "        dj_dw_i = (f_wb - y[i]) * x[i] \n",
    "        dj_db_i = f_wb - y[i] \n",
    "        dj_db += dj_db_i\n",
    "        dj_dw += dj_dw_i \n",
    "    \n",
    "    dj_dw = dj_dw / m \n",
    "    dj_db = dj_db / m \n",
    "        \n",
    "    return dj_dw, dj_db"
   ]
  },
  {
   "cell_type": "code",
   "execution_count": 463,
   "id": "2b64e802-6ace-434b-96b6-c3d58780d634",
   "metadata": {},
   "outputs": [],
   "source": [
    "# Perform whole Gradient descent for finding best value of parameters (w and b)\n",
    "def gradient_descent(x, y, w_in, b_in, alpha, epochs, cost_function, gradient_function): \n",
    "    b, w = b_in, w_in # Initial value of parameter b and w\n",
    "    \n",
    "    for i in range(epochs):\n",
    "        # Calculate the gradient and update the parameters using gradient_function\n",
    "        dj_dw, dj_db = gradient_function(x, y, w , b)\n",
    "\n",
    "        # Update Parameters w and b\n",
    "        b = b - alpha * dj_db\n",
    "        w = w - alpha * dj_dw\n",
    "\n",
    "        # Print cost every at intervals 10 times or as many iterations if < 10\n",
    "        if i % math.ceil(epochs/10) == 0:\n",
    "            print(f\"Iteration {i:4}: Cost: {cost_function(x, y, w , b):0.2e} \", end=' ')\n",
    "            print(f\"dj_dw: {dj_dw: 0.3e}, dj_db: {dj_db: 0.3e}  \", end=' ')\n",
    "            print(f\"w: {w: 0.3e}, b:{b: 0.5e}\")\n",
    "\n",
    "    return w, b"
   ]
  },
  {
   "cell_type": "code",
   "execution_count": 464,
   "id": "c522d975-42eb-4820-a354-e7b9307aa350",
   "metadata": {},
   "outputs": [],
   "source": [
    "# Parameters\n",
    "w_init, b_init = 0, 0\n",
    "epochs = 100_000\n",
    "alpha = 1.0e-3"
   ]
  },
  {
   "cell_type": "code",
   "execution_count": 465,
   "id": "f18b9d8c-c397-4509-b9dd-87a6b8cc7da4",
   "metadata": {},
   "outputs": [
    {
     "name": "stdout",
     "output_type": "stream",
     "text": [
      "Iteration    0: Cost: 1.11e+03  dj_dw: -4.282e+03, dj_db: -1.172e+02   w:  4.282e+00, b: 1.17250e-01\n",
      "Iteration 10000: Cost: 4.00e+02  dj_dw:  3.664e-02, dj_db: -1.367e+00   w:  2.768e+00, b: 1.87389e+01\n",
      "Iteration 20000: Cost: 3.89e+02  dj_dw:  2.027e-02, dj_db: -7.562e-01   w:  2.491e+00, b: 2.90551e+01\n",
      "Iteration 30000: Cost: 3.86e+02  dj_dw:  1.121e-02, dj_db: -4.183e-01   w:  2.338e+00, b: 3.47619e+01\n",
      "Iteration 40000: Cost: 3.85e+02  dj_dw:  6.203e-03, dj_db: -2.314e-01   w:  2.254e+00, b: 3.79188e+01\n",
      "Iteration 50000: Cost: 3.84e+02  dj_dw:  3.431e-03, dj_db: -1.280e-01   w:  2.207e+00, b: 3.96652e+01\n",
      "Iteration 60000: Cost: 3.84e+02  dj_dw:  1.898e-03, dj_db: -7.082e-02   w:  2.181e+00, b: 4.06313e+01\n",
      "Iteration 70000: Cost: 3.84e+02  dj_dw:  1.050e-03, dj_db: -3.917e-02   w:  2.167e+00, b: 4.11657e+01\n",
      "Iteration 80000: Cost: 3.84e+02  dj_dw:  5.808e-04, dj_db: -2.167e-02   w:  2.159e+00, b: 4.14613e+01\n",
      "Iteration 90000: Cost: 3.84e+02  dj_dw:  3.213e-04, dj_db: -1.199e-02   w:  2.154e+00, b: 4.16248e+01\n"
     ]
    }
   ],
   "source": [
    "w_final, b_final = gradient_descent(x_train ,y_train, w_init, b_init, alpha, epochs, compute_cost, compute_gradient)"
   ]
  },
  {
   "cell_type": "code",
   "execution_count": 466,
   "id": "1b35459e-73b3-462e-ad30-baa9b0c3917c",
   "metadata": {},
   "outputs": [
    {
     "name": "stdout",
     "output_type": "stream",
     "text": [
      "w_final 2.1517971489966548\n",
      "b_final 41.71528864438751\n"
     ]
    }
   ],
   "source": [
    "# Final W and B \n",
    "print(f'w_final {w_final}')\n",
    "print(f'b_final {b_final:}')"
   ]
  },
  {
   "cell_type": "code",
   "execution_count": 467,
   "id": "cbbbcdf1-16a5-4d4f-b2d8-2185e307e72e",
   "metadata": {},
   "outputs": [],
   "source": [
    "def predict(w, b, x_train):\n",
    "    result = np.zeros(len(x_train))\n",
    "    for i, x in enumerate(x_train):\n",
    "        result[i] = w*x + b\n",
    "    return result"
   ]
  },
  {
   "cell_type": "code",
   "execution_count": 468,
   "id": "a7fa8804-cfe5-47ec-a2e7-558819f3afd8",
   "metadata": {},
   "outputs": [
    {
     "data": {
      "text/plain": [
       "array([ 91.20662307, 127.7871746 , 119.17998601, 114.87639171,\n",
       "        97.66201452,  97.66201452, 170.82311758, 119.17998601,\n",
       "       104.11740597, 127.7871746 , 142.84975465, 114.87639171,\n",
       "       125.63537746, 110.57279741, 117.02818886,  91.20662307,\n",
       "       125.63537746,  93.35842022, 117.02818886, 136.3943632 ])"
      ]
     },
     "execution_count": 468,
     "metadata": {},
     "output_type": "execute_result"
    }
   ],
   "source": [
    "# Predictions of our own implementation\n",
    "pred = predict(w_final, b_final, x_train)\n",
    "pred"
   ]
  },
  {
   "cell_type": "code",
   "execution_count": 469,
   "id": "1204569d-d674-40ba-8580-b35ec89b6092",
   "metadata": {},
   "outputs": [
    {
     "name": "stdout",
     "output_type": "stream",
     "text": [
      "Cost j: 384.315\n"
     ]
    }
   ],
   "source": [
    "j = compute_cost(x_train, y_train, w_final, b_final)\n",
    "print(f'Cost j: {j:.3f}')"
   ]
  },
  {
   "cell_type": "markdown",
   "id": "91c9ab64-4d24-481e-a7e0-b538dd897953",
   "metadata": {},
   "source": [
    "## Use sklearn for testing our own implementation\n",
    "<p>\n",
    "    Scikit-learn (sklearn) is an open-source machine learning library for Python that provides implementations of numerous data modeling and machine learning algorithms, and provides consistent Python APIs. It supports a standardized and concise model interface across models.\n",
    "</p>"
   ]
  },
  {
   "cell_type": "code",
   "execution_count": 470,
   "id": "360ede27-e0f8-4608-ab95-b2176e35dc67",
   "metadata": {},
   "outputs": [],
   "source": [
    "from sklearn.linear_model import LinearRegression"
   ]
  },
  {
   "cell_type": "code",
   "execution_count": 471,
   "id": "93284ca3-e256-452d-80e6-123f145b589d",
   "metadata": {},
   "outputs": [],
   "source": [
    "lm = LinearRegression()"
   ]
  },
  {
   "cell_type": "code",
   "execution_count": 472,
   "id": "0ffb0dee-6f4f-445b-b7ff-ebe9a70df7b0",
   "metadata": {},
   "outputs": [
    {
     "data": {
      "text/html": [
       "<style>#sk-container-id-11 {color: black;}#sk-container-id-11 pre{padding: 0;}#sk-container-id-11 div.sk-toggleable {background-color: white;}#sk-container-id-11 label.sk-toggleable__label {cursor: pointer;display: block;width: 100%;margin-bottom: 0;padding: 0.3em;box-sizing: border-box;text-align: center;}#sk-container-id-11 label.sk-toggleable__label-arrow:before {content: \"▸\";float: left;margin-right: 0.25em;color: #696969;}#sk-container-id-11 label.sk-toggleable__label-arrow:hover:before {color: black;}#sk-container-id-11 div.sk-estimator:hover label.sk-toggleable__label-arrow:before {color: black;}#sk-container-id-11 div.sk-toggleable__content {max-height: 0;max-width: 0;overflow: hidden;text-align: left;background-color: #f0f8ff;}#sk-container-id-11 div.sk-toggleable__content pre {margin: 0.2em;color: black;border-radius: 0.25em;background-color: #f0f8ff;}#sk-container-id-11 input.sk-toggleable__control:checked~div.sk-toggleable__content {max-height: 200px;max-width: 100%;overflow: auto;}#sk-container-id-11 input.sk-toggleable__control:checked~label.sk-toggleable__label-arrow:before {content: \"▾\";}#sk-container-id-11 div.sk-estimator input.sk-toggleable__control:checked~label.sk-toggleable__label {background-color: #d4ebff;}#sk-container-id-11 div.sk-label input.sk-toggleable__control:checked~label.sk-toggleable__label {background-color: #d4ebff;}#sk-container-id-11 input.sk-hidden--visually {border: 0;clip: rect(1px 1px 1px 1px);clip: rect(1px, 1px, 1px, 1px);height: 1px;margin: -1px;overflow: hidden;padding: 0;position: absolute;width: 1px;}#sk-container-id-11 div.sk-estimator {font-family: monospace;background-color: #f0f8ff;border: 1px dotted black;border-radius: 0.25em;box-sizing: border-box;margin-bottom: 0.5em;}#sk-container-id-11 div.sk-estimator:hover {background-color: #d4ebff;}#sk-container-id-11 div.sk-parallel-item::after {content: \"\";width: 100%;border-bottom: 1px solid gray;flex-grow: 1;}#sk-container-id-11 div.sk-label:hover label.sk-toggleable__label {background-color: #d4ebff;}#sk-container-id-11 div.sk-serial::before {content: \"\";position: absolute;border-left: 1px solid gray;box-sizing: border-box;top: 0;bottom: 0;left: 50%;z-index: 0;}#sk-container-id-11 div.sk-serial {display: flex;flex-direction: column;align-items: center;background-color: white;padding-right: 0.2em;padding-left: 0.2em;position: relative;}#sk-container-id-11 div.sk-item {position: relative;z-index: 1;}#sk-container-id-11 div.sk-parallel {display: flex;align-items: stretch;justify-content: center;background-color: white;position: relative;}#sk-container-id-11 div.sk-item::before, #sk-container-id-11 div.sk-parallel-item::before {content: \"\";position: absolute;border-left: 1px solid gray;box-sizing: border-box;top: 0;bottom: 0;left: 50%;z-index: -1;}#sk-container-id-11 div.sk-parallel-item {display: flex;flex-direction: column;z-index: 1;position: relative;background-color: white;}#sk-container-id-11 div.sk-parallel-item:first-child::after {align-self: flex-end;width: 50%;}#sk-container-id-11 div.sk-parallel-item:last-child::after {align-self: flex-start;width: 50%;}#sk-container-id-11 div.sk-parallel-item:only-child::after {width: 0;}#sk-container-id-11 div.sk-dashed-wrapped {border: 1px dashed gray;margin: 0 0.4em 0.5em 0.4em;box-sizing: border-box;padding-bottom: 0.4em;background-color: white;}#sk-container-id-11 div.sk-label label {font-family: monospace;font-weight: bold;display: inline-block;line-height: 1.2em;}#sk-container-id-11 div.sk-label-container {text-align: center;}#sk-container-id-11 div.sk-container {/* jupyter's `normalize.less` sets `[hidden] { display: none; }` but bootstrap.min.css set `[hidden] { display: none !important; }` so we also need the `!important` here to be able to override the default hidden behavior on the sphinx rendered scikit-learn.org. See: https://github.com/scikit-learn/scikit-learn/issues/21755 */display: inline-block !important;position: relative;}#sk-container-id-11 div.sk-text-repr-fallback {display: none;}</style><div id=\"sk-container-id-11\" class=\"sk-top-container\"><div class=\"sk-text-repr-fallback\"><pre>LinearRegression()</pre><b>In a Jupyter environment, please rerun this cell to show the HTML representation or trust the notebook. <br />On GitHub, the HTML representation is unable to render, please try loading this page with nbviewer.org.</b></div><div class=\"sk-container\" hidden><div class=\"sk-item\"><div class=\"sk-estimator sk-toggleable\"><input class=\"sk-toggleable__control sk-hidden--visually\" id=\"sk-estimator-id-11\" type=\"checkbox\" checked><label for=\"sk-estimator-id-11\" class=\"sk-toggleable__label sk-toggleable__label-arrow\">LinearRegression</label><div class=\"sk-toggleable__content\"><pre>LinearRegression()</pre></div></div></div></div></div>"
      ],
      "text/plain": [
       "LinearRegression()"
      ]
     },
     "execution_count": 472,
     "metadata": {},
     "output_type": "execute_result"
    }
   ],
   "source": [
    "# sklearn will a need a 2D array when using it so we'll convert our x_train into a 2D array\n",
    "m = len(x_train)\n",
    "x_train = x_train.reshape(m, 1)\n",
    "lm.fit(x_train,y_train)"
   ]
  },
  {
   "cell_type": "code",
   "execution_count": 473,
   "id": "42da9bf9-32f2-4815-a952-62e5f02ac15e",
   "metadata": {},
   "outputs": [
    {
     "name": "stdout",
     "output_type": "stream",
     "text": [
      "scklearn w_final:  [2.14879495]\n",
      "scklearn b_final: 41.827297332130414\n"
     ]
    }
   ],
   "source": [
    "print('scklearn w_final: ',lm.coef_) # parameter w\n",
    "print('scklearn b_final:', lm.intercept_) # parameter b"
   ]
  },
  {
   "cell_type": "code",
   "execution_count": 474,
   "id": "fd56b9f3-0248-4e5a-8d16-e4f851e20cb6",
   "metadata": {},
   "outputs": [
    {
     "data": {
      "text/plain": [
       "array([ 91.24958113, 127.77909524, 119.18391545, 114.88632556,\n",
       "        97.69596597,  97.69596597, 170.7549942 , 119.18391545,\n",
       "       104.14235082, 127.77909524, 142.82065988, 114.88632556,\n",
       "       125.6303003 , 110.58873566, 117.03512051,  91.24958113,\n",
       "       125.6303003 ,  93.39837608, 117.03512051, 136.37427504])"
      ]
     },
     "execution_count": 474,
     "metadata": {},
     "output_type": "execute_result"
    }
   ],
   "source": [
    "# Predictions of sklearn implementation\n",
    "lm.predict(x_train) "
   ]
  },
  {
   "cell_type": "markdown",
   "id": "785eb7b2-571a-4683-932d-fe9fef414911",
   "metadata": {},
   "source": [
    "<p>\n",
    "     <i> \n",
    "         <strong>\n",
    "             Note:\n",
    "         </strong> \n",
    "         Our own implementation looks correct since we have similar prediction with the sklearn implementation\n",
    "     </i>\n",
    "</p>\n"
   ]
  },
  {
   "cell_type": "markdown",
   "id": "edfcee12-e4c7-400e-82c4-bf592a9f111a",
   "metadata": {
    "deletable": false,
    "editable": false
   },
   "source": [
    "<p style=\"float:right;\"><i>Created By Maroyi Bisoka on 26/01/2025</i></p>"
   ]
  }
 ],
 "metadata": {
  "kernelspec": {
   "display_name": "Python 3 (ipykernel)",
   "language": "python",
   "name": "python3"
  },
  "language_info": {
   "codemirror_mode": {
    "name": "ipython",
    "version": 3
   },
   "file_extension": ".py",
   "mimetype": "text/x-python",
   "name": "python",
   "nbconvert_exporter": "python",
   "pygments_lexer": "ipython3",
   "version": "3.11.4"
  }
 },
 "nbformat": 4,
 "nbformat_minor": 5
}
