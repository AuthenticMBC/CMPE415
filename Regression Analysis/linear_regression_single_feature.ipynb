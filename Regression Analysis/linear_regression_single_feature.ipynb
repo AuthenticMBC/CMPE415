{
 "cells": [
  {
   "cell_type": "markdown",
   "id": "edfcee12-e4c7-400e-82c4-bf592a9f111a",
   "metadata": {
    "deletable": false,
    "editable": false
   },
   "source": [
    "<p style=\"float:right;\"><i>Created By Maroyi Bisoka on 26/01/2025</i></p>"
   ]
  },
  {
   "cell_type": "code",
   "execution_count": 672,
   "id": "4527b64e-b146-4ddb-85ca-b0892a18600e",
   "metadata": {},
   "outputs": [],
   "source": [
    "import math\n",
    "import numpy as np"
   ]
  },
  {
   "cell_type": "markdown",
   "id": "2b9ae173-9b69-4b0d-bbd6-f6c787f3c662",
   "metadata": {},
   "source": [
    "<div>\n",
    "    <h2>Dataset</h2>\n",
    "    <table>\n",
    "        <thead>\n",
    "            <tr>\n",
    "                <th>Size</th>\n",
    "                <th>Price</th>\n",
    "            </tr>\n",
    "        </thead>\n",
    "        <tbody>\n",
    "            <tr><td>23</td><td>105</td></tr>\n",
    "            <tr><td>40</td><td>150</td></tr>\n",
    "            <tr><td>36</td><td>105</td></tr>\n",
    "            <tr><td>34</td><td>126</td></tr>\n",
    "            <tr><td>26</td><td>63</td></tr>\n",
    "            <tr><td>26</td><td>106</td></tr>\n",
    "            <tr><td>60</td><td>150</td></tr>\n",
    "            <tr><td>36</td><td>157</td></tr>\n",
    "            <tr><td>29</td><td>79</td></tr>\n",
    "            <tr><td>40</td><td>154</td></tr>\n",
    "        </tbody>\n",
    "    </table>\n",
    "</div>"
   ]
  },
  {
   "cell_type": "code",
   "execution_count": 674,
   "id": "99ecb17b-f350-4761-92ec-611c02afa00e",
   "metadata": {},
   "outputs": [],
   "source": [
    "# Load our data set (Single Feature Data set)\n",
    "#feature (size)\n",
    "x_train = np.array([23, 40, 36, 34, 26, 26, 60, 36, 29, 40])\n",
    "#target value (price)\n",
    "y_train = np.array([105, 150, 105, 126, 63, 106, 150, 157, 79, 154])"
   ]
  },
  {
   "cell_type": "code",
   "execution_count": 675,
   "id": "2c800c6d-d008-443b-857c-9adf4b338d38",
   "metadata": {},
   "outputs": [],
   "source": [
    "#Function to calculate the cost\n",
    "def compute_cost(x, y, w, b):\n",
    "    m = x.shape[0] \n",
    "    cost = 0.0\n",
    "    \n",
    "    for i in range(m):\n",
    "        f_wb = w * x[i] + b\n",
    "        cost = cost + (f_wb - y[i])**2\n",
    "    total_cost = 1 / (2 * m) * cost\n",
    "\n",
    "    return total_cost"
   ]
  },
  {
   "cell_type": "code",
   "execution_count": 676,
   "id": "fc4a3984-31a3-42ec-b1e7-a2cf2e9ffd83",
   "metadata": {},
   "outputs": [],
   "source": [
    "# Compute Gradient for current w and b\n",
    "def compute_gradient(x, y, w, b): \n",
    "    m = x.shape[0] # Number of training examples   \n",
    "    dj_dw = 0.0\n",
    "    dj_db = 0.0\n",
    "    \n",
    "    for i in range(m):  \n",
    "        f_wb = w * x[i] + b \n",
    "        dj_dw_i = (f_wb - y[i]) * x[i] \n",
    "        dj_db_i = f_wb - y[i] \n",
    "        dj_db += dj_db_i\n",
    "        dj_dw += dj_dw_i \n",
    "    \n",
    "    dj_dw = dj_dw / m \n",
    "    dj_db = dj_db / m \n",
    "        \n",
    "    return dj_dw, dj_db"
   ]
  },
  {
   "cell_type": "code",
   "execution_count": 677,
   "id": "2b64e802-6ace-434b-96b6-c3d58780d634",
   "metadata": {},
   "outputs": [],
   "source": [
    "# Perform whole Gradient descent for finding best value of parameters (w and b)\n",
    "def gradient_descent(x, y, w_in, b_in, alpha, epochs, cost_function, gradient_function): \n",
    "    b, w = b_in, w_in # Initial value of parameter b and w\n",
    "    \n",
    "    for i in range(epochs):\n",
    "        # Calculate the gradient and update the parameters using gradient_function\n",
    "        dj_dw, dj_db = gradient_function(x, y, w , b)\n",
    "\n",
    "        # Update Parameters w and b\n",
    "        b = b - alpha * dj_db\n",
    "        w = w - alpha * dj_dw\n",
    "\n",
    "        # Print cost every at intervals 10 times or as many iterations if < 10\n",
    "        if i % math.ceil(epochs/10) == 0:\n",
    "            print(f\"Iteration {i:4}: Cost: {cost_function(x, y, w , b):0.2e} \", end=' ')\n",
    "            print(f\"dj_dw: {dj_dw: 0.3e}, dj_db: {dj_db: 0.3e}  \", end=' ')\n",
    "            print(f\"w: {w: 0.3e}, b:{b: 0.5e}\")\n",
    "\n",
    "    return w, b"
   ]
  },
  {
   "cell_type": "code",
   "execution_count": 678,
   "id": "c522d975-42eb-4820-a354-e7b9307aa350",
   "metadata": {},
   "outputs": [],
   "source": [
    "# Parameters\n",
    "w_init, b_init = 0, 0\n",
    "epochs = 100_000\n",
    "alpha = 1.0e-3"
   ]
  },
  {
   "cell_type": "code",
   "execution_count": 679,
   "id": "f18b9d8c-c397-4509-b9dd-87a6b8cc7da4",
   "metadata": {},
   "outputs": [
    {
     "name": "stdout",
     "output_type": "stream",
     "text": [
      "Iteration    0: Cost: 1.13e+03  dj_dw: -4.398e+03, dj_db: -1.195e+02   w:  4.398e+00, b: 1.19500e-01\n",
      "Iteration 10000: Cost: 2.87e+02  dj_dw:  4.286e-02, dj_db: -1.625e+00   w:  2.667e+00, b: 2.45385e+01\n",
      "Iteration 20000: Cost: 2.74e+02  dj_dw:  1.988e-02, dj_db: -7.537e-01   w:  2.368e+00, b: 3.58790e+01\n",
      "Iteration 30000: Cost: 2.71e+02  dj_dw:  9.222e-03, dj_db: -3.496e-01   w:  2.229e+00, b: 4.11396e+01\n",
      "Iteration 40000: Cost: 2.70e+02  dj_dw:  4.278e-03, dj_db: -1.622e-01   w:  2.165e+00, b: 4.35798e+01\n",
      "Iteration 50000: Cost: 2.70e+02  dj_dw:  1.984e-03, dj_db: -7.524e-02   w:  2.135e+00, b: 4.47118e+01\n",
      "Iteration 60000: Cost: 2.70e+02  dj_dw:  9.205e-04, dj_db: -3.490e-02   w:  2.121e+00, b: 4.52369e+01\n",
      "Iteration 70000: Cost: 2.70e+02  dj_dw:  4.270e-04, dj_db: -1.619e-02   w:  2.114e+00, b: 4.54804e+01\n",
      "Iteration 80000: Cost: 2.70e+02  dj_dw:  1.981e-04, dj_db: -7.510e-03   w:  2.111e+00, b: 4.55934e+01\n",
      "Iteration 90000: Cost: 2.70e+02  dj_dw:  9.188e-05, dj_db: -3.483e-03   w:  2.110e+00, b: 4.56458e+01\n"
     ]
    }
   ],
   "source": [
    "w_final, b_final = gradient_descent(x_train ,y_train, w_init, b_init, alpha, epochs, compute_cost, compute_gradient)"
   ]
  },
  {
   "cell_type": "code",
   "execution_count": 680,
   "id": "1b35459e-73b3-462e-ad30-baa9b0c3917c",
   "metadata": {},
   "outputs": [
    {
     "name": "stdout",
     "output_type": "stream",
     "text": [
      "w_final 2.1093784193917466\n",
      "b_final 45.67013943111941\n"
     ]
    }
   ],
   "source": [
    "# Final W and B \n",
    "print(f'w_final {w_final}')\n",
    "print(f'b_final {b_final:}')"
   ]
  },
  {
   "cell_type": "code",
   "execution_count": 681,
   "id": "cbbbcdf1-16a5-4d4f-b2d8-2185e307e72e",
   "metadata": {},
   "outputs": [],
   "source": [
    "def predict(w, b, x_train):\n",
    "    result = np.zeros(len(x_train))\n",
    "    for i, x in enumerate(x_train):\n",
    "        result[i] = w*x + b\n",
    "    return result"
   ]
  },
  {
   "cell_type": "code",
   "execution_count": 682,
   "id": "a7fa8804-cfe5-47ec-a2e7-558819f3afd8",
   "metadata": {},
   "outputs": [
    {
     "data": {
      "text/plain": [
       "array([ 94.18584308, 130.04527621, 121.60776253, 117.38900569,\n",
       "       100.51397834, 100.51397834, 172.23284459, 121.60776253,\n",
       "       106.84211359, 130.04527621])"
      ]
     },
     "execution_count": 682,
     "metadata": {},
     "output_type": "execute_result"
    }
   ],
   "source": [
    "# Predictions of our own implementation\n",
    "pred = predict(w_final, b_final, x_train)\n",
    "pred"
   ]
  },
  {
   "cell_type": "code",
   "execution_count": 683,
   "id": "1204569d-d674-40ba-8580-b35ec89b6092",
   "metadata": {},
   "outputs": [
    {
     "name": "stdout",
     "output_type": "stream",
     "text": [
      "Cost j: 269.921\n"
     ]
    }
   ],
   "source": [
    "j = compute_cost(x_train, y_train, w_final, b_final)\n",
    "print(f'Cost j: {j:.3f}')"
   ]
  },
  {
   "cell_type": "markdown",
   "id": "91c9ab64-4d24-481e-a7e0-b538dd897953",
   "metadata": {},
   "source": [
    "## Use sklearn for testing our own implementation\n",
    "<p>\n",
    "    Scikit-learn (sklearn) is an open-source machine learning library for Python that provides implementations of numerous data modeling and machine learning algorithms, and provides consistent Python APIs. It supports a standardized and concise model interface across models.\n",
    "</p>"
   ]
  },
  {
   "cell_type": "code",
   "execution_count": 685,
   "id": "360ede27-e0f8-4608-ab95-b2176e35dc67",
   "metadata": {},
   "outputs": [],
   "source": [
    "from sklearn.linear_model import LinearRegression"
   ]
  },
  {
   "cell_type": "code",
   "execution_count": 686,
   "id": "93284ca3-e256-452d-80e6-123f145b589d",
   "metadata": {},
   "outputs": [],
   "source": [
    "lm = LinearRegression()"
   ]
  },
  {
   "cell_type": "code",
   "execution_count": 687,
   "id": "0ffb0dee-6f4f-445b-b7ff-ebe9a70df7b0",
   "metadata": {},
   "outputs": [
    {
     "data": {
      "text/html": [
       "<style>#sk-container-id-20 {color: black;}#sk-container-id-20 pre{padding: 0;}#sk-container-id-20 div.sk-toggleable {background-color: white;}#sk-container-id-20 label.sk-toggleable__label {cursor: pointer;display: block;width: 100%;margin-bottom: 0;padding: 0.3em;box-sizing: border-box;text-align: center;}#sk-container-id-20 label.sk-toggleable__label-arrow:before {content: \"▸\";float: left;margin-right: 0.25em;color: #696969;}#sk-container-id-20 label.sk-toggleable__label-arrow:hover:before {color: black;}#sk-container-id-20 div.sk-estimator:hover label.sk-toggleable__label-arrow:before {color: black;}#sk-container-id-20 div.sk-toggleable__content {max-height: 0;max-width: 0;overflow: hidden;text-align: left;background-color: #f0f8ff;}#sk-container-id-20 div.sk-toggleable__content pre {margin: 0.2em;color: black;border-radius: 0.25em;background-color: #f0f8ff;}#sk-container-id-20 input.sk-toggleable__control:checked~div.sk-toggleable__content {max-height: 200px;max-width: 100%;overflow: auto;}#sk-container-id-20 input.sk-toggleable__control:checked~label.sk-toggleable__label-arrow:before {content: \"▾\";}#sk-container-id-20 div.sk-estimator input.sk-toggleable__control:checked~label.sk-toggleable__label {background-color: #d4ebff;}#sk-container-id-20 div.sk-label input.sk-toggleable__control:checked~label.sk-toggleable__label {background-color: #d4ebff;}#sk-container-id-20 input.sk-hidden--visually {border: 0;clip: rect(1px 1px 1px 1px);clip: rect(1px, 1px, 1px, 1px);height: 1px;margin: -1px;overflow: hidden;padding: 0;position: absolute;width: 1px;}#sk-container-id-20 div.sk-estimator {font-family: monospace;background-color: #f0f8ff;border: 1px dotted black;border-radius: 0.25em;box-sizing: border-box;margin-bottom: 0.5em;}#sk-container-id-20 div.sk-estimator:hover {background-color: #d4ebff;}#sk-container-id-20 div.sk-parallel-item::after {content: \"\";width: 100%;border-bottom: 1px solid gray;flex-grow: 1;}#sk-container-id-20 div.sk-label:hover label.sk-toggleable__label {background-color: #d4ebff;}#sk-container-id-20 div.sk-serial::before {content: \"\";position: absolute;border-left: 1px solid gray;box-sizing: border-box;top: 0;bottom: 0;left: 50%;z-index: 0;}#sk-container-id-20 div.sk-serial {display: flex;flex-direction: column;align-items: center;background-color: white;padding-right: 0.2em;padding-left: 0.2em;position: relative;}#sk-container-id-20 div.sk-item {position: relative;z-index: 1;}#sk-container-id-20 div.sk-parallel {display: flex;align-items: stretch;justify-content: center;background-color: white;position: relative;}#sk-container-id-20 div.sk-item::before, #sk-container-id-20 div.sk-parallel-item::before {content: \"\";position: absolute;border-left: 1px solid gray;box-sizing: border-box;top: 0;bottom: 0;left: 50%;z-index: -1;}#sk-container-id-20 div.sk-parallel-item {display: flex;flex-direction: column;z-index: 1;position: relative;background-color: white;}#sk-container-id-20 div.sk-parallel-item:first-child::after {align-self: flex-end;width: 50%;}#sk-container-id-20 div.sk-parallel-item:last-child::after {align-self: flex-start;width: 50%;}#sk-container-id-20 div.sk-parallel-item:only-child::after {width: 0;}#sk-container-id-20 div.sk-dashed-wrapped {border: 1px dashed gray;margin: 0 0.4em 0.5em 0.4em;box-sizing: border-box;padding-bottom: 0.4em;background-color: white;}#sk-container-id-20 div.sk-label label {font-family: monospace;font-weight: bold;display: inline-block;line-height: 1.2em;}#sk-container-id-20 div.sk-label-container {text-align: center;}#sk-container-id-20 div.sk-container {/* jupyter's `normalize.less` sets `[hidden] { display: none; }` but bootstrap.min.css set `[hidden] { display: none !important; }` so we also need the `!important` here to be able to override the default hidden behavior on the sphinx rendered scikit-learn.org. See: https://github.com/scikit-learn/scikit-learn/issues/21755 */display: inline-block !important;position: relative;}#sk-container-id-20 div.sk-text-repr-fallback {display: none;}</style><div id=\"sk-container-id-20\" class=\"sk-top-container\"><div class=\"sk-text-repr-fallback\"><pre>LinearRegression()</pre><b>In a Jupyter environment, please rerun this cell to show the HTML representation or trust the notebook. <br />On GitHub, the HTML representation is unable to render, please try loading this page with nbviewer.org.</b></div><div class=\"sk-container\" hidden><div class=\"sk-item\"><div class=\"sk-estimator sk-toggleable\"><input class=\"sk-toggleable__control sk-hidden--visually\" id=\"sk-estimator-id-20\" type=\"checkbox\" checked><label for=\"sk-estimator-id-20\" class=\"sk-toggleable__label sk-toggleable__label-arrow\">LinearRegression</label><div class=\"sk-toggleable__content\"><pre>LinearRegression()</pre></div></div></div></div></div>"
      ],
      "text/plain": [
       "LinearRegression()"
      ]
     },
     "execution_count": 687,
     "metadata": {},
     "output_type": "execute_result"
    }
   ],
   "source": [
    "# sklearn will a need a 2D array when using it so we'll convert our x_train into a 2D array\n",
    "m = x_train.shape[0]\n",
    "x_train = x_train.reshape(m, 1)\n",
    "lm.fit(x_train,y_train)"
   ]
  },
  {
   "cell_type": "code",
   "execution_count": 688,
   "id": "42da9bf9-32f2-4815-a952-62e5f02ac15e",
   "metadata": {},
   "outputs": [
    {
     "name": "stdout",
     "output_type": "stream",
     "text": [
      "sklearn w_final:  [2.10882353]\n",
      "sklearn b_final: 45.691176470588246\n"
     ]
    }
   ],
   "source": [
    "print('sklearn w_final: ',lm.coef_) # parameter w\n",
    "print('sklearn b_final:', lm.intercept_) # parameter b"
   ]
  },
  {
   "cell_type": "code",
   "execution_count": 689,
   "id": "fd56b9f3-0248-4e5a-8d16-e4f851e20cb6",
   "metadata": {},
   "outputs": [
    {
     "data": {
      "text/plain": [
       "array([ 94.19411765, 130.04411765, 121.60882353, 117.39117647,\n",
       "       100.52058824, 100.52058824, 172.22058824, 121.60882353,\n",
       "       106.84705882, 130.04411765])"
      ]
     },
     "execution_count": 689,
     "metadata": {},
     "output_type": "execute_result"
    }
   ],
   "source": [
    "# Predictions of sklearn implementation\n",
    "lm.predict(x_train) "
   ]
  },
  {
   "cell_type": "markdown",
   "id": "785eb7b2-571a-4683-932d-fe9fef414911",
   "metadata": {},
   "source": [
    "<p>\n",
    "     <i> \n",
    "         <strong>\n",
    "             Note:\n",
    "         </strong> \n",
    "         Our own implementation looks correct since we have similar prediction with the sklearn implementation\n",
    "     </i>\n",
    "</p>\n"
   ]
  }
 ],
 "metadata": {
  "kernelspec": {
   "display_name": "Python [conda env:base] *",
   "language": "python",
   "name": "conda-base-py"
  },
  "language_info": {
   "codemirror_mode": {
    "name": "ipython",
    "version": 3
   },
   "file_extension": ".py",
   "mimetype": "text/x-python",
   "name": "python",
   "nbconvert_exporter": "python",
   "pygments_lexer": "ipython3",
   "version": "3.11.4"
  }
 },
 "nbformat": 4,
 "nbformat_minor": 5
}
