{
 "cells": [
  {
   "cell_type": "markdown",
   "id": "01d50d5f",
   "metadata": {},
   "source": [
    "\n"
   ]
  },
  {
   "attachments": {
    "output.png": {
     "image/png": "[encoded data removed]"
    }
   },
   "cell_type": "markdown",
   "id": "4fe089ec",
   "metadata": {},
   "source": [
    "<h1>A Star search in Maze Problem - (Path Finding)</h1>\n",
    "\n",
    "This is the maze we're going to run on A* search.<br/>\n",
    "We'll consider :<br/>\n",
    "<i>-1 as a obstacle(wall),</i><br/>\n",
    "<i>0 as no obstacle,</i><br/>\n",
    "<i>1 as location already visited</i><br/>\n",
    "<i>5 as Goal node</i><br/>\n",
    "<i>2 node was selected to be in our path for reaching our goal node</i><br/>\n",
    "<br/><br/><br/>\n",
    "Starting node (3,1) <br/>\n",
    "Goal node (3,5)<br/>\n",
    "![output.png](attachment:output.png)\n",
    "\n",
    "<h1>Heuristic Functions </h1> <br/>\n",
    "h = Manhattan Distance: <i>cost</i> ·|curr_x − goal_x| + |curr_y − goal_y|  # <i>cost</i> = 1.0<br/>\n",
    "g_one =  1.0 + α·(parent_g − 1.0) # α = 0.5 <br/>\n",
    "g = g_one + parent_g <br/>\n",
    "f = h + g <br/>\n",
    "\n",
    "\n",
    "<i>Developed By Maroyi Bisoka on 22/05/2025</i>"
   ]
  },
  {
   "cell_type": "code",
   "execution_count": 432,
   "id": "cb62b8ef",
   "metadata": {},
   "outputs": [],
   "source": [
    "import numpy as np"
   ]
  },
  {
   "cell_type": "code",
   "execution_count": 433,
   "id": "bc347095",
   "metadata": {},
   "outputs": [],
   "source": [
    "class Node:\n",
    "    def __init__(self, row=None, col=None):\n",
    "        self.row = row\n",
    "        self.col = col\n",
    "        \n",
    "\n",
    "class NodeDB(Node):\n",
    "    def __init__(self, row=None, col=None, h=None, g=None, f=None):\n",
    "        super().__init__(row, col)\n",
    "        self.h = h\n",
    "        self.g = g\n",
    "        self.f = f"
   ]
  },
  {
   "cell_type": "code",
   "execution_count": 434,
   "id": "93c3331f",
   "metadata": {},
   "outputs": [],
   "source": [
    "def manhattan_distance(curr_row, curr_col, goal):\n",
    "    cost = 1.0\n",
    "    return cost * (abs(curr_row - goal.row) + abs(curr_col - goal.col))\n",
    "\n",
    "def heuristic_g(goal, parent_g):\n",
    "    alpha = 0.5\n",
    "    h_cost_param = 1.0\n",
    "    g_one = h_cost_param + alpha * (parent_g - h_cost_param)\n",
    "    g = g_one + parent_g\n",
    "    return g"
   ]
  },
  {
   "cell_type": "code",
   "execution_count": 435,
   "id": "c68042b0",
   "metadata": {},
   "outputs": [],
   "source": [
    "def validNode(maze, node):\n",
    "    mazeRows, mazeCol = maze.shape\n",
    "    if node.row < 1 or node.col < 1:\n",
    "        return False\n",
    "    if node.row >= mazeRows or node.col >= mazeCol:\n",
    "        return False\n",
    "    if maze[node.row, node.col] in [-1, 1, 2]:\n",
    "        return False\n",
    "    return True  \n",
    "\n",
    "def copyNode(node1, node2): # Copy value of node2 to node1\n",
    "    node1.row = node2.row\n",
    "    node1.col = node2.col\n",
    "    node1.h = node2.h\n",
    "    node1.g = node2.g\n",
    "    node1.f = node2.f"
   ]
  },
  {
   "cell_type": "code",
   "execution_count": 436,
   "id": "2108f836",
   "metadata": {},
   "outputs": [],
   "source": [
    "def find_min_cost_node(maze, curr_pos, goal, cost_parent_g, min_cost_node, examinedNode):\n",
    "    moves = np.array([(0, 1), (0, -1), (-1, 0), (1, 0)]) # right, left, top, down\n",
    "    min_cost_node.row = None # Clean min_cost_node since it's passing by reference\n",
    "    min_cost_node.col = None # Clean min_cost_node since it's passing by reference\n",
    "    for move in moves:\n",
    "        examinedNode.row = curr_pos.row + move[0]\n",
    "        examinedNode.col = curr_pos.col + move[1]\n",
    "        if validNode(maze, examinedNode): # If node is valid --> proceed\n",
    "            if examinedNode.row == goal.row and examinedNode.col == goal.col : # Found goal node\n",
    "                maze[goal.row, goal.col] = 5 # Number 5 indicate that it's goal node\n",
    "                return 1 # Return from function\n",
    "            \n",
    "#             If examinedNode is not goal node calculate it heurstic f value and compare it to the min to update min_cost_node\n",
    "            examinedNode.h = manhattan_distance(examinedNode.row, examinedNode.col, goal)\n",
    "            examinedNode.g = heuristic_g(goal, cost_parent_g)\n",
    "            examinedNode.f = examinedNode.h + examinedNode.g\n",
    "            maze[examinedNode.row, examinedNode.col] = 1\n",
    "            if min_cost_node.row == None or examinedNode.f < min_cost_node.f : # if min_cost_node is None or if examinedNode.f  is less then current min_cost_node --> update min_cost_node\n",
    "                copyNode(min_cost_node, examinedNode)\n",
    "    maze[min_cost_node.row, min_cost_node.col] = 2\n",
    "    return 0"
   ]
  },
  {
   "cell_type": "code",
   "execution_count": 437,
   "id": "b2060616",
   "metadata": {},
   "outputs": [],
   "source": [
    "def a_star(maze, start, goal):\n",
    "    curr_pos = Node(start.row, start.col)\n",
    "    min_cost_node = NodeDB()\n",
    "    examinedNode = NodeDB()\n",
    "    cost_parent_g = 0\n",
    "    maze[curr_pos.row, curr_pos.col] = 2\n",
    "    print('Path - node position and cost f value')\n",
    "    print(f'{curr_pos.row}x{curr_pos.col} - Start Node')\n",
    "    while True:\n",
    "        if find_min_cost_node(maze, curr_pos, goal, cost_parent_g, min_cost_node, examinedNode):\n",
    "            print(f'{goal.row}x{goal.col} - Goal Node')\n",
    "            break\n",
    "        curr_pos.row = min_cost_node.row\n",
    "        curr_pos.col = min_cost_node.col\n",
    "        cost_parent_g = min_cost_node.g\n",
    "        print(f'{curr_pos.row}x{curr_pos.col} - f={min_cost_node.f:,.4f}')\n",
    "    print('Final Maze')\n",
    "    print(maze)"
   ]
  },
  {
   "cell_type": "code",
   "execution_count": 438,
   "id": "88373c87",
   "metadata": {},
   "outputs": [
    {
     "name": "stdout",
     "output_type": "stream",
     "text": [
      "Path - node position and cost f value\n",
      "3x1 - Start Node\n",
      "3x2 - f=3.5000\n",
      "2x2 - f=5.2500\n",
      "1x2 - f=7.3750\n",
      "1x3 - f=8.0625\n",
      "1x4 - f=9.5938\n",
      "1x5 - f=12.3906\n",
      "2x5 - f=17.0859\n",
      "3x5 - Goal Node\n",
      "Final Maze\n",
      "[[ 0  0  0  0  0  0]\n",
      " [ 0  1  2  2  2  2]\n",
      " [ 0  1  2 -1  1  2]\n",
      " [ 0  2  2 -1  0  5]\n",
      " [ 0  1  1 -1  0  0]\n",
      " [ 0  0  0  0  0  0]]\n"
     ]
    }
   ],
   "source": [
    "row, col = 5, 5 # Number of Row and Col in Maze\n",
    "start = Node(3,1) # Start Node\n",
    "goal = Node(3,5) # Goal Node\n",
    "maze = np.zeros((row+1, col+1), dtype=int) # Since we won't use row, col (0,0) we add +1 row and col\n",
    "maze[2, 3]= maze[3, 3]= maze[4, 3]= -1 # Obstacles \n",
    "a_star(maze, start, goal)"
   ]
  },
  {
   "cell_type": "code",
   "execution_count": null,
   "id": "41044933",
   "metadata": {},
   "outputs": [],
   "source": []
  },
  {
   "cell_type": "code",
   "execution_count": null,
   "id": "6c054a05",
   "metadata": {},
   "outputs": [],
   "source": []
  }
 ],
 "metadata": {
  "kernelspec": {
   "display_name": "Python 3 (ipykernel)",
   "language": "python",
   "name": "python3"
  },
  "language_info": {
   "codemirror_mode": {
    "name": "ipython",
    "version": 3
   },
   "file_extension": ".py",
   "mimetype": "text/x-python",
   "name": "python",
   "nbconvert_exporter": "python",
   "pygments_lexer": "ipython3",
   "version": "3.11.4"
  }
 },
 "nbformat": 4,
 "nbformat_minor": 5
}
