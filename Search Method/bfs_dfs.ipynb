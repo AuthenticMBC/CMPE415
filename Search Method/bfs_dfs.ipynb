{
 "cells": [
  {
   "cell_type": "markdown",
   "id": "d3b58ff3",
   "metadata": {},
   "source": [
    "<i>Created by Maroyi Bisoka on 22/01/2025<i/>"
   ]
  },
  {
   "cell_type": "code",
   "execution_count": 2,
   "id": "f183fd8f",
   "metadata": {},
   "outputs": [],
   "source": [
    "from collections import defaultdict\n",
    "import queue\n",
    "import numpy as np\n",
    "class Graph:\n",
    "    def __init__(self, V):\n",
    "        self.V = V\n",
    "        self.l = defaultdict(list) # Adjacent List \n",
    "    def addEdge(self, i, j, undir=True):\n",
    "        self.l[i].append(j)\n",
    "        if undir:\n",
    "            self.l[j].append(i)\n",
    "            \n",
    "    def bfs(self, start):\n",
    "        q = queue.Queue()\n",
    "        visited = np.zeros(self.V, dtype=bool)\n",
    "        q.put(start) # endqueue\n",
    "        visited[start] = True\n",
    "        while not q.empty():\n",
    "            a = q.get() # dequeue\n",
    "            print(a, end=\" \")\n",
    "            # Push the neighbors if already not visited\n",
    "            for nbr in self.l[a]:\n",
    "                if not visited[nbr]:\n",
    "                    q.put(nbr) \n",
    "                    visited[nbr] = True\n",
    "                    \n",
    "    def dfsHelper(self, start, visited):\n",
    "        visited[start] = True\n",
    "        print(start, end=\" \")\n",
    "        \n",
    "        for nbr in self.l[start]:\n",
    "            if not visited[nbr]:\n",
    "                self.dfsHelper(nbr, visited)\n",
    "    \n",
    "    def dfs(self, start):\n",
    "        visited = np.zeros(self.V, dtype=bool)\n",
    "        self.dfsHelper(start, visited)\n",
    "        "
   ]
  },
  {
   "cell_type": "code",
   "execution_count": 3,
   "id": "53d17ddc",
   "metadata": {},
   "outputs": [],
   "source": [
    "g = Graph(7)\n",
    "g.addEdge(0,1);\n",
    "g.addEdge(1,2);\n",
    "g.addEdge(2,3);\n",
    "g.addEdge(3,5);\n",
    "g.addEdge(5,6);\n",
    "g.addEdge(4,5);\n",
    "g.addEdge(0,4);\n",
    "g.addEdge(3,4);"
   ]
  },
  {
   "cell_type": "code",
   "execution_count": 4,
   "id": "7c77bd38",
   "metadata": {},
   "outputs": [
    {
     "name": "stdout",
     "output_type": "stream",
     "text": [
      "defaultdict(<class 'list'>, {0: [1, 4], 1: [0, 2], 2: [1, 3], 3: [2, 5, 4], 5: [3, 6, 4], 6: [5], 4: [5, 0, 3]})\n"
     ]
    }
   ],
   "source": [
    "print(g.l) # Adjacent List"
   ]
  },
  {
   "cell_type": "code",
   "execution_count": 5,
   "id": "7ce33c57",
   "metadata": {},
   "outputs": [
    {
     "name": "stdout",
     "output_type": "stream",
     "text": [
      "1 0 2 4 3 5 6 "
     ]
    }
   ],
   "source": [
    "g.bfs(1) # BFS traversal"
   ]
  },
  {
   "cell_type": "code",
   "execution_count": 6,
   "id": "19649d79",
   "metadata": {},
   "outputs": [
    {
     "name": "stdout",
     "output_type": "stream",
     "text": [
      "1 0 4 5 3 2 6 "
     ]
    }
   ],
   "source": [
    "g.dfs(1) # DFS Traversal"
   ]
  },
  {
   "cell_type": "code",
   "execution_count": null,
   "id": "ddb8c839",
   "metadata": {},
   "outputs": [],
   "source": []
  }
 ],
 "metadata": {
  "kernelspec": {
   "display_name": "Python 3 (ipykernel)",
   "language": "python",
   "name": "python3"
  },
  "language_info": {
   "codemirror_mode": {
    "name": "ipython",
    "version": 3
   },
   "file_extension": ".py",
   "mimetype": "text/x-python",
   "name": "python",
   "nbconvert_exporter": "python",
   "pygments_lexer": "ipython3",
   "version": "3.11.4"
  }
 },
 "nbformat": 4,
 "nbformat_minor": 5
}
